{
 "cells": [
  {
   "cell_type": "markdown",
   "metadata": {
    "id": "L-slg4dc_dJV"
   },
   "source": [
    "<img src=\"http://imgur.com/1ZcRyrc.png\" style=\"float: left; margin: 20px; height: 55px\">\n",
    "\n",
    "# Project 4 -  West Nile Virus Prediction\n",
    "\n",
    "# Part 1 - Data Cleaning\n",
    "\n",
    "## Contents\n",
    "\n",
    "- [Executive Summary](#Executive-Summary) \n",
    "- [Problem Statement](#Problem-Statement) \n",
    "- [Background and Research](#Background-and-Research) \n",
    "- [Data Cleaning](#Data-Cleaning) \n",
    "\n",
    "# Executive Summary\n",
    "\n",
    "The West Nile Virus (WNV) is a mosquito-borne disease commonly transmitted to humans via the bite of an infected mosquito. The aim of this project was to build a model to predict where pesticides should be sprayed to effectively target WNV in the city of Chicago, Illinois. As part of the Disease And Treatment Agency, we were provided data of mosquito traps (with information on whether WNV was detected), data on pesticide spraying and data on weather conditions. Through exploratory data analysis of the data, we noted that various weather factors such as temperature, relative humidity and precipitation could affect the reproduction and survival rates of mosquitoes, increasing the prevalence of WNV. Analysis on time and seasonality showed that WNV season started in July and lasted till September with the peak in August. The spray dataset was used for data visualisation and showed that there was little change in the number of WNV mosquitoes after spraying - this may be attributed to ineffective spraying, where WNV high risk areas were not sprayed.\n",
    "\n",
    "A total of 4 models were evaluated - (i) Logistic Regression; (ii) Support Vector Classifier; (iii) K-Nearest Neighbors (KNN); and (iv) Random Forest. The data was split into a training and testing dataset. Our target was to achieve an ROC AUC score as well as a recall score of at least 0.7, with Synthetic Minority Oversampling Technique (SMOTE) used in the modelling. Out of the 4 models, only Logistic Regression met the target. It had a testing ROC AUC score of 0.8, and a testing recall score of 0.75. KNN was our baseline model and it had a testing ROC AUC score of 0.75, and a testing recall score of 0.54. The low recall score means many false negatives were predicted by the KNN model, which is unfavourable.\n",
    "\n",
    "A cost-benefit analysis was also done on the data. The costs analysed include the cost of the spraying of pesticides. The benefits analysed include the cost avoidance of medical and productivity costs from preventing cases of WNV through the spraying of pesticides in Chicago. The analysis found that the benefit-cost ratio would be >= 1 if we prevented 100 WNV cases. Spraying the whole of Chicago on a weekly basis was observed to be a costly and inefficient endeavour if undertaken. A more effective approach would be to target spraying at areas that have a high predicted probability of WNV outbreak. \n",
    "\n",
    "The project found that presence of WNV was affected by time of year, with the mosquito season peaking in July to September. The three biggest weather indicators that affected the mosquito outbreak was temperature, humidity, and precipitation. Rain generally led to less mosquitoes in the short term, likely due to disturbance of stagnant water bodies. However, a spike in mosquitoes was also possible after the rain due to creation of new stagnant water bodies. It was discovered that past spray campaigns were poorly targeted and had limited impact on containing the WNV outbreak. Spraying in 2013 took place within range of less than 20% of infected areas. \n",
    "\n",
    "We concluded that weather forecasts should be used to direct spraying efforts, with special attention being paid to periods of warm weather following recent rainfall. Our prediction model should be used to guide future spray campaigns, such as being linked to a frontend application for scientists and biologists to use when collecting mosquito samples. By keying in the relevant data needed as input to the model, they will be able to gauge the probability of WNV being present in the trap.\n",
    "\n",
    "# Problem Statement\n",
    "\n",
    "As part of the Disease And Treatment Agency, division of Societal Cures In Epidemiology and New Creative Engineering (DATA-SCIENCE), we intend to build a model that can predict where pesticides should be sprayed in the city of Chicago to counter the West Nile Virus. We will use Logistic Regression, Random Forest, K-Nearest Neighbours and the Support Vector Classifier as candidate models. The models will mainly be evaluated by their ROC AUC score and their recall score. We define a successful model as one with ROC AUC and Recall scores of at least 0.7. Lastly, we will produce a cost-benefit analysis to study the benefits of spraying pesticides versus the cost of spraying them.\n",
    "\n",
    "# Background and Research\n",
    "\n",
    "The WNV is the top reason for mosquito-borne disease in the continental United States area ([*source*](https://www.cdc.gov/westnile/index.html)). WNV is of particular concern in the Midwestern state of Illnois, where the case and death counts had surpassed all other states in the United States by end-2002 ([*source*](https://dph.illinois.gov/topics-services/diseases-and-conditions/west-nile-virus)). Chicago, Illinois is usually in the top 5 on Orkin's list of the Top 50 Mosquito Cities in the US ([*source*](https://www.nbcchicago.com/news/local/chicago-named-one-of-the-worst-cities-for-mosquitoes-in-us/2517461/)) \\([*source*](https://www.orkin.com/press-room/orkin-releases-top-50-mosquito-cities-list)).\n",
    "\n",
    "Approximately 1 out of every 5 people who are infected develop West Nile Fever, with the symptoms being fever, diarrhoea, vomiting, headaches, body/joint aches, rashes and swollen lymph glands ([*source*](https://www.cdc.gov/westnile/symptoms/index.html)). Frailness and exhaustion from the illness can extend to weeks or months after the onset of the fever ([*source*](https://www.cdc.gov/westnile/symptoms/index.html)). 1 out of 150 develop a severe form of disease which is neuroinvasive in nature (e.g. West Nile encephalitis, meningitis or poliomyelitis) ([*source*](https://www.who.int/news-room/fact-sheets/detail/west-nile-virus)). The symptoms include \"high fever, headache, neck stiffness, stupor, disorientation, coma, tremors, convulsions, muscle weakness, vision loss, numbness and paralysis\" ([*source*](https://www.who.int/news-room/fact-sheets/detail/west-nile-virus)). There may be permanent damage to the central nervous system, with approximately 1 in 10 who are seriously affected dying ([*source*](https://www.cdc.gov/westnile/symptoms/index.html)). For those who survive, it may take weeks or months to recover ([*source*](https://www.cdc.gov/westnile/symptoms/index.html)). \n",
    "\n",
    "Although people of all ages can get severe illness, the risk of severe illness for people above 60 increases from 1 in 150, to 1 in 50 ([*source*](https://www.cdc.gov/westnile/symptoms/index.html)). Infants and immunocompromised people are also more neurologically susceptible and at risk of death ([*source*](https://www.ncbi.nlm.nih.gov/pmc/articles/PMC4939899/)). Other examples of people in the at-risk population are those who have a history of organ transplants, or have prexisting conditions such as cancer, diabetes, hypertension and kidney disease ([*source*](https://www.cdc.gov/westnile/symptoms/index.html)).  There is currently no treatment or vaccine for WNV, only medications for symptomatic relief ([*source*](https://www.cdc.gov/westnile/healthcareproviders/healthCareProviders-TreatmentPrevention.html)). Thus, it is imperative that the problem of WNV is attended to. With respect to this, WNV is mainly tackled at the transmission stage. This entails efforts to reduce the population of mosquitoes, or limit personal exposure to mosquites (e.g. by using mosquito repellents) ([*source*](https://www.cdc.gov/westnile/healthcareproviders/healthCareProviders-TreatmentPrevention.html)). \n",
    "\n",
    "Transmission of WNV is most commonly spread through the bite of an infected mosquito, where the mosquitoes themselves are infected from feeding on infected birds ([*source*](https://www.cdc.gov/westnile/transmission/index.html)). Birds act as reservoirs of the virus, with the virus multiplying in their blood for several days ([*source*](https://www.who.int/news-room/fact-sheets/detail/west-nile-virus)). The virus infects over 250 bird species ([*source*](https://cwhl.vet.cornell.edu/disease/west-nile-virus)). Humans and horses are only infected, but do not act as spreaders of the virus ([*source*](https://www.who.int/news-room/fact-sheets/detail/west-nile-virus)). The exception is transmission through breastfeeding, although that is rare ([*source*](https://www.webmd.com/a-to-z-guides/west-nile-virus-faq)). Culex mosquitoes are the main vectors of the virus, especially Culex pipiens ([*source*](https://www.who.int/news-room/fact-sheets/detail/west-nile-virus)). The mosquito population is the highest in summer, and the WNV season generally reaches its height in  August and September ([*source*](https://www.webmd.com/a-to-z-guides/west-nile-virus-faq)). The mosquito season in Illinois is from early April to mid-October ([*source*](https://cristtermite.com/2021/10/when-does-mosquito-season-end-in-illinois/)).\n",
    "\n",
    "Increased temperatures can contribute to the spread of the virus by promoting viral replication rates in mosquitoes, viral transmisison to birds, and mosquito/bird population growth ([*source*](https://www.ncbi.nlm.nih.gov/pmc/articles/PMC4342965/)). The mosquito population reduces when the temperature drops below 50°F for a prolonged length of time ([*source*](https://cristtermite.com/2021/10/when-does-mosquito-season-end-in-illinois/)). Increased precipitation and wind can promote the reproduction and migration of mosquitoes/birds, but decreased precipitation can also promote this in some cases ([*source*](https://www.ncbi.nlm.nih.gov/pmc/articles/PMC4342965/)). In a study done for Chicago, Illinois for 2004-2008, an increase in temperature was found to be the greatest temporal predictor for an increased number of infected Culex pipiens and Culex restuans mosquitoes ([*source*](https://www.vetmed.wisc.edu/goldberglab/pdf/P069.pdf)). Lower precipitation was the strongest spatial predictor ([*source*](https://www.vetmed.wisc.edu/goldberglab/pdf/P069.pdf)). For some years, a drier spring followed by a wetter summer was observed to promote WNV ([*source*](https://www.vetmed.wisc.edu/goldberglab/pdf/P069.pdf)). In another study on Chicago, it was observed that preceeding warm winters increased the probability for WNV human cases ([*source*](https://journals.plos.org/plosone/article?id=10.1371/journal.pone.0227160)). High humidity favours mosquito activity, and low humidity leads to the opposite ([*source*](https://www.orkin.com/pests/mosquitoes/when-are-mosquitoes-most-active)).\n",
    "\n",
    "Other than solely health concerns, WNV also has major economic consequences, with the 2012 outbreak in Texas causing an estimated $47 million in losses (largely due to lost workdays) ([*source*](https://www.climatecentral.org/news/west-nile-virus-season-to-last-longer-as-climate-changes-16450))."
   ]
  },
  {
   "cell_type": "markdown",
   "metadata": {
    "id": "L-slg4dc_dJV"
   },
   "source": [
    "<img src=\"http://imgur.com/1ZcRyrc.png\" style=\"float: left; margin: 20px; height: 55px\">\n",
    "\n",
    "# Project 4 -  West Nile Virus Prediction\n",
    "\n",
    "# Part 1 - Data Cleaning\n",
    "\n",
    "## Contents\n",
    "\n",
    "- [Executive Summary](#Executive-Summary) \n",
    "- [Problem Statement](#Problem-Statement) \n",
    "- [Background and Research](#Background-and-Research) \n",
    "- [Data Cleaning](#Data-Cleaning) \n",
    "\n",
    "# Executive Summary\n",
    "\n",
    "The West Nile Virus (WNV) is a mosquito-borne disease commonly transmitted to humans via the bite of an infected mosquito. The aim of this project was to build a model to predict where pesticides should be sprayed to effectively target WNV in the city of Chicago, Illinois. As part of the Disease And Treatment Agency, we were provided data of mosquito traps (with information on whether WNV was detected), data on pesticide spraying and data on weather conditions. Through exploratory data analysis of the data, we noted that various weather factors such as temperature, relative humidity and precipitation could affect the reproduction and survival rates of mosquitoes, increasing the prevalence of WNV. Analysis on time and seasonality showed that WNV season started in July and lasted till September with the peak in August. The spray dataset was used for data visualisation and showed that there was little change in the number of WNV mosquitoes after spraying - this may be attributed to ineffective spraying, where WNV high risk areas were not sprayed.\n",
    "\n",
    "A total of 4 models were evaluated - (i) Logistic Regression; (ii) Support Vector Classifier; (iii) K-Nearest Neighbors (KNN); and (iv) Random Forest. The data was split into a training and testing dataset. Our target was to achieve an ROC AUC score as well as a recall score of at least 0.7, with Synthetic Minority Oversampling Technique (SMOTE) used in the modelling. Out of the 4 models, only Logistic Regression met the target. It had a testing ROC AUC score of 0.8, and a testing recall score of 0.75. KNN was our baseline model and it had a testing ROC AUC score of 0.75, and a testing recall score of 0.54. The low recall score means many false negatives were predicted by the KNN model, which is unfavourable.\n",
    "\n",
    "A cost-benefit analysis was also done on the data. The costs analysed include the cost of the spraying of pesticides. The benefits analysed include the cost avoidance of medical and productivity costs from preventing cases of WNV through the spraying of pesticides in Chicago. The analysis found that the benefit-cost ratio would be >= 1 if we prevented 100 WNV cases. Spraying the whole of Chicago on a weekly basis was observed to be a costly and inefficient endeavour if undertaken. A more effective approach would be to target spraying at areas that have a high predicted probability of WNV outbreak. \n",
    "\n",
    "The project found that presence of WNV was affected by time of year, with the mosquito season peaking in July to September. The three biggest weather indicators that affected the mosquito outbreak was temperature, humidity, and precipitation. Rain generally led to less mosquitoes in the short term, likely due to disturbance of stagnant water bodies. However, a spike in mosquitoes was also possible after the rain due to creation of new stagnant water bodies. It was discovered that past spray campaigns were poorly targeted and had limited impact on containing the WNV outbreak. Spraying in 2013 took place within range of less than 20% of infected areas. \n",
    "\n",
    "We concluded that weather forecasts should be used to direct spraying efforts, with special attention being paid to periods of warm weather following recent rainfall. Our prediction model should be used to guide future spray campaigns, such as being linked to a frontend application for scientists and biologists to use when collecting mosquito samples. By keying in the relevant data needed as input to the model, they will be able to gauge the probability of WNV being present in the trap.\n",
    "\n",
    "# Problem Statement\n",
    "\n",
    "As part of the Disease And Treatment Agency, division of Societal Cures In Epidemiology and New Creative Engineering (DATA-SCIENCE), we intend to build a model that can predict where pesticides should be sprayed in the city of Chicago to counter the West Nile Virus. We will use Logistic Regression, Random Forest, K-Nearest Neighbours and the Support Vector Classifier as candidate models. The models will mainly be evaluated by their ROC AUC score and their recall score. We define a successful model as one with ROC AUC and Recall scores of at least 0.7. Lastly, we will produce a cost-benefit analysis to study the benefits of spraying pesticides versus the cost of spraying them.\n",
    "\n",
    "# Background and Research\n",
    "\n",
    "The WNV is the top reason for mosquito-borne disease in the continental United States area ([*source*](https://www.cdc.gov/westnile/index.html)). WNV is of particular concern in the Midwestern state of Illnois, where the case and death counts had surpassed all other states in the United States by end-2002 ([*source*](https://dph.illinois.gov/topics-services/diseases-and-conditions/west-nile-virus)). Chicago, Illinois is usually in the top 5 on Orkin's list of the Top 50 Mosquito Cities in the US ([*source*](https://www.nbcchicago.com/news/local/chicago-named-one-of-the-worst-cities-for-mosquitoes-in-us/2517461/)) \\([*source*](https://www.orkin.com/press-room/orkin-releases-top-50-mosquito-cities-list)).\n",
    "\n",
    "Approximately 1 out of every 5 people who are infected develop West Nile Fever, with the symptoms being fever, diarrhoea, vomiting, headaches, body/joint aches, rashes and swollen lymph glands ([*source*](https://www.cdc.gov/westnile/symptoms/index.html)). Frailness and exhaustion from the illness can extend to weeks or months after the onset of the fever ([*source*](https://www.cdc.gov/westnile/symptoms/index.html)). 1 out of 150 develop a severe form of disease which is neuroinvasive in nature (e.g. West Nile encephalitis, meningitis or poliomyelitis) ([*source*](https://www.who.int/news-room/fact-sheets/detail/west-nile-virus)). The symptoms include \"high fever, headache, neck stiffness, stupor, disorientation, coma, tremors, convulsions, muscle weakness, vision loss, numbness and paralysis\" ([*source*](https://www.who.int/news-room/fact-sheets/detail/west-nile-virus)). There may be permanent damage to the central nervous system, with approximately 1 in 10 who are seriously affected dying ([*source*](https://www.cdc.gov/westnile/symptoms/index.html)). For those who survive, it may take weeks or months to recover ([*source*](https://www.cdc.gov/westnile/symptoms/index.html)). \n",
    "\n",
    "Although people of all ages can get severe illness, the risk of severe illness for people above 60 increases from 1 in 150, to 1 in 50 ([*source*](https://www.cdc.gov/westnile/symptoms/index.html)). Infants and immunocompromised people are also more neurologically susceptible and at risk of death ([*source*](https://www.ncbi.nlm.nih.gov/pmc/articles/PMC4939899/)). Other examples of people in the at-risk population are those who have a history of organ transplants, or have prexisting conditions such as cancer, diabetes, hypertension and kidney disease ([*source*](https://www.cdc.gov/westnile/symptoms/index.html)).  There is currently no treatment or vaccine for WNV, only medications for symptomatic relief ([*source*](https://www.cdc.gov/westnile/healthcareproviders/healthCareProviders-TreatmentPrevention.html)). Thus, it is imperative that the problem of WNV is attended to. With respect to this, WNV is mainly tackled at the transmission stage. This entails efforts to reduce the population of mosquitoes, or limit personal exposure to mosquites (e.g. by using mosquito repellents) ([*source*](https://www.cdc.gov/westnile/healthcareproviders/healthCareProviders-TreatmentPrevention.html)). \n",
    "\n",
    "Transmission of WNV is most commonly spread through the bite of an infected mosquito, where the mosquitoes themselves are infected from feeding on infected birds ([*source*](https://www.cdc.gov/westnile/transmission/index.html)). Birds act as reservoirs of the virus, with the virus multiplying in their blood for several days ([*source*](https://www.who.int/news-room/fact-sheets/detail/west-nile-virus)). The virus infects over 250 bird species ([*source*](https://cwhl.vet.cornell.edu/disease/west-nile-virus)). Humans and horses are only infected, but do not act as spreaders of the virus ([*source*](https://www.who.int/news-room/fact-sheets/detail/west-nile-virus)). The exception is transmission through breastfeeding, although that is rare ([*source*](https://www.webmd.com/a-to-z-guides/west-nile-virus-faq)). Culex mosquitoes are the main vectors of the virus, especially Culex pipiens ([*source*](https://www.who.int/news-room/fact-sheets/detail/west-nile-virus)). The mosquito population is the highest in summer, and the WNV season generally reaches its height in  August and September ([*source*](https://www.webmd.com/a-to-z-guides/west-nile-virus-faq)). The mosquito season in Illinois is from early April to mid-October ([*source*](https://cristtermite.com/2021/10/when-does-mosquito-season-end-in-illinois/)).\n",
    "\n",
    "Increased temperatures can contribute to the spread of the virus by promoting viral replication rates in mosquitoes, viral transmisison to birds, and mosquito/bird population growth ([*source*](https://www.ncbi.nlm.nih.gov/pmc/articles/PMC4342965/)). The mosquito population reduces when the temperature drops below 50°F for a prolonged length of time ([*source*](https://cristtermite.com/2021/10/when-does-mosquito-season-end-in-illinois/)). Increased precipitation and wind can promote the reproduction and migration of mosquitoes/birds, but decreased precipitation can also promote this in some cases ([*source*](https://www.ncbi.nlm.nih.gov/pmc/articles/PMC4342965/)). In a study done for Chicago, Illinois for 2004-2008, an increase in temperature was found to be the greatest temporal predictor for an increased number of infected Culex pipiens and Culex restuans mosquitoes ([*source*](https://www.vetmed.wisc.edu/goldberglab/pdf/P069.pdf)). Lower precipitation was the strongest spatial predictor ([*source*](https://www.vetmed.wisc.edu/goldberglab/pdf/P069.pdf)). For some years, a drier spring followed by a wetter summer was observed to promote WNV ([*source*](https://www.vetmed.wisc.edu/goldberglab/pdf/P069.pdf)). In another study on Chicago, it was observed that preceeding warm winters increased the probability for WNV human cases ([*source*](https://journals.plos.org/plosone/article?id=10.1371/journal.pone.0227160)). High humidity favours mosquito activity, and low humidity leads to the opposite ([*source*](https://www.orkin.com/pests/mosquitoes/when-are-mosquitoes-most-active)).\n",
    "\n",
    "Other than solely health concerns, WNV also has major economic consequences, with the 2012 outbreak in Texas causing an estimated $47 million in losses (largely due to lost workdays) ([*source*](https://www.climatecentral.org/news/west-nile-virus-season-to-last-longer-as-climate-changes-16450))."
   ]
  },
  {
   "cell_type": "markdown",
   "metadata": {
    "id": "41f941f2"
   },
   "source": [
    "# Data Cleaning\n",
    "\n",
    "## Importing necessary libraries"
   ]
  },
  {
   "cell_type": "code",
   "execution_count": 1,
   "metadata": {
    "id": "bfce983c"
   },
   "outputs": [],
   "source": [
    "# Basic libraries\n",
    "import pandas as pd\n",
    "import numpy as np\n",
    "import seaborn as sns\n",
    "import matplotlib.pyplot as plt\n",
    "\n",
    "# For dates\n",
    "from datetime import date\n",
    "from datetime import datetime\n",
    "\n",
    "# For distance\n",
    "import geopy.distance\n",
    "\n",
    "%config InlineBackend.figure_format = 'retina'\n",
    "%matplotlib inline\n",
    "\n",
    "# Overrides Matplotlib theme with Seaborn's \n",
    "sns.set(font_scale = 1.2)\n",
    "sns.set_context('talk')\n",
    "\n",
    "# Enables Pandas to display all the columns\n",
    "pd.set_option('display.max_columns', None)\n",
    "\n",
    "# Enables Pandas to display all the rows\n",
    "pd.set_option('display.max_rows', None)\n",
    "\n",
    "# Enables Pandas to display more text in a column\n",
    "pd.set_option('display.max_colwidth', 100)"
   ]
  },
  {
   "cell_type": "markdown",
   "metadata": {
    "id": "OIttktuTqMzd"
   },
   "source": [
    "## Loading the datasets"
   ]
  },
  {
   "cell_type": "code",
   "execution_count": 2,
   "metadata": {
    "id": "5IdRuN3Vl4Rj"
   },
   "outputs": [],
   "source": [
    "weather = pd.read_csv('../assets/weather.csv')\n",
    "spray = pd.read_csv('../assets/spray.csv')\n",
    "train = pd.read_csv('../assets/train.csv')\n",
    "test = pd.read_csv('../assets/test.csv')"
   ]
  },
  {
   "cell_type": "markdown",
   "metadata": {
    "id": "8d67c66b"
   },
   "source": [
    "## Cleaning the `weather` dataset\n",
    "\n",
    "The data is as follows:\n"
   ]
  },
  {
   "cell_type": "code",
   "execution_count": 3,
   "metadata": {
    "colab": {
     "base_uri": "https://localhost:8080/",
     "height": 303
    },
    "executionInfo": {
     "elapsed": 94,
     "status": "ok",
     "timestamp": 1637236762803,
     "user": {
      "displayName": "Tze Ling Gan",
      "photoUrl": "https://lh3.googleusercontent.com/a/default-user=s64",
      "userId": "17059842666868387383"
     },
     "user_tz": -480
    },
    "id": "d52d4a28",
    "outputId": "cf15d885-6bcf-45ff-db76-c7e8622b960f"
   },
   "outputs": [
    {
     "data": {
      "text/html": [
       "<div>\n",
       "<style scoped>\n",
       "    .dataframe tbody tr th:only-of-type {\n",
       "        vertical-align: middle;\n",
       "    }\n",
       "\n",
       "    .dataframe tbody tr th {\n",
       "        vertical-align: top;\n",
       "    }\n",
       "\n",
       "    .dataframe thead th {\n",
       "        text-align: right;\n",
       "    }\n",
       "</style>\n",
       "<table border=\"1\" class=\"dataframe\">\n",
       "  <thead>\n",
       "    <tr style=\"text-align: right;\">\n",
       "      <th></th>\n",
       "      <th>Station</th>\n",
       "      <th>Date</th>\n",
       "      <th>Tmax</th>\n",
       "      <th>Tmin</th>\n",
       "      <th>Tavg</th>\n",
       "      <th>Depart</th>\n",
       "      <th>DewPoint</th>\n",
       "      <th>WetBulb</th>\n",
       "      <th>Heat</th>\n",
       "      <th>Cool</th>\n",
       "      <th>Sunrise</th>\n",
       "      <th>Sunset</th>\n",
       "      <th>CodeSum</th>\n",
       "      <th>Depth</th>\n",
       "      <th>Water1</th>\n",
       "      <th>SnowFall</th>\n",
       "      <th>PrecipTotal</th>\n",
       "      <th>StnPressure</th>\n",
       "      <th>SeaLevel</th>\n",
       "      <th>ResultSpeed</th>\n",
       "      <th>ResultDir</th>\n",
       "      <th>AvgSpeed</th>\n",
       "    </tr>\n",
       "  </thead>\n",
       "  <tbody>\n",
       "    <tr>\n",
       "      <th>0</th>\n",
       "      <td>1</td>\n",
       "      <td>2007-05-01</td>\n",
       "      <td>83</td>\n",
       "      <td>50</td>\n",
       "      <td>67</td>\n",
       "      <td>14</td>\n",
       "      <td>51</td>\n",
       "      <td>56</td>\n",
       "      <td>0</td>\n",
       "      <td>2</td>\n",
       "      <td>0448</td>\n",
       "      <td>1849</td>\n",
       "      <td></td>\n",
       "      <td>0</td>\n",
       "      <td>M</td>\n",
       "      <td>0.0</td>\n",
       "      <td>0.00</td>\n",
       "      <td>29.10</td>\n",
       "      <td>29.82</td>\n",
       "      <td>1.7</td>\n",
       "      <td>27</td>\n",
       "      <td>9.2</td>\n",
       "    </tr>\n",
       "    <tr>\n",
       "      <th>1</th>\n",
       "      <td>2</td>\n",
       "      <td>2007-05-01</td>\n",
       "      <td>84</td>\n",
       "      <td>52</td>\n",
       "      <td>68</td>\n",
       "      <td>M</td>\n",
       "      <td>51</td>\n",
       "      <td>57</td>\n",
       "      <td>0</td>\n",
       "      <td>3</td>\n",
       "      <td>-</td>\n",
       "      <td>-</td>\n",
       "      <td></td>\n",
       "      <td>M</td>\n",
       "      <td>M</td>\n",
       "      <td>M</td>\n",
       "      <td>0.00</td>\n",
       "      <td>29.18</td>\n",
       "      <td>29.82</td>\n",
       "      <td>2.7</td>\n",
       "      <td>25</td>\n",
       "      <td>9.6</td>\n",
       "    </tr>\n",
       "    <tr>\n",
       "      <th>2</th>\n",
       "      <td>1</td>\n",
       "      <td>2007-05-02</td>\n",
       "      <td>59</td>\n",
       "      <td>42</td>\n",
       "      <td>51</td>\n",
       "      <td>-3</td>\n",
       "      <td>42</td>\n",
       "      <td>47</td>\n",
       "      <td>14</td>\n",
       "      <td>0</td>\n",
       "      <td>0447</td>\n",
       "      <td>1850</td>\n",
       "      <td>BR</td>\n",
       "      <td>0</td>\n",
       "      <td>M</td>\n",
       "      <td>0.0</td>\n",
       "      <td>0.00</td>\n",
       "      <td>29.38</td>\n",
       "      <td>30.09</td>\n",
       "      <td>13.0</td>\n",
       "      <td>4</td>\n",
       "      <td>13.4</td>\n",
       "    </tr>\n",
       "    <tr>\n",
       "      <th>3</th>\n",
       "      <td>2</td>\n",
       "      <td>2007-05-02</td>\n",
       "      <td>60</td>\n",
       "      <td>43</td>\n",
       "      <td>52</td>\n",
       "      <td>M</td>\n",
       "      <td>42</td>\n",
       "      <td>47</td>\n",
       "      <td>13</td>\n",
       "      <td>0</td>\n",
       "      <td>-</td>\n",
       "      <td>-</td>\n",
       "      <td>BR HZ</td>\n",
       "      <td>M</td>\n",
       "      <td>M</td>\n",
       "      <td>M</td>\n",
       "      <td>0.00</td>\n",
       "      <td>29.44</td>\n",
       "      <td>30.08</td>\n",
       "      <td>13.3</td>\n",
       "      <td>2</td>\n",
       "      <td>13.4</td>\n",
       "    </tr>\n",
       "    <tr>\n",
       "      <th>4</th>\n",
       "      <td>1</td>\n",
       "      <td>2007-05-03</td>\n",
       "      <td>66</td>\n",
       "      <td>46</td>\n",
       "      <td>56</td>\n",
       "      <td>2</td>\n",
       "      <td>40</td>\n",
       "      <td>48</td>\n",
       "      <td>9</td>\n",
       "      <td>0</td>\n",
       "      <td>0446</td>\n",
       "      <td>1851</td>\n",
       "      <td></td>\n",
       "      <td>0</td>\n",
       "      <td>M</td>\n",
       "      <td>0.0</td>\n",
       "      <td>0.00</td>\n",
       "      <td>29.39</td>\n",
       "      <td>30.12</td>\n",
       "      <td>11.7</td>\n",
       "      <td>7</td>\n",
       "      <td>11.9</td>\n",
       "    </tr>\n",
       "  </tbody>\n",
       "</table>\n",
       "</div>"
      ],
      "text/plain": [
       "   Station        Date  Tmax  Tmin Tavg Depart  DewPoint WetBulb Heat Cool  \\\n",
       "0        1  2007-05-01    83    50   67     14        51      56    0    2   \n",
       "1        2  2007-05-01    84    52   68      M        51      57    0    3   \n",
       "2        1  2007-05-02    59    42   51     -3        42      47   14    0   \n",
       "3        2  2007-05-02    60    43   52      M        42      47   13    0   \n",
       "4        1  2007-05-03    66    46   56      2        40      48    9    0   \n",
       "\n",
       "  Sunrise Sunset CodeSum Depth Water1 SnowFall PrecipTotal StnPressure  \\\n",
       "0    0448   1849             0      M      0.0        0.00       29.10   \n",
       "1       -      -             M      M        M        0.00       29.18   \n",
       "2    0447   1850      BR     0      M      0.0        0.00       29.38   \n",
       "3       -      -   BR HZ     M      M        M        0.00       29.44   \n",
       "4    0446   1851             0      M      0.0        0.00       29.39   \n",
       "\n",
       "  SeaLevel  ResultSpeed  ResultDir AvgSpeed  \n",
       "0    29.82          1.7         27      9.2  \n",
       "1    29.82          2.7         25      9.6  \n",
       "2    30.09         13.0          4     13.4  \n",
       "3    30.08         13.3          2     13.4  \n",
       "4    30.12         11.7          7     11.9  "
      ]
     },
     "execution_count": 3,
     "metadata": {},
     "output_type": "execute_result"
    }
   ],
   "source": [
    "weather.head()"
   ]
  },
  {
   "cell_type": "markdown",
   "metadata": {
    "id": "bfcfa491"
   },
   "source": [
    "This is the size of the DataFrame in rows and columns:"
   ]
  },
  {
   "cell_type": "code",
   "execution_count": 4,
   "metadata": {
    "colab": {
     "base_uri": "https://localhost:8080/"
    },
    "executionInfo": {
     "elapsed": 92,
     "status": "ok",
     "timestamp": 1637236762804,
     "user": {
      "displayName": "Tze Ling Gan",
      "photoUrl": "https://lh3.googleusercontent.com/a/default-user=s64",
      "userId": "17059842666868387383"
     },
     "user_tz": -480
    },
    "id": "99839e97",
    "outputId": "9f3c95f0-7403-44ec-ce2c-ea24bccbd3aa"
   },
   "outputs": [
    {
     "data": {
      "text/plain": [
       "(2944, 22)"
      ]
     },
     "execution_count": 4,
     "metadata": {},
     "output_type": "execute_result"
    }
   ],
   "source": [
    "weather.shape"
   ]
  },
  {
   "cell_type": "markdown",
   "metadata": {
    "id": "rRowZnpJWQz-"
   },
   "source": [
    "### Standardizing the format of column names \n",
    "\n",
    "This is how the column names look like:"
   ]
  },
  {
   "cell_type": "code",
   "execution_count": 5,
   "metadata": {
    "colab": {
     "base_uri": "https://localhost:8080/"
    },
    "executionInfo": {
     "elapsed": 81,
     "status": "ok",
     "timestamp": 1637236762804,
     "user": {
      "displayName": "Tze Ling Gan",
      "photoUrl": "https://lh3.googleusercontent.com/a/default-user=s64",
      "userId": "17059842666868387383"
     },
     "user_tz": -480
    },
    "id": "vwytliOe-bnz",
    "outputId": "7775ce6c-af7f-45a4-a421-a8099df25cf0"
   },
   "outputs": [
    {
     "data": {
      "text/plain": [
       "Index(['Station', 'Date', 'Tmax', 'Tmin', 'Tavg', 'Depart', 'DewPoint',\n",
       "       'WetBulb', 'Heat', 'Cool', 'Sunrise', 'Sunset', 'CodeSum', 'Depth',\n",
       "       'Water1', 'SnowFall', 'PrecipTotal', 'StnPressure', 'SeaLevel',\n",
       "       'ResultSpeed', 'ResultDir', 'AvgSpeed'],\n",
       "      dtype='object')"
      ]
     },
     "execution_count": 5,
     "metadata": {},
     "output_type": "execute_result"
    }
   ],
   "source": [
    "weather.columns"
   ]
  },
  {
   "cell_type": "markdown",
   "metadata": {
    "id": "jE05v2dfWW_m"
   },
   "source": [
    "An underscore will be inserted to separate words instead of via the capitalisation. The column names will then be converted to lowercase. "
   ]
  },
  {
   "cell_type": "code",
   "execution_count": 6,
   "metadata": {
    "id": "zSCz6KGyVxx0"
   },
   "outputs": [],
   "source": [
    "weather.columns = weather.columns.str.replace('(?<!^)([A-Z])', r'_\\1', regex=True).str.lower()"
   ]
  },
  {
   "cell_type": "markdown",
   "metadata": {
    "id": "8W8sy4s0XJhT"
   },
   "source": [
    "The column names have been converted:"
   ]
  },
  {
   "cell_type": "code",
   "execution_count": 7,
   "metadata": {
    "colab": {
     "base_uri": "https://localhost:8080/"
    },
    "executionInfo": {
     "elapsed": 69,
     "status": "ok",
     "timestamp": 1637236762804,
     "user": {
      "displayName": "Tze Ling Gan",
      "photoUrl": "https://lh3.googleusercontent.com/a/default-user=s64",
      "userId": "17059842666868387383"
     },
     "user_tz": -480
    },
    "id": "PaE30hqWWm7Q",
    "outputId": "ff49853d-9684-4c4b-8bfd-63b259cd82ce"
   },
   "outputs": [
    {
     "data": {
      "text/plain": [
       "Index(['station', 'date', 'tmax', 'tmin', 'tavg', 'depart', 'dew_point',\n",
       "       'wet_bulb', 'heat', 'cool', 'sunrise', 'sunset', 'code_sum', 'depth',\n",
       "       'water1', 'snow_fall', 'precip_total', 'stn_pressure', 'sea_level',\n",
       "       'result_speed', 'result_dir', 'avg_speed'],\n",
       "      dtype='object')"
      ]
     },
     "execution_count": 7,
     "metadata": {},
     "output_type": "execute_result"
    }
   ],
   "source": [
    "weather.columns"
   ]
  },
  {
   "cell_type": "markdown",
   "metadata": {
    "id": "0223a877"
   },
   "source": [
    "### Checking for null, duplicated and missing values"
   ]
  },
  {
   "cell_type": "markdown",
   "metadata": {
    "id": "d7415162"
   },
   "source": [
    "There are no null values in the DataFrame:"
   ]
  },
  {
   "cell_type": "code",
   "execution_count": 8,
   "metadata": {
    "colab": {
     "base_uri": "https://localhost:8080/"
    },
    "executionInfo": {
     "elapsed": 58,
     "status": "ok",
     "timestamp": 1637236762804,
     "user": {
      "displayName": "Tze Ling Gan",
      "photoUrl": "https://lh3.googleusercontent.com/a/default-user=s64",
      "userId": "17059842666868387383"
     },
     "user_tz": -480
    },
    "id": "44490f73",
    "outputId": "90c62d45-c231-4e34-c7f5-c0d90b6f4021"
   },
   "outputs": [
    {
     "data": {
      "text/plain": [
       "0"
      ]
     },
     "execution_count": 8,
     "metadata": {},
     "output_type": "execute_result"
    }
   ],
   "source": [
    "weather.isnull().sum().sum()"
   ]
  },
  {
   "cell_type": "markdown",
   "metadata": {
    "id": "d8cebaea"
   },
   "source": [
    "There are no duplicate rows in the DataFrame:"
   ]
  },
  {
   "cell_type": "code",
   "execution_count": 9,
   "metadata": {
    "colab": {
     "base_uri": "https://localhost:8080/"
    },
    "executionInfo": {
     "elapsed": 47,
     "status": "ok",
     "timestamp": 1637236762804,
     "user": {
      "displayName": "Tze Ling Gan",
      "photoUrl": "https://lh3.googleusercontent.com/a/default-user=s64",
      "userId": "17059842666868387383"
     },
     "user_tz": -480
    },
    "id": "c691a57a",
    "outputId": "6626544c-d742-4106-b1bb-0c44759f3d96",
    "scrolled": true
   },
   "outputs": [
    {
     "data": {
      "text/plain": [
       "0"
      ]
     },
     "execution_count": 9,
     "metadata": {},
     "output_type": "execute_result"
    }
   ],
   "source": [
    "weather.duplicated().sum().sum()"
   ]
  },
  {
   "cell_type": "markdown",
   "metadata": {
    "id": "be80b643"
   },
   "source": [
    "There are a number of missing values denoted by 'M':"
   ]
  },
  {
   "cell_type": "code",
   "execution_count": 10,
   "metadata": {
    "colab": {
     "base_uri": "https://localhost:8080/"
    },
    "executionInfo": {
     "elapsed": 36,
     "status": "ok",
     "timestamp": 1637236762804,
     "user": {
      "displayName": "Tze Ling Gan",
      "photoUrl": "https://lh3.googleusercontent.com/a/default-user=s64",
      "userId": "17059842666868387383"
     },
     "user_tz": -480
    },
    "id": "545e9443",
    "outputId": "652d44bc-3fa4-4a79-e892-458adb875c34"
   },
   "outputs": [
    {
     "data": {
      "text/plain": [
       "tavg              11\n",
       "depart          1472\n",
       "wet_bulb           4\n",
       "heat              11\n",
       "cool              11\n",
       "depth           1472\n",
       "water1          2944\n",
       "snow_fall       1472\n",
       "precip_total       2\n",
       "stn_pressure       4\n",
       "sea_level          9\n",
       "avg_speed          3\n",
       "dtype: int64"
      ]
     },
     "execution_count": 10,
     "metadata": {},
     "output_type": "execute_result"
    }
   ],
   "source": [
    "weather.isin(['M']).sum()[weather.isin(['M']).sum() > 0]"
   ]
  },
  {
   "cell_type": "markdown",
   "metadata": {
    "id": "2208715a"
   },
   "source": [
    "There are a number of trace values denoted by '  T':"
   ]
  },
  {
   "cell_type": "code",
   "execution_count": 11,
   "metadata": {
    "colab": {
     "base_uri": "https://localhost:8080/"
    },
    "executionInfo": {
     "elapsed": 26,
     "status": "ok",
     "timestamp": 1637236762804,
     "user": {
      "displayName": "Tze Ling Gan",
      "photoUrl": "https://lh3.googleusercontent.com/a/default-user=s64",
      "userId": "17059842666868387383"
     },
     "user_tz": -480
    },
    "id": "52d68a67",
    "outputId": "ddb462bf-2d84-4fe0-82c2-d3364ae51945"
   },
   "outputs": [
    {
     "data": {
      "text/plain": [
       "snow_fall        12\n",
       "precip_total    318\n",
       "dtype: int64"
      ]
     },
     "execution_count": 11,
     "metadata": {},
     "output_type": "execute_result"
    }
   ],
   "source": [
    "weather.isin(['  T']).sum()[weather.isin(['  T']).sum() > 0]"
   ]
  },
  {
   "cell_type": "markdown",
   "metadata": {
    "id": "93ce645f"
   },
   "source": [
    "There are a number of missing values denoted by '-':"
   ]
  },
  {
   "cell_type": "code",
   "execution_count": 12,
   "metadata": {
    "colab": {
     "base_uri": "https://localhost:8080/"
    },
    "executionInfo": {
     "elapsed": 476,
     "status": "ok",
     "timestamp": 1637236763265,
     "user": {
      "displayName": "Tze Ling Gan",
      "photoUrl": "https://lh3.googleusercontent.com/a/default-user=s64",
      "userId": "17059842666868387383"
     },
     "user_tz": -480
    },
    "id": "cef85b83",
    "outputId": "a3e82b4a-3ff3-4efb-cf47-4d6173c7f915"
   },
   "outputs": [
    {
     "data": {
      "text/plain": [
       "sunrise    1472\n",
       "sunset     1472\n",
       "dtype: int64"
      ]
     },
     "execution_count": 12,
     "metadata": {},
     "output_type": "execute_result"
    }
   ],
   "source": [
    "weather.isin(['-']).sum()[weather.isin(['-']).sum() > 0]"
   ]
  },
  {
   "cell_type": "markdown",
   "metadata": {
    "id": "8713aa24"
   },
   "source": [
    "There are a number of missing values denoted by ' ':"
   ]
  },
  {
   "cell_type": "code",
   "execution_count": 13,
   "metadata": {
    "colab": {
     "base_uri": "https://localhost:8080/"
    },
    "executionInfo": {
     "elapsed": 14,
     "status": "ok",
     "timestamp": 1637236763265,
     "user": {
      "displayName": "Tze Ling Gan",
      "photoUrl": "https://lh3.googleusercontent.com/a/default-user=s64",
      "userId": "17059842666868387383"
     },
     "user_tz": -480
    },
    "id": "1494594a",
    "outputId": "db12bc27-6787-4080-d954-4e13d7aeb01d",
    "scrolled": true
   },
   "outputs": [
    {
     "data": {
      "text/plain": [
       "code_sum    1609\n",
       "dtype: int64"
      ]
     },
     "execution_count": 13,
     "metadata": {},
     "output_type": "execute_result"
    }
   ],
   "source": [
    "weather.isin([' ']).sum()[weather.isin([' ']).sum() > 0]"
   ]
  },
  {
   "cell_type": "markdown",
   "metadata": {
    "id": "50b67b88"
   },
   "source": [
    "The missing values will be replaced by 'NaN', and the trace values will be replaced by '0' since they are considered undetectable."
   ]
  },
  {
   "cell_type": "code",
   "execution_count": 14,
   "metadata": {
    "id": "4840febb"
   },
   "outputs": [],
   "source": [
    "weather.replace(['M','-',' '], np.nan, inplace=True)\n",
    "weather.replace('  T', 0, inplace=True)"
   ]
  },
  {
   "cell_type": "markdown",
   "metadata": {
    "id": "d64438a4"
   },
   "source": [
    "The percentages of null values in columns are as follows:"
   ]
  },
  {
   "cell_type": "code",
   "execution_count": 15,
   "metadata": {
    "id": "84c58489"
   },
   "outputs": [],
   "source": [
    "def null_pcts(df):\n",
    "    \n",
    "    # Gets the sum of null values in each column \n",
    "    # The sum is converted to a percentage of total column values\n",
    "    pct_null = df.isnull().sum() / df.shape[0] * 100\n",
    "\n",
    "    # Rounds off the percentage to 2 digits\n",
    "    pct_null = round(pct_null, ndigits=2)\n",
    "\n",
    "    # Sort the values in descending order\n",
    "    pct_null = pct_null.sort_values(ascending=False)\n",
    "    \n",
    "    return pct_null"
   ]
  },
  {
   "cell_type": "code",
   "execution_count": 16,
   "metadata": {
    "colab": {
     "base_uri": "https://localhost:8080/"
    },
    "executionInfo": {
     "elapsed": 12,
     "status": "ok",
     "timestamp": 1637236763265,
     "user": {
      "displayName": "Tze Ling Gan",
      "photoUrl": "https://lh3.googleusercontent.com/a/default-user=s64",
      "userId": "17059842666868387383"
     },
     "user_tz": -480
    },
    "id": "9680ee84",
    "outputId": "6e9f35f1-2c8a-475e-b4bb-69f16befa049"
   },
   "outputs": [
    {
     "data": {
      "text/plain": [
       "water1          100.00\n",
       "code_sum         54.65\n",
       "sunrise          50.00\n",
       "depart           50.00\n",
       "snow_fall        50.00\n",
       "depth            50.00\n",
       "sunset           50.00\n",
       "heat              0.37\n",
       "tavg              0.37\n",
       "cool              0.37\n",
       "sea_level         0.31\n",
       "stn_pressure      0.14\n",
       "wet_bulb          0.14\n",
       "avg_speed         0.10\n",
       "precip_total      0.07\n",
       "result_dir        0.00\n",
       "dew_point         0.00\n",
       "result_speed      0.00\n",
       "tmin              0.00\n",
       "tmax              0.00\n",
       "date              0.00\n",
       "station           0.00\n",
       "dtype: float64"
      ]
     },
     "execution_count": 16,
     "metadata": {},
     "output_type": "execute_result"
    }
   ],
   "source": [
    "null_pcts(weather)"
   ]
  },
  {
   "cell_type": "markdown",
   "metadata": {
    "id": "d7b9af7b"
   },
   "source": [
    "In graphical format, the percentages of NaN values for the top 15 columns with NaN values are as follows:"
   ]
  },
  {
   "cell_type": "code",
   "execution_count": 17,
   "metadata": {
    "colab": {
     "base_uri": "https://localhost:8080/",
     "height": 535
    },
    "executionInfo": {
     "elapsed": 1697,
     "status": "ok",
     "timestamp": 1637236764960,
     "user": {
      "displayName": "Tze Ling Gan",
      "photoUrl": "https://lh3.googleusercontent.com/a/default-user=s64",
      "userId": "17059842666868387383"
     },
     "user_tz": -480
    },
    "id": "4efc0547",
    "outputId": "8fa9323a-c05a-4c38-c09f-eb774aebd71d"
   },
   "outputs": [
    {
     "data": {
      "image/png": "[encoded data removed]",
      "text/plain": [
       "<Figure size 1008x576 with 1 Axes>"
      ]
     },
     "metadata": {
      "image/png": {
       "height": 516,
       "width": 903
      }
     },
     "output_type": "display_data"
    }
   ],
   "source": [
    "# Gets the percentage of NaN values in each column\n",
    "isnull_pct = weather.isnull().sum() / weather.shape[0] * 100\n",
    "\n",
    "# Plots a horizontal bar chart of the values\n",
    "ax = isnull_pct.sort_values(ascending=True).tail(15).plot(kind='barh', figsize=(14,8))\n",
    "ax.set_xlabel('NaN values in column (%)')\n",
    "ax.set_title(\"Percentage of NaN values in column (Only top 15 shown)\", fontweight=\"bold\");"
   ]
  },
  {
   "cell_type": "markdown",
   "metadata": {
    "id": "8c2336f5"
   },
   "source": [
    "`water1` has 100% null values. `sunset`, `depth`, `depart`, `snow_fall` and `sunrise` have 50% null values.\n",
    "\n",
    "This is a heatmap to check the distribution of the missing values:"
   ]
  },
  {
   "cell_type": "code",
   "execution_count": 18,
   "metadata": {
    "colab": {
     "base_uri": "https://localhost:8080/",
     "height": 869
    },
    "executionInfo": {
     "elapsed": 1283,
     "status": "ok",
     "timestamp": 1637236766240,
     "user": {
      "displayName": "Tze Ling Gan",
      "photoUrl": "https://lh3.googleusercontent.com/a/default-user=s64",
      "userId": "17059842666868387383"
     },
     "user_tz": -480
    },
    "id": "465f7980",
    "outputId": "637f4d8a-c8e8-4d12-8958-6c4697e0f7b3"
   },
   "outputs": [
    {
     "data": {
      "image/png": "[encoded data removed]",
      "text/plain": [
       "<Figure size 1152x1008 with 1 Axes>"
      ]
     },
     "metadata": {
      "image/png": {
       "height": 847,
       "width": 1015
      }
     },
     "output_type": "display_data"
    }
   ],
   "source": [
    "g = sns.heatmap(weather.T.isnull(), yticklabels=True, cbar=None)\n",
    "g.figure.set_size_inches(16, 14)\n",
    "g.set_title('Heatmap of NaN values',\n",
    "            weight='bold',\n",
    "            pad=10);"
   ]
  },
  {
   "cell_type": "markdown",
   "metadata": {
    "id": "2b3d3416"
   },
   "source": [
    "From the heatmap above, it seems that the null values for `sunset`, `depth`, `depart`, `snow_fall` and `sunrise` are evenly spread. "
   ]
  },
  {
   "cell_type": "code",
   "execution_count": 19,
   "metadata": {
    "colab": {
     "base_uri": "https://localhost:8080/",
     "height": 537
    },
    "executionInfo": {
     "elapsed": 93,
     "status": "ok",
     "timestamp": 1637236766240,
     "user": {
      "displayName": "Tze Ling Gan",
      "photoUrl": "https://lh3.googleusercontent.com/a/default-user=s64",
      "userId": "17059842666868387383"
     },
     "user_tz": -480
    },
    "id": "3c58a87d",
    "outputId": "924236cc-1b79-4342-b0b3-6c5909d1e222"
   },
   "outputs": [
    {
     "data": {
      "text/html": [
       "<div>\n",
       "<style scoped>\n",
       "    .dataframe tbody tr th:only-of-type {\n",
       "        vertical-align: middle;\n",
       "    }\n",
       "\n",
       "    .dataframe tbody tr th {\n",
       "        vertical-align: top;\n",
       "    }\n",
       "\n",
       "    .dataframe thead th {\n",
       "        text-align: right;\n",
       "    }\n",
       "</style>\n",
       "<table border=\"1\" class=\"dataframe\">\n",
       "  <thead>\n",
       "    <tr style=\"text-align: right;\">\n",
       "      <th></th>\n",
       "      <th>station</th>\n",
       "      <th>date</th>\n",
       "      <th>tmax</th>\n",
       "      <th>tmin</th>\n",
       "      <th>tavg</th>\n",
       "      <th>depart</th>\n",
       "      <th>dew_point</th>\n",
       "      <th>wet_bulb</th>\n",
       "      <th>heat</th>\n",
       "      <th>cool</th>\n",
       "      <th>sunrise</th>\n",
       "      <th>sunset</th>\n",
       "      <th>code_sum</th>\n",
       "      <th>depth</th>\n",
       "      <th>water1</th>\n",
       "      <th>snow_fall</th>\n",
       "      <th>precip_total</th>\n",
       "      <th>stn_pressure</th>\n",
       "      <th>sea_level</th>\n",
       "      <th>result_speed</th>\n",
       "      <th>result_dir</th>\n",
       "      <th>avg_speed</th>\n",
       "    </tr>\n",
       "  </thead>\n",
       "  <tbody>\n",
       "    <tr>\n",
       "      <th>0</th>\n",
       "      <td>1</td>\n",
       "      <td>2007-05-01</td>\n",
       "      <td>83</td>\n",
       "      <td>50</td>\n",
       "      <td>67</td>\n",
       "      <td>14</td>\n",
       "      <td>51</td>\n",
       "      <td>56</td>\n",
       "      <td>0</td>\n",
       "      <td>2</td>\n",
       "      <td>0448</td>\n",
       "      <td>1849</td>\n",
       "      <td>NaN</td>\n",
       "      <td>0</td>\n",
       "      <td>NaN</td>\n",
       "      <td>0.0</td>\n",
       "      <td>0.00</td>\n",
       "      <td>29.10</td>\n",
       "      <td>29.82</td>\n",
       "      <td>1.7</td>\n",
       "      <td>27</td>\n",
       "      <td>9.2</td>\n",
       "    </tr>\n",
       "    <tr>\n",
       "      <th>1</th>\n",
       "      <td>2</td>\n",
       "      <td>2007-05-01</td>\n",
       "      <td>84</td>\n",
       "      <td>52</td>\n",
       "      <td>68</td>\n",
       "      <td>NaN</td>\n",
       "      <td>51</td>\n",
       "      <td>57</td>\n",
       "      <td>0</td>\n",
       "      <td>3</td>\n",
       "      <td>NaN</td>\n",
       "      <td>NaN</td>\n",
       "      <td>NaN</td>\n",
       "      <td>NaN</td>\n",
       "      <td>NaN</td>\n",
       "      <td>NaN</td>\n",
       "      <td>0.00</td>\n",
       "      <td>29.18</td>\n",
       "      <td>29.82</td>\n",
       "      <td>2.7</td>\n",
       "      <td>25</td>\n",
       "      <td>9.6</td>\n",
       "    </tr>\n",
       "    <tr>\n",
       "      <th>2</th>\n",
       "      <td>1</td>\n",
       "      <td>2007-05-02</td>\n",
       "      <td>59</td>\n",
       "      <td>42</td>\n",
       "      <td>51</td>\n",
       "      <td>-3</td>\n",
       "      <td>42</td>\n",
       "      <td>47</td>\n",
       "      <td>14</td>\n",
       "      <td>0</td>\n",
       "      <td>0447</td>\n",
       "      <td>1850</td>\n",
       "      <td>BR</td>\n",
       "      <td>0</td>\n",
       "      <td>NaN</td>\n",
       "      <td>0.0</td>\n",
       "      <td>0.00</td>\n",
       "      <td>29.38</td>\n",
       "      <td>30.09</td>\n",
       "      <td>13.0</td>\n",
       "      <td>4</td>\n",
       "      <td>13.4</td>\n",
       "    </tr>\n",
       "    <tr>\n",
       "      <th>3</th>\n",
       "      <td>2</td>\n",
       "      <td>2007-05-02</td>\n",
       "      <td>60</td>\n",
       "      <td>43</td>\n",
       "      <td>52</td>\n",
       "      <td>NaN</td>\n",
       "      <td>42</td>\n",
       "      <td>47</td>\n",
       "      <td>13</td>\n",
       "      <td>0</td>\n",
       "      <td>NaN</td>\n",
       "      <td>NaN</td>\n",
       "      <td>BR HZ</td>\n",
       "      <td>NaN</td>\n",
       "      <td>NaN</td>\n",
       "      <td>NaN</td>\n",
       "      <td>0.00</td>\n",
       "      <td>29.44</td>\n",
       "      <td>30.08</td>\n",
       "      <td>13.3</td>\n",
       "      <td>2</td>\n",
       "      <td>13.4</td>\n",
       "    </tr>\n",
       "    <tr>\n",
       "      <th>4</th>\n",
       "      <td>1</td>\n",
       "      <td>2007-05-03</td>\n",
       "      <td>66</td>\n",
       "      <td>46</td>\n",
       "      <td>56</td>\n",
       "      <td>2</td>\n",
       "      <td>40</td>\n",
       "      <td>48</td>\n",
       "      <td>9</td>\n",
       "      <td>0</td>\n",
       "      <td>0446</td>\n",
       "      <td>1851</td>\n",
       "      <td>NaN</td>\n",
       "      <td>0</td>\n",
       "      <td>NaN</td>\n",
       "      <td>0.0</td>\n",
       "      <td>0.00</td>\n",
       "      <td>29.39</td>\n",
       "      <td>30.12</td>\n",
       "      <td>11.7</td>\n",
       "      <td>7</td>\n",
       "      <td>11.9</td>\n",
       "    </tr>\n",
       "    <tr>\n",
       "      <th>5</th>\n",
       "      <td>2</td>\n",
       "      <td>2007-05-03</td>\n",
       "      <td>67</td>\n",
       "      <td>48</td>\n",
       "      <td>58</td>\n",
       "      <td>NaN</td>\n",
       "      <td>40</td>\n",
       "      <td>50</td>\n",
       "      <td>7</td>\n",
       "      <td>0</td>\n",
       "      <td>NaN</td>\n",
       "      <td>NaN</td>\n",
       "      <td>HZ</td>\n",
       "      <td>NaN</td>\n",
       "      <td>NaN</td>\n",
       "      <td>NaN</td>\n",
       "      <td>0.00</td>\n",
       "      <td>29.46</td>\n",
       "      <td>30.12</td>\n",
       "      <td>12.9</td>\n",
       "      <td>6</td>\n",
       "      <td>13.2</td>\n",
       "    </tr>\n",
       "    <tr>\n",
       "      <th>6</th>\n",
       "      <td>1</td>\n",
       "      <td>2007-05-04</td>\n",
       "      <td>66</td>\n",
       "      <td>49</td>\n",
       "      <td>58</td>\n",
       "      <td>4</td>\n",
       "      <td>41</td>\n",
       "      <td>50</td>\n",
       "      <td>7</td>\n",
       "      <td>0</td>\n",
       "      <td>0444</td>\n",
       "      <td>1852</td>\n",
       "      <td>RA</td>\n",
       "      <td>0</td>\n",
       "      <td>NaN</td>\n",
       "      <td>0.0</td>\n",
       "      <td>0</td>\n",
       "      <td>29.31</td>\n",
       "      <td>30.05</td>\n",
       "      <td>10.4</td>\n",
       "      <td>8</td>\n",
       "      <td>10.8</td>\n",
       "    </tr>\n",
       "    <tr>\n",
       "      <th>7</th>\n",
       "      <td>2</td>\n",
       "      <td>2007-05-04</td>\n",
       "      <td>78</td>\n",
       "      <td>51</td>\n",
       "      <td>NaN</td>\n",
       "      <td>NaN</td>\n",
       "      <td>42</td>\n",
       "      <td>50</td>\n",
       "      <td>NaN</td>\n",
       "      <td>NaN</td>\n",
       "      <td>NaN</td>\n",
       "      <td>NaN</td>\n",
       "      <td>NaN</td>\n",
       "      <td>NaN</td>\n",
       "      <td>NaN</td>\n",
       "      <td>NaN</td>\n",
       "      <td>0.00</td>\n",
       "      <td>29.36</td>\n",
       "      <td>30.04</td>\n",
       "      <td>10.1</td>\n",
       "      <td>7</td>\n",
       "      <td>10.4</td>\n",
       "    </tr>\n",
       "    <tr>\n",
       "      <th>8</th>\n",
       "      <td>1</td>\n",
       "      <td>2007-05-05</td>\n",
       "      <td>66</td>\n",
       "      <td>53</td>\n",
       "      <td>60</td>\n",
       "      <td>5</td>\n",
       "      <td>38</td>\n",
       "      <td>49</td>\n",
       "      <td>5</td>\n",
       "      <td>0</td>\n",
       "      <td>0443</td>\n",
       "      <td>1853</td>\n",
       "      <td>NaN</td>\n",
       "      <td>0</td>\n",
       "      <td>NaN</td>\n",
       "      <td>0.0</td>\n",
       "      <td>0</td>\n",
       "      <td>29.40</td>\n",
       "      <td>30.10</td>\n",
       "      <td>11.7</td>\n",
       "      <td>7</td>\n",
       "      <td>12.0</td>\n",
       "    </tr>\n",
       "    <tr>\n",
       "      <th>9</th>\n",
       "      <td>2</td>\n",
       "      <td>2007-05-05</td>\n",
       "      <td>66</td>\n",
       "      <td>54</td>\n",
       "      <td>60</td>\n",
       "      <td>NaN</td>\n",
       "      <td>39</td>\n",
       "      <td>50</td>\n",
       "      <td>5</td>\n",
       "      <td>0</td>\n",
       "      <td>NaN</td>\n",
       "      <td>NaN</td>\n",
       "      <td>NaN</td>\n",
       "      <td>NaN</td>\n",
       "      <td>NaN</td>\n",
       "      <td>NaN</td>\n",
       "      <td>0</td>\n",
       "      <td>29.46</td>\n",
       "      <td>30.09</td>\n",
       "      <td>11.2</td>\n",
       "      <td>7</td>\n",
       "      <td>11.5</td>\n",
       "    </tr>\n",
       "  </tbody>\n",
       "</table>\n",
       "</div>"
      ],
      "text/plain": [
       "   station        date  tmax  tmin tavg depart  dew_point wet_bulb heat cool  \\\n",
       "0        1  2007-05-01    83    50   67     14         51       56    0    2   \n",
       "1        2  2007-05-01    84    52   68    NaN         51       57    0    3   \n",
       "2        1  2007-05-02    59    42   51     -3         42       47   14    0   \n",
       "3        2  2007-05-02    60    43   52    NaN         42       47   13    0   \n",
       "4        1  2007-05-03    66    46   56      2         40       48    9    0   \n",
       "5        2  2007-05-03    67    48   58    NaN         40       50    7    0   \n",
       "6        1  2007-05-04    66    49   58      4         41       50    7    0   \n",
       "7        2  2007-05-04    78    51  NaN    NaN         42       50  NaN  NaN   \n",
       "8        1  2007-05-05    66    53   60      5         38       49    5    0   \n",
       "9        2  2007-05-05    66    54   60    NaN         39       50    5    0   \n",
       "\n",
       "  sunrise sunset code_sum depth  water1 snow_fall precip_total stn_pressure  \\\n",
       "0    0448   1849      NaN     0     NaN       0.0         0.00        29.10   \n",
       "1     NaN    NaN      NaN   NaN     NaN       NaN         0.00        29.18   \n",
       "2    0447   1850       BR     0     NaN       0.0         0.00        29.38   \n",
       "3     NaN    NaN    BR HZ   NaN     NaN       NaN         0.00        29.44   \n",
       "4    0446   1851      NaN     0     NaN       0.0         0.00        29.39   \n",
       "5     NaN    NaN       HZ   NaN     NaN       NaN         0.00        29.46   \n",
       "6    0444   1852       RA     0     NaN       0.0            0        29.31   \n",
       "7     NaN    NaN      NaN   NaN     NaN       NaN         0.00        29.36   \n",
       "8    0443   1853      NaN     0     NaN       0.0            0        29.40   \n",
       "9     NaN    NaN      NaN   NaN     NaN       NaN            0        29.46   \n",
       "\n",
       "  sea_level  result_speed  result_dir avg_speed  \n",
       "0     29.82           1.7          27       9.2  \n",
       "1     29.82           2.7          25       9.6  \n",
       "2     30.09          13.0           4      13.4  \n",
       "3     30.08          13.3           2      13.4  \n",
       "4     30.12          11.7           7      11.9  \n",
       "5     30.12          12.9           6      13.2  \n",
       "6     30.05          10.4           8      10.8  \n",
       "7     30.04          10.1           7      10.4  \n",
       "8     30.10          11.7           7      12.0  \n",
       "9     30.09          11.2           7      11.5  "
      ]
     },
     "execution_count": 19,
     "metadata": {},
     "output_type": "execute_result"
    }
   ],
   "source": [
    "weather.head(10)"
   ]
  },
  {
   "cell_type": "markdown",
   "metadata": {
    "id": "8a73a889"
   },
   "source": [
    "According to the DataFrame, every other row has missing values. These seem to correspond to Station 2. "
   ]
  },
  {
   "cell_type": "code",
   "execution_count": 20,
   "metadata": {
    "colab": {
     "base_uri": "https://localhost:8080/"
    },
    "executionInfo": {
     "elapsed": 92,
     "status": "ok",
     "timestamp": 1637236766241,
     "user": {
      "displayName": "Tze Ling Gan",
      "photoUrl": "https://lh3.googleusercontent.com/a/default-user=s64",
      "userId": "17059842666868387383"
     },
     "user_tz": -480
    },
    "id": "f976deaa",
    "outputId": "f8f139d8-8c34-4ac0-c4e0-99128d6475f0"
   },
   "outputs": [
    {
     "data": {
      "text/plain": [
       "sunset       0.0\n",
       "depth        0.0\n",
       "depart       0.0\n",
       "snow_fall    0.0\n",
       "sunrise      0.0\n",
       "dtype: float64"
      ]
     },
     "execution_count": 20,
     "metadata": {},
     "output_type": "execute_result"
    }
   ],
   "source": [
    "# Check null values only for Station 1\n",
    "null_pcts(weather[weather['station'] == 1])[['sunset', 'depth', 'depart', 'snow_fall', 'sunrise']]"
   ]
  },
  {
   "cell_type": "markdown",
   "metadata": {
    "id": "73b40a7b"
   },
   "source": [
    "We can see that there are no null values for `sunset`, `depth`, `depart`, `snow_fall` and `sunrise` for Station 1. We will keep this information in mind for later."
   ]
  },
  {
   "cell_type": "markdown",
   "metadata": {
    "id": "e0050227"
   },
   "source": [
    "### Dropping the `water1` column\n",
    "\n",
    "As this column contains 100% null values, it will be dropped."
   ]
  },
  {
   "cell_type": "code",
   "execution_count": 21,
   "metadata": {
    "colab": {
     "base_uri": "https://localhost:8080/"
    },
    "executionInfo": {
     "elapsed": 82,
     "status": "ok",
     "timestamp": 1637236766241,
     "user": {
      "displayName": "Tze Ling Gan",
      "photoUrl": "https://lh3.googleusercontent.com/a/default-user=s64",
      "userId": "17059842666868387383"
     },
     "user_tz": -480
    },
    "id": "3b67da2c",
    "outputId": "de6d588a-90b8-45ab-fce0-2a2d68572893"
   },
   "outputs": [
    {
     "data": {
      "text/plain": [
       "True"
      ]
     },
     "execution_count": 21,
     "metadata": {},
     "output_type": "execute_result"
    }
   ],
   "source": [
    "'water1' in weather.columns"
   ]
  },
  {
   "cell_type": "code",
   "execution_count": 22,
   "metadata": {
    "id": "4c9984cb"
   },
   "outputs": [],
   "source": [
    "weather.drop(columns='water1', inplace=True)"
   ]
  },
  {
   "cell_type": "markdown",
   "metadata": {
    "id": "eaae03b9"
   },
   "source": [
    "The column has been dropped:"
   ]
  },
  {
   "cell_type": "code",
   "execution_count": 23,
   "metadata": {
    "colab": {
     "base_uri": "https://localhost:8080/"
    },
    "executionInfo": {
     "elapsed": 70,
     "status": "ok",
     "timestamp": 1637236766241,
     "user": {
      "displayName": "Tze Ling Gan",
      "photoUrl": "https://lh3.googleusercontent.com/a/default-user=s64",
      "userId": "17059842666868387383"
     },
     "user_tz": -480
    },
    "id": "b7f0b555",
    "outputId": "9ac45913-e7f8-4982-f5a5-5623f8b02420"
   },
   "outputs": [
    {
     "data": {
      "text/plain": [
       "False"
      ]
     },
     "execution_count": 23,
     "metadata": {},
     "output_type": "execute_result"
    }
   ],
   "source": [
    "'water1' in weather.columns"
   ]
  },
  {
   "cell_type": "markdown",
   "metadata": {
    "id": "d805f1de"
   },
   "source": [
    "### Dropping the `code_sum` column\n",
    "\n",
    "As there are many other proxies to gauge the weather such as temperature and humidity-related data, we will remove the `code_sum` column."
   ]
  },
  {
   "cell_type": "code",
   "execution_count": 24,
   "metadata": {
    "id": "80614773"
   },
   "outputs": [],
   "source": [
    "weather.drop(columns='code_sum', inplace=True)"
   ]
  },
  {
   "cell_type": "markdown",
   "metadata": {
    "id": "DBa2Zmr9P61_"
   },
   "source": [
    "The column has been dropped:"
   ]
  },
  {
   "cell_type": "code",
   "execution_count": 25,
   "metadata": {
    "colab": {
     "base_uri": "https://localhost:8080/"
    },
    "executionInfo": {
     "elapsed": 58,
     "status": "ok",
     "timestamp": 1637236766241,
     "user": {
      "displayName": "Tze Ling Gan",
      "photoUrl": "https://lh3.googleusercontent.com/a/default-user=s64",
      "userId": "17059842666868387383"
     },
     "user_tz": -480
    },
    "id": "UNreFu7TP62A",
    "outputId": "77f52ccf-0347-4700-9d2d-344736dfabba"
   },
   "outputs": [
    {
     "data": {
      "text/plain": [
       "False"
      ]
     },
     "execution_count": 25,
     "metadata": {},
     "output_type": "execute_result"
    }
   ],
   "source": [
    "'code_sum' in weather.columns"
   ]
  },
  {
   "cell_type": "markdown",
   "metadata": {
    "id": "4e585cb4"
   },
   "source": [
    "### Dropping the `depth` and `snow_fall` columns\n",
    "\n",
    "The `depth` and `snow_fall` columns consist nearly of all zeros other than the null values."
   ]
  },
  {
   "cell_type": "code",
   "execution_count": 26,
   "metadata": {
    "colab": {
     "base_uri": "https://localhost:8080/"
    },
    "executionInfo": {
     "elapsed": 47,
     "status": "ok",
     "timestamp": 1637236766241,
     "user": {
      "displayName": "Tze Ling Gan",
      "photoUrl": "https://lh3.googleusercontent.com/a/default-user=s64",
      "userId": "17059842666868387383"
     },
     "user_tz": -480
    },
    "id": "c1518873",
    "outputId": "25e209af-0a09-49b3-898c-08dd4753dd5f",
    "scrolled": true
   },
   "outputs": [
    {
     "data": {
      "text/plain": [
       "0    1472\n",
       "Name: depth, dtype: int64"
      ]
     },
     "execution_count": 26,
     "metadata": {},
     "output_type": "execute_result"
    }
   ],
   "source": [
    "weather['depth'].value_counts()"
   ]
  },
  {
   "cell_type": "code",
   "execution_count": 27,
   "metadata": {
    "colab": {
     "base_uri": "https://localhost:8080/"
    },
    "executionInfo": {
     "elapsed": 37,
     "status": "ok",
     "timestamp": 1637236766242,
     "user": {
      "displayName": "Tze Ling Gan",
      "photoUrl": "https://lh3.googleusercontent.com/a/default-user=s64",
      "userId": "17059842666868387383"
     },
     "user_tz": -480
    },
    "id": "cf49d015",
    "outputId": "81886d21-bd4b-4d85-d5a8-9f2d686a6712"
   },
   "outputs": [
    {
     "data": {
      "text/plain": [
       "0.0    1459\n",
       "0        12\n",
       "0.1       1\n",
       "Name: snow_fall, dtype: int64"
      ]
     },
     "execution_count": 27,
     "metadata": {},
     "output_type": "execute_result"
    }
   ],
   "source": [
    "weather['snow_fall'].value_counts()"
   ]
  },
  {
   "cell_type": "markdown",
   "metadata": {
    "id": "0d6c782f"
   },
   "source": [
    "Hence, the columns will be dropped. "
   ]
  },
  {
   "cell_type": "code",
   "execution_count": 28,
   "metadata": {
    "colab": {
     "base_uri": "https://localhost:8080/"
    },
    "executionInfo": {
     "elapsed": 27,
     "status": "ok",
     "timestamp": 1637236766242,
     "user": {
      "displayName": "Tze Ling Gan",
      "photoUrl": "https://lh3.googleusercontent.com/a/default-user=s64",
      "userId": "17059842666868387383"
     },
     "user_tz": -480
    },
    "id": "92edae79",
    "outputId": "f2ad8b4f-e549-43d4-c1c2-69bc9ed02992"
   },
   "outputs": [
    {
     "data": {
      "text/plain": [
       "True"
      ]
     },
     "execution_count": 28,
     "metadata": {},
     "output_type": "execute_result"
    }
   ],
   "source": [
    "'depth' in weather.columns"
   ]
  },
  {
   "cell_type": "code",
   "execution_count": 29,
   "metadata": {
    "colab": {
     "base_uri": "https://localhost:8080/"
    },
    "executionInfo": {
     "elapsed": 16,
     "status": "ok",
     "timestamp": 1637236766242,
     "user": {
      "displayName": "Tze Ling Gan",
      "photoUrl": "https://lh3.googleusercontent.com/a/default-user=s64",
      "userId": "17059842666868387383"
     },
     "user_tz": -480
    },
    "id": "2f1c5224",
    "outputId": "3b07d3b8-3420-43da-bffd-456736d90bb8"
   },
   "outputs": [
    {
     "data": {
      "text/plain": [
       "True"
      ]
     },
     "execution_count": 29,
     "metadata": {},
     "output_type": "execute_result"
    }
   ],
   "source": [
    "'snow_fall' in weather.columns"
   ]
  },
  {
   "cell_type": "code",
   "execution_count": 30,
   "metadata": {
    "id": "37547c5e"
   },
   "outputs": [],
   "source": [
    "weather.drop(columns=['depth', 'snow_fall'], inplace=True)"
   ]
  },
  {
   "cell_type": "markdown",
   "metadata": {
    "id": "58dc5ffa"
   },
   "source": [
    "The columns have been dropped:"
   ]
  },
  {
   "cell_type": "code",
   "execution_count": 31,
   "metadata": {
    "colab": {
     "base_uri": "https://localhost:8080/"
    },
    "executionInfo": {
     "elapsed": 1065,
     "status": "ok",
     "timestamp": 1637236767302,
     "user": {
      "displayName": "Tze Ling Gan",
      "photoUrl": "https://lh3.googleusercontent.com/a/default-user=s64",
      "userId": "17059842666868387383"
     },
     "user_tz": -480
    },
    "id": "d1e536d0",
    "outputId": "c0d7ba1c-05b3-436c-8d7b-48b7f515c0a8",
    "scrolled": true
   },
   "outputs": [
    {
     "data": {
      "text/plain": [
       "False"
      ]
     },
     "execution_count": 31,
     "metadata": {},
     "output_type": "execute_result"
    }
   ],
   "source": [
    "'depth' in weather.columns"
   ]
  },
  {
   "cell_type": "code",
   "execution_count": 32,
   "metadata": {
    "colab": {
     "base_uri": "https://localhost:8080/"
    },
    "executionInfo": {
     "elapsed": 149,
     "status": "ok",
     "timestamp": 1637236767303,
     "user": {
      "displayName": "Tze Ling Gan",
      "photoUrl": "https://lh3.googleusercontent.com/a/default-user=s64",
      "userId": "17059842666868387383"
     },
     "user_tz": -480
    },
    "id": "9ec290f8",
    "outputId": "42544af4-81a6-43c9-95bc-f4c3b9fcfaf7"
   },
   "outputs": [
    {
     "data": {
      "text/plain": [
       "False"
      ]
     },
     "execution_count": 32,
     "metadata": {},
     "output_type": "execute_result"
    }
   ],
   "source": [
    "'snow_fall' in weather.columns"
   ]
  },
  {
   "cell_type": "markdown",
   "metadata": {
    "id": "Vf-SCcQGZjBG"
   },
   "source": [
    "### Imputing values for the `sunrise` and `sunset` columns\n",
    "\n",
    "As mentioned earlier, the values for these 2 columns are present in Station 1 but not Station 2. Relevant columns are shown below:"
   ]
  },
  {
   "cell_type": "code",
   "execution_count": 33,
   "metadata": {
    "colab": {
     "base_uri": "https://localhost:8080/",
     "height": 201
    },
    "executionInfo": {
     "elapsed": 136,
     "status": "ok",
     "timestamp": 1637236767303,
     "user": {
      "displayName": "Tze Ling Gan",
      "photoUrl": "https://lh3.googleusercontent.com/a/default-user=s64",
      "userId": "17059842666868387383"
     },
     "user_tz": -480
    },
    "id": "uiVj-ral9M-7",
    "outputId": "76a6d1e6-0327-4249-b454-23534033217c"
   },
   "outputs": [
    {
     "data": {
      "text/html": [
       "<div>\n",
       "<style scoped>\n",
       "    .dataframe tbody tr th:only-of-type {\n",
       "        vertical-align: middle;\n",
       "    }\n",
       "\n",
       "    .dataframe tbody tr th {\n",
       "        vertical-align: top;\n",
       "    }\n",
       "\n",
       "    .dataframe thead th {\n",
       "        text-align: right;\n",
       "    }\n",
       "</style>\n",
       "<table border=\"1\" class=\"dataframe\">\n",
       "  <thead>\n",
       "    <tr style=\"text-align: right;\">\n",
       "      <th></th>\n",
       "      <th>station</th>\n",
       "      <th>date</th>\n",
       "      <th>sunrise</th>\n",
       "      <th>sunset</th>\n",
       "    </tr>\n",
       "  </thead>\n",
       "  <tbody>\n",
       "    <tr>\n",
       "      <th>0</th>\n",
       "      <td>1</td>\n",
       "      <td>2007-05-01</td>\n",
       "      <td>0448</td>\n",
       "      <td>1849</td>\n",
       "    </tr>\n",
       "    <tr>\n",
       "      <th>1</th>\n",
       "      <td>2</td>\n",
       "      <td>2007-05-01</td>\n",
       "      <td>NaN</td>\n",
       "      <td>NaN</td>\n",
       "    </tr>\n",
       "    <tr>\n",
       "      <th>2</th>\n",
       "      <td>1</td>\n",
       "      <td>2007-05-02</td>\n",
       "      <td>0447</td>\n",
       "      <td>1850</td>\n",
       "    </tr>\n",
       "    <tr>\n",
       "      <th>3</th>\n",
       "      <td>2</td>\n",
       "      <td>2007-05-02</td>\n",
       "      <td>NaN</td>\n",
       "      <td>NaN</td>\n",
       "    </tr>\n",
       "    <tr>\n",
       "      <th>4</th>\n",
       "      <td>1</td>\n",
       "      <td>2007-05-03</td>\n",
       "      <td>0446</td>\n",
       "      <td>1851</td>\n",
       "    </tr>\n",
       "  </tbody>\n",
       "</table>\n",
       "</div>"
      ],
      "text/plain": [
       "   station        date sunrise sunset\n",
       "0        1  2007-05-01    0448   1849\n",
       "1        2  2007-05-01     NaN    NaN\n",
       "2        1  2007-05-02    0447   1850\n",
       "3        2  2007-05-02     NaN    NaN\n",
       "4        1  2007-05-03    0446   1851"
      ]
     },
     "execution_count": 33,
     "metadata": {},
     "output_type": "execute_result"
    }
   ],
   "source": [
    "weather[['station','date', 'sunrise', 'sunset']].head()"
   ]
  },
  {
   "cell_type": "markdown",
   "metadata": {
    "id": "syjVk7Bp8_hz"
   },
   "source": [
    "\n",
    "We will impute the `sunrise` and `sunset` information missing in the Station 2 data from Station 1, as they are located in the same city and are only about 15.8 miles apart, according to the 'Measure Distance' function of Google Maps (accessed by right-clicking) ([*source*](https://www.google.com/maps/dir/Chicago+Midway+International+Airport,+5700+S+Cicero+Ave,+Chicago,+IL+60638,+United+States/Terminal+1+Concourse+B,+ORD,+10000+W+O'Hare+Ave,+Chicago,+IL+60666,+USA/)). There will not be much difference in terms of the sunrise or sunset timing. "
   ]
  },
  {
   "cell_type": "code",
   "execution_count": 34,
   "metadata": {
    "id": "QZVrke5wZfyZ"
   },
   "outputs": [],
   "source": [
    "# The forward-fill method will be used.\n",
    "for col in ['sunrise', 'sunset']:\n",
    "    weather[col].fillna(method='ffill', inplace=True)"
   ]
  },
  {
   "cell_type": "markdown",
   "metadata": {
    "id": "l8yk3acT9USe"
   },
   "source": [
    "The values have been filled:"
   ]
  },
  {
   "cell_type": "code",
   "execution_count": 35,
   "metadata": {
    "colab": {
     "base_uri": "https://localhost:8080/",
     "height": 201
    },
    "executionInfo": {
     "elapsed": 135,
     "status": "ok",
     "timestamp": 1637236767303,
     "user": {
      "displayName": "Tze Ling Gan",
      "photoUrl": "https://lh3.googleusercontent.com/a/default-user=s64",
      "userId": "17059842666868387383"
     },
     "user_tz": -480
    },
    "id": "L03Q03UP8Ug6",
    "outputId": "677e3a91-bf9e-4d28-bd9a-5166a979fb62"
   },
   "outputs": [
    {
     "data": {
      "text/html": [
       "<div>\n",
       "<style scoped>\n",
       "    .dataframe tbody tr th:only-of-type {\n",
       "        vertical-align: middle;\n",
       "    }\n",
       "\n",
       "    .dataframe tbody tr th {\n",
       "        vertical-align: top;\n",
       "    }\n",
       "\n",
       "    .dataframe thead th {\n",
       "        text-align: right;\n",
       "    }\n",
       "</style>\n",
       "<table border=\"1\" class=\"dataframe\">\n",
       "  <thead>\n",
       "    <tr style=\"text-align: right;\">\n",
       "      <th></th>\n",
       "      <th>station</th>\n",
       "      <th>date</th>\n",
       "      <th>sunrise</th>\n",
       "      <th>sunset</th>\n",
       "    </tr>\n",
       "  </thead>\n",
       "  <tbody>\n",
       "    <tr>\n",
       "      <th>0</th>\n",
       "      <td>1</td>\n",
       "      <td>2007-05-01</td>\n",
       "      <td>0448</td>\n",
       "      <td>1849</td>\n",
       "    </tr>\n",
       "    <tr>\n",
       "      <th>1</th>\n",
       "      <td>2</td>\n",
       "      <td>2007-05-01</td>\n",
       "      <td>0448</td>\n",
       "      <td>1849</td>\n",
       "    </tr>\n",
       "    <tr>\n",
       "      <th>2</th>\n",
       "      <td>1</td>\n",
       "      <td>2007-05-02</td>\n",
       "      <td>0447</td>\n",
       "      <td>1850</td>\n",
       "    </tr>\n",
       "    <tr>\n",
       "      <th>3</th>\n",
       "      <td>2</td>\n",
       "      <td>2007-05-02</td>\n",
       "      <td>0447</td>\n",
       "      <td>1850</td>\n",
       "    </tr>\n",
       "    <tr>\n",
       "      <th>4</th>\n",
       "      <td>1</td>\n",
       "      <td>2007-05-03</td>\n",
       "      <td>0446</td>\n",
       "      <td>1851</td>\n",
       "    </tr>\n",
       "  </tbody>\n",
       "</table>\n",
       "</div>"
      ],
      "text/plain": [
       "   station        date sunrise sunset\n",
       "0        1  2007-05-01    0448   1849\n",
       "1        2  2007-05-01    0448   1849\n",
       "2        1  2007-05-02    0447   1850\n",
       "3        2  2007-05-02    0447   1850\n",
       "4        1  2007-05-03    0446   1851"
      ]
     },
     "execution_count": 35,
     "metadata": {},
     "output_type": "execute_result"
    }
   ],
   "source": [
    "weather[['station','date', 'sunrise', 'sunset']].head()"
   ]
  },
  {
   "cell_type": "markdown",
   "metadata": {
    "id": "pi1gkZyzHh2t"
   },
   "source": [
    "There are some entries for the `sunset` column where the time ends in '60'."
   ]
  },
  {
   "cell_type": "code",
   "execution_count": 36,
   "metadata": {
    "colab": {
     "base_uri": "https://localhost:8080/"
    },
    "executionInfo": {
     "elapsed": 134,
     "status": "ok",
     "timestamp": 1637236767303,
     "user": {
      "displayName": "Tze Ling Gan",
      "photoUrl": "https://lh3.googleusercontent.com/a/default-user=s64",
      "userId": "17059842666868387383"
     },
     "user_tz": -480
    },
    "id": "j7bdCWthGz2O",
    "outputId": "17ff02b7-0499-4ad6-9dbe-c35ce9a931dc"
   },
   "outputs": [
    {
     "data": {
      "text/plain": [
       "20      1860\n",
       "21      1860\n",
       "276     1760\n",
       "277     1760\n",
       "348     1660\n",
       "349     1660\n",
       "388     1860\n",
       "389     1860\n",
       "644     1760\n",
       "645     1760\n",
       "716     1660\n",
       "717     1660\n",
       "756     1860\n",
       "757     1860\n",
       "1012    1760\n",
       "1013    1760\n",
       "1084    1660\n",
       "1085    1660\n",
       "1124    1860\n",
       "1125    1860\n",
       "1380    1760\n",
       "1381    1760\n",
       "1452    1660\n",
       "1453    1660\n",
       "1492    1860\n",
       "1493    1860\n",
       "1748    1760\n",
       "1749    1760\n",
       "1820    1660\n",
       "1821    1660\n",
       "1860    1860\n",
       "1861    1860\n",
       "2116    1760\n",
       "2117    1760\n",
       "2188    1660\n",
       "2189    1660\n",
       "2228    1860\n",
       "2229    1860\n",
       "2484    1760\n",
       "2485    1760\n",
       "2556    1660\n",
       "2557    1660\n",
       "2596    1860\n",
       "2597    1860\n",
       "2852    1760\n",
       "2853    1760\n",
       "2924    1660\n",
       "2925    1660\n",
       "Name: sunset, dtype: object"
      ]
     },
     "execution_count": 36,
     "metadata": {},
     "output_type": "execute_result"
    }
   ],
   "source": [
    "weather['sunset'][weather['sunset'].str[2:] == '60']"
   ]
  },
  {
   "cell_type": "markdown",
   "metadata": {
    "id": "58u20sicH_O3"
   },
   "source": [
    "We will clean them as follows, correcting to the next hour:"
   ]
  },
  {
   "cell_type": "code",
   "execution_count": 37,
   "metadata": {
    "id": "gpf-hfC6MLY5"
   },
   "outputs": [],
   "source": [
    "# The first 2 digits and next 2 digits are handled separately, within a lambda function applied to the column.\n",
    "# First 2 digits: Select them via string slicing, convert to integer datatype and add 1 (to get next hour).\n",
    "# Next 2 digits: Set as '00'. \n",
    "# Add the first 2 digits and the next 2 digits together (as strings, so the end result is the 4 digits).\n",
    "# Reassign the weather column to the corrected values.\n",
    "weather['sunset'] = weather['sunset'].apply(lambda x: str(int(x[:2]) + 1) + '00')"
   ]
  },
  {
   "cell_type": "markdown",
   "metadata": {
    "id": "ccBpQns0Nr6y"
   },
   "source": [
    "Let's check a value that was previously '1660':"
   ]
  },
  {
   "cell_type": "code",
   "execution_count": 38,
   "metadata": {
    "colab": {
     "base_uri": "https://localhost:8080/",
     "height": 34
    },
    "executionInfo": {
     "elapsed": 122,
     "status": "ok",
     "timestamp": 1637236767303,
     "user": {
      "displayName": "Tze Ling Gan",
      "photoUrl": "https://lh3.googleusercontent.com/a/default-user=s64",
      "userId": "17059842666868387383"
     },
     "user_tz": -480
    },
    "id": "3WJ7bXgIMtPM",
    "outputId": "5ad7c996-14d0-46f4-9f4e-624fdd42cc84"
   },
   "outputs": [
    {
     "data": {
      "text/plain": [
       "'1700'"
      ]
     },
     "execution_count": 38,
     "metadata": {},
     "output_type": "execute_result"
    }
   ],
   "source": [
    "weather['sunset'][2925]"
   ]
  },
  {
   "cell_type": "markdown",
   "metadata": {
    "id": "LlcbCrqCNw7p"
   },
   "source": [
    "The value has been rectified."
   ]
  },
  {
   "cell_type": "code",
   "execution_count": 39,
   "metadata": {
    "colab": {
     "base_uri": "https://localhost:8080/"
    },
    "executionInfo": {
     "elapsed": 123,
     "status": "ok",
     "timestamp": 1637236767304,
     "user": {
      "displayName": "Tze Ling Gan",
      "photoUrl": "https://lh3.googleusercontent.com/a/default-user=s64",
      "userId": "17059842666868387383"
     },
     "user_tz": -480
    },
    "id": "M0IaYilfMrVz",
    "outputId": "7c3f76bd-5563-410c-85f6-af7e23505bc1"
   },
   "outputs": [
    {
     "data": {
      "text/plain": [
       "Series([], Name: sunset, dtype: object)"
      ]
     },
     "execution_count": 39,
     "metadata": {},
     "output_type": "execute_result"
    }
   ],
   "source": [
    "weather['sunset'][weather['sunset'].str[2:] == '60']"
   ]
  },
  {
   "cell_type": "markdown",
   "metadata": {
    "id": "m9cLBs91Oeyg"
   },
   "source": [
    "The check above shows that there are no more time values ending in '60'."
   ]
  },
  {
   "cell_type": "code",
   "execution_count": 40,
   "metadata": {
    "colab": {
     "base_uri": "https://localhost:8080/"
    },
    "executionInfo": {
     "elapsed": 112,
     "status": "ok",
     "timestamp": 1637236767304,
     "user": {
      "displayName": "Tze Ling Gan",
      "photoUrl": "https://lh3.googleusercontent.com/a/default-user=s64",
      "userId": "17059842666868387383"
     },
     "user_tz": -480
    },
    "id": "LryUrrZSHgK9",
    "outputId": "4e246941-2943-4758-ad71-6452780bcbd4"
   },
   "outputs": [
    {
     "data": {
      "text/plain": [
       "Series([], Name: sunrise, dtype: object)"
      ]
     },
     "execution_count": 40,
     "metadata": {},
     "output_type": "execute_result"
    }
   ],
   "source": [
    "weather['sunrise'][weather['sunrise'].str[2:] == '60']"
   ]
  },
  {
   "cell_type": "markdown",
   "metadata": {
    "id": "f9yfu_VFOnry"
   },
   "source": [
    "The check above shows that there are no time values ending in '60' for the `sunrise` column."
   ]
  },
  {
   "cell_type": "markdown",
   "metadata": {
    "id": "oymm9axFJGQb"
   },
   "source": [
    "### Imputing values for the `tavg` column\n",
    "\n",
    "This column represents the average temperature recorded at the weather station for that day. We can derive the missing values for `tavg` with the `tmin` and `tmax` using the following formula: \n",
    "\n",
    "**(`tmax` + `tmin`) / 2**\n",
    "\n",
    "The `tavg`, `tmax`, and `tmin` columns look like this, for rows with missing values: "
   ]
  },
  {
   "cell_type": "code",
   "execution_count": 41,
   "metadata": {
    "colab": {
     "base_uri": "https://localhost:8080/",
     "height": 201
    },
    "executionInfo": {
     "elapsed": 101,
     "status": "ok",
     "timestamp": 1637236767304,
     "user": {
      "displayName": "Tze Ling Gan",
      "photoUrl": "https://lh3.googleusercontent.com/a/default-user=s64",
      "userId": "17059842666868387383"
     },
     "user_tz": -480
    },
    "id": "idO6AeJxK2m2",
    "outputId": "d4ab40b0-7881-45c4-a0b0-70dd0830a6fe"
   },
   "outputs": [
    {
     "data": {
      "text/html": [
       "<div>\n",
       "<style scoped>\n",
       "    .dataframe tbody tr th:only-of-type {\n",
       "        vertical-align: middle;\n",
       "    }\n",
       "\n",
       "    .dataframe tbody tr th {\n",
       "        vertical-align: top;\n",
       "    }\n",
       "\n",
       "    .dataframe thead th {\n",
       "        text-align: right;\n",
       "    }\n",
       "</style>\n",
       "<table border=\"1\" class=\"dataframe\">\n",
       "  <thead>\n",
       "    <tr style=\"text-align: right;\">\n",
       "      <th></th>\n",
       "      <th>tavg</th>\n",
       "      <th>tmax</th>\n",
       "      <th>tmin</th>\n",
       "    </tr>\n",
       "  </thead>\n",
       "  <tbody>\n",
       "    <tr>\n",
       "      <th>7</th>\n",
       "      <td>NaN</td>\n",
       "      <td>78</td>\n",
       "      <td>51</td>\n",
       "    </tr>\n",
       "    <tr>\n",
       "      <th>505</th>\n",
       "      <td>NaN</td>\n",
       "      <td>86</td>\n",
       "      <td>46</td>\n",
       "    </tr>\n",
       "    <tr>\n",
       "      <th>675</th>\n",
       "      <td>NaN</td>\n",
       "      <td>62</td>\n",
       "      <td>46</td>\n",
       "    </tr>\n",
       "    <tr>\n",
       "      <th>1637</th>\n",
       "      <td>NaN</td>\n",
       "      <td>100</td>\n",
       "      <td>71</td>\n",
       "    </tr>\n",
       "    <tr>\n",
       "      <th>2067</th>\n",
       "      <td>NaN</td>\n",
       "      <td>84</td>\n",
       "      <td>72</td>\n",
       "    </tr>\n",
       "  </tbody>\n",
       "</table>\n",
       "</div>"
      ],
      "text/plain": [
       "     tavg  tmax  tmin\n",
       "7     NaN    78    51\n",
       "505   NaN    86    46\n",
       "675   NaN    62    46\n",
       "1637  NaN   100    71\n",
       "2067  NaN    84    72"
      ]
     },
     "execution_count": 41,
     "metadata": {},
     "output_type": "execute_result"
    }
   ],
   "source": [
    "weather[weather['tavg'].isnull()].head()[['tavg', 'tmax', 'tmin']]"
   ]
  },
  {
   "cell_type": "markdown",
   "metadata": {
    "id": "08bEXLU3N88p"
   },
   "source": [
    "The missing `tavg` values will be derived as follows:"
   ]
  },
  {
   "cell_type": "code",
   "execution_count": 42,
   "metadata": {
    "id": "KfHWe5RAZf00"
   },
   "outputs": [],
   "source": [
    "# Rounding to the nearest integer is done as values ending with .5 are being produced \n",
    "# The appropriate value should be the rounded one. \n",
    "# This is known from applying the formula to existing Station 1 values to see if it is accurate. \n",
    "weather['tavg'].fillna(round(((weather['tmax'] + weather['tmin'])/2)),inplace=True)"
   ]
  },
  {
   "cell_type": "markdown",
   "metadata": {
    "id": "6CFMXnqYOjoS"
   },
   "source": [
    "There are no more null values in `tavg`:"
   ]
  },
  {
   "cell_type": "code",
   "execution_count": 43,
   "metadata": {
    "colab": {
     "base_uri": "https://localhost:8080/"
    },
    "executionInfo": {
     "elapsed": 100,
     "status": "ok",
     "timestamp": 1637236767304,
     "user": {
      "displayName": "Tze Ling Gan",
      "photoUrl": "https://lh3.googleusercontent.com/a/default-user=s64",
      "userId": "17059842666868387383"
     },
     "user_tz": -480
    },
    "id": "GKWmFbJfOgzg",
    "outputId": "dfb44b8f-13be-4926-b23c-13b0b0567c24"
   },
   "outputs": [
    {
     "data": {
      "text/plain": [
       "0"
      ]
     },
     "execution_count": 43,
     "metadata": {},
     "output_type": "execute_result"
    }
   ],
   "source": [
    "weather['tavg'].isnull().sum()"
   ]
  },
  {
   "cell_type": "markdown",
   "metadata": {
    "id": "K8X55Y5vRbdo"
   },
   "source": [
    "The datatype of `tavg` is still not, numerical, however. `tmax` and `tmin` are numeric:"
   ]
  },
  {
   "cell_type": "code",
   "execution_count": 44,
   "metadata": {
    "colab": {
     "base_uri": "https://localhost:8080/"
    },
    "executionInfo": {
     "elapsed": 90,
     "status": "ok",
     "timestamp": 1637236767304,
     "user": {
      "displayName": "Tze Ling Gan",
      "photoUrl": "https://lh3.googleusercontent.com/a/default-user=s64",
      "userId": "17059842666868387383"
     },
     "user_tz": -480
    },
    "id": "fmt2t7rYRYUe",
    "outputId": "b34ab910-cd86-4309-b490-178bd827a595"
   },
   "outputs": [
    {
     "name": "stdout",
     "output_type": "stream",
     "text": [
      "<class 'pandas.core.frame.DataFrame'>\n",
      "RangeIndex: 2944 entries, 0 to 2943\n",
      "Data columns (total 3 columns):\n",
      " #   Column  Non-Null Count  Dtype \n",
      "---  ------  --------------  ----- \n",
      " 0   tavg    2944 non-null   object\n",
      " 1   tmax    2944 non-null   int64 \n",
      " 2   tmin    2944 non-null   int64 \n",
      "dtypes: int64(2), object(1)\n",
      "memory usage: 69.1+ KB\n"
     ]
    }
   ],
   "source": [
    "weather[['tavg', 'tmax', 'tmin']].info()"
   ]
  },
  {
   "cell_type": "markdown",
   "metadata": {
    "id": "pyylr2JWRhT5"
   },
   "source": [
    "The datatype will be converted as follows:"
   ]
  },
  {
   "cell_type": "code",
   "execution_count": 45,
   "metadata": {
    "id": "1dr2MJ0YOdtf"
   },
   "outputs": [],
   "source": [
    "# Convert to integer data type to align with tmax and tmin\n",
    "weather['tavg'] = weather['tavg'].astype('int64')"
   ]
  },
  {
   "cell_type": "markdown",
   "metadata": {
    "id": "0PplpXARRvcl"
   },
   "source": [
    "The dataype is now converted:"
   ]
  },
  {
   "cell_type": "code",
   "execution_count": 46,
   "metadata": {
    "colab": {
     "base_uri": "https://localhost:8080/"
    },
    "executionInfo": {
     "elapsed": 79,
     "status": "ok",
     "timestamp": 1637236767304,
     "user": {
      "displayName": "Tze Ling Gan",
      "photoUrl": "https://lh3.googleusercontent.com/a/default-user=s64",
      "userId": "17059842666868387383"
     },
     "user_tz": -480
    },
    "id": "PYCUwMDKRqKl",
    "outputId": "9880782c-5267-4110-c9fa-af5b82042618"
   },
   "outputs": [
    {
     "name": "stdout",
     "output_type": "stream",
     "text": [
      "<class 'pandas.core.frame.DataFrame'>\n",
      "RangeIndex: 2944 entries, 0 to 2943\n",
      "Data columns (total 1 columns):\n",
      " #   Column  Non-Null Count  Dtype\n",
      "---  ------  --------------  -----\n",
      " 0   tavg    2944 non-null   int64\n",
      "dtypes: int64(1)\n",
      "memory usage: 23.1 KB\n"
     ]
    }
   ],
   "source": [
    "weather[['tavg']].info()"
   ]
  },
  {
   "cell_type": "markdown",
   "metadata": {
    "id": "lbMpf0r4Xd2i"
   },
   "source": [
    "This is a sample of how the rows previously having null values in `Tavg` look like now."
   ]
  },
  {
   "cell_type": "code",
   "execution_count": 47,
   "metadata": {
    "colab": {
     "base_uri": "https://localhost:8080/",
     "height": 201
    },
    "executionInfo": {
     "elapsed": 70,
     "status": "ok",
     "timestamp": 1637236767305,
     "user": {
      "displayName": "Tze Ling Gan",
      "photoUrl": "https://lh3.googleusercontent.com/a/default-user=s64",
      "userId": "17059842666868387383"
     },
     "user_tz": -480
    },
    "id": "oVIJxffiXcSP",
    "outputId": "dfeeda6c-e572-47e1-dd73-4fea188a7059"
   },
   "outputs": [
    {
     "data": {
      "text/html": [
       "<div>\n",
       "<style scoped>\n",
       "    .dataframe tbody tr th:only-of-type {\n",
       "        vertical-align: middle;\n",
       "    }\n",
       "\n",
       "    .dataframe tbody tr th {\n",
       "        vertical-align: top;\n",
       "    }\n",
       "\n",
       "    .dataframe thead th {\n",
       "        text-align: right;\n",
       "    }\n",
       "</style>\n",
       "<table border=\"1\" class=\"dataframe\">\n",
       "  <thead>\n",
       "    <tr style=\"text-align: right;\">\n",
       "      <th></th>\n",
       "      <th>tavg</th>\n",
       "      <th>tmax</th>\n",
       "      <th>tmin</th>\n",
       "    </tr>\n",
       "  </thead>\n",
       "  <tbody>\n",
       "    <tr>\n",
       "      <th>7</th>\n",
       "      <td>64</td>\n",
       "      <td>78</td>\n",
       "      <td>51</td>\n",
       "    </tr>\n",
       "    <tr>\n",
       "      <th>505</th>\n",
       "      <td>66</td>\n",
       "      <td>86</td>\n",
       "      <td>46</td>\n",
       "    </tr>\n",
       "    <tr>\n",
       "      <th>675</th>\n",
       "      <td>54</td>\n",
       "      <td>62</td>\n",
       "      <td>46</td>\n",
       "    </tr>\n",
       "    <tr>\n",
       "      <th>1637</th>\n",
       "      <td>86</td>\n",
       "      <td>100</td>\n",
       "      <td>71</td>\n",
       "    </tr>\n",
       "    <tr>\n",
       "      <th>2067</th>\n",
       "      <td>78</td>\n",
       "      <td>84</td>\n",
       "      <td>72</td>\n",
       "    </tr>\n",
       "  </tbody>\n",
       "</table>\n",
       "</div>"
      ],
      "text/plain": [
       "      tavg  tmax  tmin\n",
       "7       64    78    51\n",
       "505     66    86    46\n",
       "675     54    62    46\n",
       "1637    86   100    71\n",
       "2067    78    84    72"
      ]
     },
     "execution_count": 47,
     "metadata": {},
     "output_type": "execute_result"
    }
   ],
   "source": [
    "weather[['tavg', 'tmax', 'tmin']].loc[[7, 505, 675, 1637, 2067]]"
   ]
  },
  {
   "cell_type": "markdown",
   "metadata": {
    "id": "3FrNTmu5R-xW"
   },
   "source": [
    "### Imputing values for the `heat` and `cool` columns\n",
    "\n",
    "According to the weather data documentation, a base temperature of 65°F is defined as the benchmark to determine if days are hot or cold days. If the `tavg` is above that temperature, the difference is recorded under `heat`. If the `tavg` is below that temperature, the difference is recorded under `cool`.\n",
    "\n",
    "This is what the relevant columns look like:"
   ]
  },
  {
   "cell_type": "code",
   "execution_count": 48,
   "metadata": {
    "colab": {
     "base_uri": "https://localhost:8080/",
     "height": 201
    },
    "executionInfo": {
     "elapsed": 69,
     "status": "ok",
     "timestamp": 1637236767305,
     "user": {
      "displayName": "Tze Ling Gan",
      "photoUrl": "https://lh3.googleusercontent.com/a/default-user=s64",
      "userId": "17059842666868387383"
     },
     "user_tz": -480
    },
    "id": "7hUPlKYAKaIz",
    "outputId": "e6dd2e4a-75cd-4f08-ffd1-24b02c46e703"
   },
   "outputs": [
    {
     "data": {
      "text/html": [
       "<div>\n",
       "<style scoped>\n",
       "    .dataframe tbody tr th:only-of-type {\n",
       "        vertical-align: middle;\n",
       "    }\n",
       "\n",
       "    .dataframe tbody tr th {\n",
       "        vertical-align: top;\n",
       "    }\n",
       "\n",
       "    .dataframe thead th {\n",
       "        text-align: right;\n",
       "    }\n",
       "</style>\n",
       "<table border=\"1\" class=\"dataframe\">\n",
       "  <thead>\n",
       "    <tr style=\"text-align: right;\">\n",
       "      <th></th>\n",
       "      <th>date</th>\n",
       "      <th>tavg</th>\n",
       "      <th>heat</th>\n",
       "      <th>cool</th>\n",
       "    </tr>\n",
       "  </thead>\n",
       "  <tbody>\n",
       "    <tr>\n",
       "      <th>0</th>\n",
       "      <td>2007-05-01</td>\n",
       "      <td>67</td>\n",
       "      <td>0</td>\n",
       "      <td>2</td>\n",
       "    </tr>\n",
       "    <tr>\n",
       "      <th>1</th>\n",
       "      <td>2007-05-01</td>\n",
       "      <td>68</td>\n",
       "      <td>0</td>\n",
       "      <td>3</td>\n",
       "    </tr>\n",
       "    <tr>\n",
       "      <th>2</th>\n",
       "      <td>2007-05-02</td>\n",
       "      <td>51</td>\n",
       "      <td>14</td>\n",
       "      <td>0</td>\n",
       "    </tr>\n",
       "    <tr>\n",
       "      <th>3</th>\n",
       "      <td>2007-05-02</td>\n",
       "      <td>52</td>\n",
       "      <td>13</td>\n",
       "      <td>0</td>\n",
       "    </tr>\n",
       "    <tr>\n",
       "      <th>4</th>\n",
       "      <td>2007-05-03</td>\n",
       "      <td>56</td>\n",
       "      <td>9</td>\n",
       "      <td>0</td>\n",
       "    </tr>\n",
       "  </tbody>\n",
       "</table>\n",
       "</div>"
      ],
      "text/plain": [
       "         date  tavg heat cool\n",
       "0  2007-05-01    67    0    2\n",
       "1  2007-05-01    68    0    3\n",
       "2  2007-05-02    51   14    0\n",
       "3  2007-05-02    52   13    0\n",
       "4  2007-05-03    56    9    0"
      ]
     },
     "execution_count": 48,
     "metadata": {},
     "output_type": "execute_result"
    }
   ],
   "source": [
    "weather[['date', 'tavg', 'heat', 'cool']].head()"
   ]
  },
  {
   "cell_type": "markdown",
   "metadata": {
    "id": "8htYnlx_YcwC"
   },
   "source": [
    "This is what the columns look like, for rows with missing values:"
   ]
  },
  {
   "cell_type": "code",
   "execution_count": 49,
   "metadata": {
    "colab": {
     "base_uri": "https://localhost:8080/",
     "height": 201
    },
    "executionInfo": {
     "elapsed": 68,
     "status": "ok",
     "timestamp": 1637236767305,
     "user": {
      "displayName": "Tze Ling Gan",
      "photoUrl": "https://lh3.googleusercontent.com/a/default-user=s64",
      "userId": "17059842666868387383"
     },
     "user_tz": -480
    },
    "id": "3jdLmkYcYQEq",
    "outputId": "7422a24d-8a9d-4f07-cb61-7deabe571b91"
   },
   "outputs": [
    {
     "data": {
      "text/html": [
       "<div>\n",
       "<style scoped>\n",
       "    .dataframe tbody tr th:only-of-type {\n",
       "        vertical-align: middle;\n",
       "    }\n",
       "\n",
       "    .dataframe tbody tr th {\n",
       "        vertical-align: top;\n",
       "    }\n",
       "\n",
       "    .dataframe thead th {\n",
       "        text-align: right;\n",
       "    }\n",
       "</style>\n",
       "<table border=\"1\" class=\"dataframe\">\n",
       "  <thead>\n",
       "    <tr style=\"text-align: right;\">\n",
       "      <th></th>\n",
       "      <th>date</th>\n",
       "      <th>tavg</th>\n",
       "      <th>heat</th>\n",
       "      <th>cool</th>\n",
       "    </tr>\n",
       "  </thead>\n",
       "  <tbody>\n",
       "    <tr>\n",
       "      <th>7</th>\n",
       "      <td>2007-05-04</td>\n",
       "      <td>64</td>\n",
       "      <td>NaN</td>\n",
       "      <td>NaN</td>\n",
       "    </tr>\n",
       "    <tr>\n",
       "      <th>505</th>\n",
       "      <td>2008-07-08</td>\n",
       "      <td>66</td>\n",
       "      <td>NaN</td>\n",
       "      <td>NaN</td>\n",
       "    </tr>\n",
       "    <tr>\n",
       "      <th>675</th>\n",
       "      <td>2008-10-01</td>\n",
       "      <td>54</td>\n",
       "      <td>NaN</td>\n",
       "      <td>NaN</td>\n",
       "    </tr>\n",
       "    <tr>\n",
       "      <th>1637</th>\n",
       "      <td>2011-07-22</td>\n",
       "      <td>86</td>\n",
       "      <td>NaN</td>\n",
       "      <td>NaN</td>\n",
       "    </tr>\n",
       "    <tr>\n",
       "      <th>2067</th>\n",
       "      <td>2012-08-22</td>\n",
       "      <td>78</td>\n",
       "      <td>NaN</td>\n",
       "      <td>NaN</td>\n",
       "    </tr>\n",
       "  </tbody>\n",
       "</table>\n",
       "</div>"
      ],
      "text/plain": [
       "            date  tavg heat cool\n",
       "7     2007-05-04    64  NaN  NaN\n",
       "505   2008-07-08    66  NaN  NaN\n",
       "675   2008-10-01    54  NaN  NaN\n",
       "1637  2011-07-22    86  NaN  NaN\n",
       "2067  2012-08-22    78  NaN  NaN"
      ]
     },
     "execution_count": 49,
     "metadata": {},
     "output_type": "execute_result"
    }
   ],
   "source": [
    "weather[weather['heat'].isnull()].head()[['date', 'tavg', 'heat', 'cool']]"
   ]
  },
  {
   "cell_type": "markdown",
   "metadata": {
    "id": "k0A2NxlaTWvw"
   },
   "source": [
    "To derive the missing values, we can take the Average daily temperature (`tavg`) and calculate its deviation from the base temperature of 65°F.\n",
    "\n",
    "This will involve creating a new column with values fully derived from `tavg` and the 65°F constant. Since we have no missing `tavg` values, there will be no null values. This is done as follows:"
   ]
  },
  {
   "cell_type": "code",
   "execution_count": 50,
   "metadata": {
    "id": "BDIO6sx4Zf2v"
   },
   "outputs": [],
   "source": [
    "# The new column will be derived from subtracting the 'tavg' from 65. \n",
    "weather['heat_cool'] = 65 - weather['tavg']"
   ]
  },
  {
   "cell_type": "markdown",
   "metadata": {
    "id": "hqTdM8B8V_Ql"
   },
   "source": [
    "The new column is as such:"
   ]
  },
  {
   "cell_type": "code",
   "execution_count": 51,
   "metadata": {
    "colab": {
     "base_uri": "https://localhost:8080/",
     "height": 201
    },
    "executionInfo": {
     "elapsed": 68,
     "status": "ok",
     "timestamp": 1637236767305,
     "user": {
      "displayName": "Tze Ling Gan",
      "photoUrl": "https://lh3.googleusercontent.com/a/default-user=s64",
      "userId": "17059842666868387383"
     },
     "user_tz": -480
    },
    "id": "ikq5UIjPWE-c",
    "outputId": "35a7ff70-a333-4581-c286-f32309273805"
   },
   "outputs": [
    {
     "data": {
      "text/html": [
       "<div>\n",
       "<style scoped>\n",
       "    .dataframe tbody tr th:only-of-type {\n",
       "        vertical-align: middle;\n",
       "    }\n",
       "\n",
       "    .dataframe tbody tr th {\n",
       "        vertical-align: top;\n",
       "    }\n",
       "\n",
       "    .dataframe thead th {\n",
       "        text-align: right;\n",
       "    }\n",
       "</style>\n",
       "<table border=\"1\" class=\"dataframe\">\n",
       "  <thead>\n",
       "    <tr style=\"text-align: right;\">\n",
       "      <th></th>\n",
       "      <th>date</th>\n",
       "      <th>tavg</th>\n",
       "      <th>heat</th>\n",
       "      <th>cool</th>\n",
       "      <th>heat_cool</th>\n",
       "    </tr>\n",
       "  </thead>\n",
       "  <tbody>\n",
       "    <tr>\n",
       "      <th>0</th>\n",
       "      <td>2007-05-01</td>\n",
       "      <td>67</td>\n",
       "      <td>0</td>\n",
       "      <td>2</td>\n",
       "      <td>-2</td>\n",
       "    </tr>\n",
       "    <tr>\n",
       "      <th>1</th>\n",
       "      <td>2007-05-01</td>\n",
       "      <td>68</td>\n",
       "      <td>0</td>\n",
       "      <td>3</td>\n",
       "      <td>-3</td>\n",
       "    </tr>\n",
       "    <tr>\n",
       "      <th>2</th>\n",
       "      <td>2007-05-02</td>\n",
       "      <td>51</td>\n",
       "      <td>14</td>\n",
       "      <td>0</td>\n",
       "      <td>14</td>\n",
       "    </tr>\n",
       "    <tr>\n",
       "      <th>3</th>\n",
       "      <td>2007-05-02</td>\n",
       "      <td>52</td>\n",
       "      <td>13</td>\n",
       "      <td>0</td>\n",
       "      <td>13</td>\n",
       "    </tr>\n",
       "    <tr>\n",
       "      <th>4</th>\n",
       "      <td>2007-05-03</td>\n",
       "      <td>56</td>\n",
       "      <td>9</td>\n",
       "      <td>0</td>\n",
       "      <td>9</td>\n",
       "    </tr>\n",
       "  </tbody>\n",
       "</table>\n",
       "</div>"
      ],
      "text/plain": [
       "         date  tavg heat cool  heat_cool\n",
       "0  2007-05-01    67    0    2         -2\n",
       "1  2007-05-01    68    0    3         -3\n",
       "2  2007-05-02    51   14    0         14\n",
       "3  2007-05-02    52   13    0         13\n",
       "4  2007-05-03    56    9    0          9"
      ]
     },
     "execution_count": 51,
     "metadata": {},
     "output_type": "execute_result"
    }
   ],
   "source": [
    "weather[['date', 'tavg', 'heat', 'cool', 'heat_cool']].head()"
   ]
  },
  {
   "cell_type": "markdown",
   "metadata": {
    "id": "fQNCDipMaW0g"
   },
   "source": [
    "The new column does not have null values:"
   ]
  },
  {
   "cell_type": "code",
   "execution_count": 52,
   "metadata": {
    "colab": {
     "base_uri": "https://localhost:8080/"
    },
    "executionInfo": {
     "elapsed": 67,
     "status": "ok",
     "timestamp": 1637236767305,
     "user": {
      "displayName": "Tze Ling Gan",
      "photoUrl": "https://lh3.googleusercontent.com/a/default-user=s64",
      "userId": "17059842666868387383"
     },
     "user_tz": -480
    },
    "id": "7VFrCwA2Zbih",
    "outputId": "d0a7d9d8-82f3-4ec5-8dd4-e90441e74abd"
   },
   "outputs": [
    {
     "data": {
      "text/plain": [
       "0"
      ]
     },
     "execution_count": 52,
     "metadata": {},
     "output_type": "execute_result"
    }
   ],
   "source": [
    "weather['heat_cool'].isnull().sum()"
   ]
  },
  {
   "cell_type": "markdown",
   "metadata": {
    "id": "jQaQzzofaaED"
   },
   "source": [
    "Since the values in this new column effectively represent the values for `heat` and `cool` collectively, we will drop the `heat` and `cool` columns:"
   ]
  },
  {
   "cell_type": "code",
   "execution_count": 53,
   "metadata": {
    "id": "pbceOTI3bG74"
   },
   "outputs": [],
   "source": [
    "weather.drop(columns=['heat', 'cool'], inplace=True)"
   ]
  },
  {
   "cell_type": "markdown",
   "metadata": {
    "id": "YTohnFFDbPmH"
   },
   "source": [
    "The columns have been dropped:"
   ]
  },
  {
   "cell_type": "code",
   "execution_count": 54,
   "metadata": {
    "colab": {
     "base_uri": "https://localhost:8080/"
    },
    "executionInfo": {
     "elapsed": 56,
     "status": "ok",
     "timestamp": 1637236767305,
     "user": {
      "displayName": "Tze Ling Gan",
      "photoUrl": "https://lh3.googleusercontent.com/a/default-user=s64",
      "userId": "17059842666868387383"
     },
     "user_tz": -480
    },
    "id": "GuvuHKdebVHX",
    "outputId": "f751027c-45d8-46fa-9803-4f3a12d8e697"
   },
   "outputs": [
    {
     "data": {
      "text/plain": [
       "False"
      ]
     },
     "execution_count": 54,
     "metadata": {},
     "output_type": "execute_result"
    }
   ],
   "source": [
    "'heat' in weather.columns"
   ]
  },
  {
   "cell_type": "code",
   "execution_count": 55,
   "metadata": {
    "colab": {
     "base_uri": "https://localhost:8080/"
    },
    "executionInfo": {
     "elapsed": 46,
     "status": "ok",
     "timestamp": 1637236767305,
     "user": {
      "displayName": "Tze Ling Gan",
      "photoUrl": "https://lh3.googleusercontent.com/a/default-user=s64",
      "userId": "17059842666868387383"
     },
     "user_tz": -480
    },
    "id": "NfRVp0Dnbghw",
    "outputId": "32180b79-1a49-46ea-fb08-2c5e87a1536b"
   },
   "outputs": [
    {
     "data": {
      "text/plain": [
       "False"
      ]
     },
     "execution_count": 55,
     "metadata": {},
     "output_type": "execute_result"
    }
   ],
   "source": [
    "'cool' in weather.columns"
   ]
  },
  {
   "cell_type": "markdown",
   "metadata": {
    "id": "WYxkQngf53vY"
   },
   "source": [
    "### Imputing values for the `depart` column \n",
    "\n",
    "This column is the last column where the values are present in Station 1 but not Station 2. A sample from the revelant columns is shown below:"
   ]
  },
  {
   "cell_type": "code",
   "execution_count": 56,
   "metadata": {
    "colab": {
     "base_uri": "https://localhost:8080/",
     "height": 201
    },
    "executionInfo": {
     "elapsed": 36,
     "status": "ok",
     "timestamp": 1637236767306,
     "user": {
      "displayName": "Tze Ling Gan",
      "photoUrl": "https://lh3.googleusercontent.com/a/default-user=s64",
      "userId": "17059842666868387383"
     },
     "user_tz": -480
    },
    "id": "Oy0GiKV094mT",
    "outputId": "6455ea2a-47fa-4aee-edef-409ccfdcdfce"
   },
   "outputs": [
    {
     "data": {
      "text/html": [
       "<div>\n",
       "<style scoped>\n",
       "    .dataframe tbody tr th:only-of-type {\n",
       "        vertical-align: middle;\n",
       "    }\n",
       "\n",
       "    .dataframe tbody tr th {\n",
       "        vertical-align: top;\n",
       "    }\n",
       "\n",
       "    .dataframe thead th {\n",
       "        text-align: right;\n",
       "    }\n",
       "</style>\n",
       "<table border=\"1\" class=\"dataframe\">\n",
       "  <thead>\n",
       "    <tr style=\"text-align: right;\">\n",
       "      <th></th>\n",
       "      <th>station</th>\n",
       "      <th>date</th>\n",
       "      <th>depart</th>\n",
       "      <th>tavg</th>\n",
       "    </tr>\n",
       "  </thead>\n",
       "  <tbody>\n",
       "    <tr>\n",
       "      <th>0</th>\n",
       "      <td>1</td>\n",
       "      <td>2007-05-01</td>\n",
       "      <td>14</td>\n",
       "      <td>67</td>\n",
       "    </tr>\n",
       "    <tr>\n",
       "      <th>1</th>\n",
       "      <td>2</td>\n",
       "      <td>2007-05-01</td>\n",
       "      <td>NaN</td>\n",
       "      <td>68</td>\n",
       "    </tr>\n",
       "    <tr>\n",
       "      <th>2</th>\n",
       "      <td>1</td>\n",
       "      <td>2007-05-02</td>\n",
       "      <td>-3</td>\n",
       "      <td>51</td>\n",
       "    </tr>\n",
       "    <tr>\n",
       "      <th>3</th>\n",
       "      <td>2</td>\n",
       "      <td>2007-05-02</td>\n",
       "      <td>NaN</td>\n",
       "      <td>52</td>\n",
       "    </tr>\n",
       "    <tr>\n",
       "      <th>4</th>\n",
       "      <td>1</td>\n",
       "      <td>2007-05-03</td>\n",
       "      <td>2</td>\n",
       "      <td>56</td>\n",
       "    </tr>\n",
       "  </tbody>\n",
       "</table>\n",
       "</div>"
      ],
      "text/plain": [
       "   station        date depart  tavg\n",
       "0        1  2007-05-01     14    67\n",
       "1        2  2007-05-01    NaN    68\n",
       "2        1  2007-05-02     -3    51\n",
       "3        2  2007-05-02    NaN    52\n",
       "4        1  2007-05-03      2    56"
      ]
     },
     "execution_count": 56,
     "metadata": {},
     "output_type": "execute_result"
    }
   ],
   "source": [
    "weather[['station','date', 'depart', 'tavg']].head()"
   ]
  },
  {
   "cell_type": "markdown",
   "metadata": {
    "id": "15HAr7_B91uy"
   },
   "source": [
    "The column represents the departure of the average temperature (`tavg`) from the 'normal', according to the data documentation. We can derive the normal value from subtracting the `depart` from the `tavg` value. \n",
    "\n",
    "There is a use for deriving the normal value. If we have the normal values for Station 1, we can then try to derive the normal values for Station 2. With that, the missing Station 2 `depart` values can be derived by subtracting the `normal` from `tavg`: \n",
    "\n",
    "First, we will check the datatype of the `depart` column."
   ]
  },
  {
   "cell_type": "code",
   "execution_count": 57,
   "metadata": {
    "colab": {
     "base_uri": "https://localhost:8080/"
    },
    "executionInfo": {
     "elapsed": 36,
     "status": "ok",
     "timestamp": 1637236767306,
     "user": {
      "displayName": "Tze Ling Gan",
      "photoUrl": "https://lh3.googleusercontent.com/a/default-user=s64",
      "userId": "17059842666868387383"
     },
     "user_tz": -480
    },
    "id": "zOgtEF57_k1K",
    "outputId": "8aba7ef2-d2d0-47db-9976-db3414af5788"
   },
   "outputs": [
    {
     "name": "stdout",
     "output_type": "stream",
     "text": [
      "<class 'pandas.core.frame.DataFrame'>\n",
      "RangeIndex: 2944 entries, 0 to 2943\n",
      "Data columns (total 1 columns):\n",
      " #   Column  Non-Null Count  Dtype \n",
      "---  ------  --------------  ----- \n",
      " 0   depart  1472 non-null   object\n",
      "dtypes: object(1)\n",
      "memory usage: 23.1+ KB\n"
     ]
    }
   ],
   "source": [
    "weather[['depart']].info()"
   ]
  },
  {
   "cell_type": "markdown",
   "metadata": {
    "id": "FzmNloP-CIdA"
   },
   "source": [
    "The column is not in a numeric datatype. It has to be converted as follows:"
   ]
  },
  {
   "cell_type": "code",
   "execution_count": 58,
   "metadata": {
    "id": "Ap2ngSCz-jfy"
   },
   "outputs": [],
   "source": [
    "# errors='coerce' to complete the conversion despite NaNs in the 'Depart' column\n",
    "weather['depart'] = pd.to_numeric(weather['depart'], errors='coerce')"
   ]
  },
  {
   "cell_type": "markdown",
   "metadata": {
    "id": "LJgqyb3ICnXP"
   },
   "source": [
    "The value has been converted:"
   ]
  },
  {
   "cell_type": "code",
   "execution_count": 59,
   "metadata": {
    "colab": {
     "base_uri": "https://localhost:8080/"
    },
    "executionInfo": {
     "elapsed": 25,
     "status": "ok",
     "timestamp": 1637236767306,
     "user": {
      "displayName": "Tze Ling Gan",
      "photoUrl": "https://lh3.googleusercontent.com/a/default-user=s64",
      "userId": "17059842666868387383"
     },
     "user_tz": -480
    },
    "id": "v_059s2iCd74",
    "outputId": "ad9ffc9d-4f57-47e0-e0b8-748384c4dde8"
   },
   "outputs": [
    {
     "name": "stdout",
     "output_type": "stream",
     "text": [
      "<class 'pandas.core.frame.DataFrame'>\n",
      "RangeIndex: 2944 entries, 0 to 2943\n",
      "Data columns (total 1 columns):\n",
      " #   Column  Non-Null Count  Dtype  \n",
      "---  ------  --------------  -----  \n",
      " 0   depart  1472 non-null   float64\n",
      "dtypes: float64(1)\n",
      "memory usage: 23.1 KB\n"
     ]
    }
   ],
   "source": [
    "weather[['depart']].info()"
   ]
  },
  {
   "cell_type": "markdown",
   "metadata": {
    "id": "ZN4HVPjZCzhR"
   },
   "source": [
    "We will now create a new column for the normal temperature. This number will be derived from the `tavg` and the `depart` values.  "
   ]
  },
  {
   "cell_type": "code",
   "execution_count": 60,
   "metadata": {
    "id": "k6_noPRp_b9x"
   },
   "outputs": [],
   "source": [
    "weather['normal'] = weather['tavg'] - weather['depart']"
   ]
  },
  {
   "cell_type": "markdown",
   "metadata": {
    "id": "OKOaiaCkEgeX"
   },
   "source": [
    "The column was created (values for Station 2 remain as NaN):"
   ]
  },
  {
   "cell_type": "code",
   "execution_count": 61,
   "metadata": {
    "colab": {
     "base_uri": "https://localhost:8080/",
     "height": 352
    },
    "executionInfo": {
     "elapsed": 15,
     "status": "ok",
     "timestamp": 1637236767306,
     "user": {
      "displayName": "Tze Ling Gan",
      "photoUrl": "https://lh3.googleusercontent.com/a/default-user=s64",
      "userId": "17059842666868387383"
     },
     "user_tz": -480
    },
    "id": "uMTJdFiM-T67",
    "outputId": "2797f9b0-711e-42b9-bce4-cc2d056a74be"
   },
   "outputs": [
    {
     "data": {
      "text/html": [
       "<div>\n",
       "<style scoped>\n",
       "    .dataframe tbody tr th:only-of-type {\n",
       "        vertical-align: middle;\n",
       "    }\n",
       "\n",
       "    .dataframe tbody tr th {\n",
       "        vertical-align: top;\n",
       "    }\n",
       "\n",
       "    .dataframe thead th {\n",
       "        text-align: right;\n",
       "    }\n",
       "</style>\n",
       "<table border=\"1\" class=\"dataframe\">\n",
       "  <thead>\n",
       "    <tr style=\"text-align: right;\">\n",
       "      <th></th>\n",
       "      <th>station</th>\n",
       "      <th>date</th>\n",
       "      <th>depart</th>\n",
       "      <th>tavg</th>\n",
       "      <th>normal</th>\n",
       "    </tr>\n",
       "  </thead>\n",
       "  <tbody>\n",
       "    <tr>\n",
       "      <th>0</th>\n",
       "      <td>1</td>\n",
       "      <td>2007-05-01</td>\n",
       "      <td>14.0</td>\n",
       "      <td>67</td>\n",
       "      <td>53.0</td>\n",
       "    </tr>\n",
       "    <tr>\n",
       "      <th>1</th>\n",
       "      <td>2</td>\n",
       "      <td>2007-05-01</td>\n",
       "      <td>NaN</td>\n",
       "      <td>68</td>\n",
       "      <td>NaN</td>\n",
       "    </tr>\n",
       "    <tr>\n",
       "      <th>2</th>\n",
       "      <td>1</td>\n",
       "      <td>2007-05-02</td>\n",
       "      <td>-3.0</td>\n",
       "      <td>51</td>\n",
       "      <td>54.0</td>\n",
       "    </tr>\n",
       "    <tr>\n",
       "      <th>3</th>\n",
       "      <td>2</td>\n",
       "      <td>2007-05-02</td>\n",
       "      <td>NaN</td>\n",
       "      <td>52</td>\n",
       "      <td>NaN</td>\n",
       "    </tr>\n",
       "    <tr>\n",
       "      <th>4</th>\n",
       "      <td>1</td>\n",
       "      <td>2007-05-03</td>\n",
       "      <td>2.0</td>\n",
       "      <td>56</td>\n",
       "      <td>54.0</td>\n",
       "    </tr>\n",
       "    <tr>\n",
       "      <th>5</th>\n",
       "      <td>2</td>\n",
       "      <td>2007-05-03</td>\n",
       "      <td>NaN</td>\n",
       "      <td>58</td>\n",
       "      <td>NaN</td>\n",
       "    </tr>\n",
       "    <tr>\n",
       "      <th>6</th>\n",
       "      <td>1</td>\n",
       "      <td>2007-05-04</td>\n",
       "      <td>4.0</td>\n",
       "      <td>58</td>\n",
       "      <td>54.0</td>\n",
       "    </tr>\n",
       "    <tr>\n",
       "      <th>7</th>\n",
       "      <td>2</td>\n",
       "      <td>2007-05-04</td>\n",
       "      <td>NaN</td>\n",
       "      <td>64</td>\n",
       "      <td>NaN</td>\n",
       "    </tr>\n",
       "    <tr>\n",
       "      <th>8</th>\n",
       "      <td>1</td>\n",
       "      <td>2007-05-05</td>\n",
       "      <td>5.0</td>\n",
       "      <td>60</td>\n",
       "      <td>55.0</td>\n",
       "    </tr>\n",
       "    <tr>\n",
       "      <th>9</th>\n",
       "      <td>2</td>\n",
       "      <td>2007-05-05</td>\n",
       "      <td>NaN</td>\n",
       "      <td>60</td>\n",
       "      <td>NaN</td>\n",
       "    </tr>\n",
       "  </tbody>\n",
       "</table>\n",
       "</div>"
      ],
      "text/plain": [
       "   station        date  depart  tavg  normal\n",
       "0        1  2007-05-01    14.0    67    53.0\n",
       "1        2  2007-05-01     NaN    68     NaN\n",
       "2        1  2007-05-02    -3.0    51    54.0\n",
       "3        2  2007-05-02     NaN    52     NaN\n",
       "4        1  2007-05-03     2.0    56    54.0\n",
       "5        2  2007-05-03     NaN    58     NaN\n",
       "6        1  2007-05-04     4.0    58    54.0\n",
       "7        2  2007-05-04     NaN    64     NaN\n",
       "8        1  2007-05-05     5.0    60    55.0\n",
       "9        2  2007-05-05     NaN    60     NaN"
      ]
     },
     "execution_count": 61,
     "metadata": {},
     "output_type": "execute_result"
    }
   ],
   "source": [
    "weather[['station','date', 'depart', 'tavg', 'normal']].head(10)"
   ]
  },
  {
   "cell_type": "markdown",
   "metadata": {
    "id": "nhN12KpmFUjm"
   },
   "source": [
    "It seems like these values are daily normal values, as they change from day to day. According to historical U.S. Climate Normals values from the NOAA, the Station 2 values (CHICAGO MIDWAY INTL ARPT) ([*source*](https://www.ncei.noaa.gov/access/us-climate-normals/#dataset=normals-daily&timeframe=81&location=IL&station=USW00014819&month=5)) tend to be about 2 degrees higher than the Station 1 values (CHICAGO O'HARE INTERNATIONAL AIRPORT) ([*source*](https://www.ncei.noaa.gov/access/us-climate-normals/#dataset=normals-daily&timeframe=81&location=IL&station=USW00094846&month=5)). Thus, we will impute the normal values for Station 2 as the Station 1 values, plus 2 degrees.\n",
    "\n",
    "First, we create a function to impute the missing Station 2 `depart` values."
   ]
  },
  {
   "cell_type": "code",
   "execution_count": 62,
   "metadata": {
    "id": "TVkrkF5JFAlL"
   },
   "outputs": [],
   "source": [
    "def impute_depart(row):\n",
    "    # Applies the function on Station 2 rows.\n",
    "    if row['station'] == 2:\n",
    "        # Gets the Station 1 normal value for the same date.\n",
    "        station_1_value = weather[(weather['date'] == row['date']) & (weather['station'] == 1)]['normal'].values[0]\n",
    "        # Adds 2 to that value obtained. \n",
    "        row['normal'] = station_1_value + 2\n",
    "    return row"
   ]
  },
  {
   "cell_type": "markdown",
   "metadata": {
    "id": "vnEzEmpaqRL-"
   },
   "source": [
    "Then, we apply that function:"
   ]
  },
  {
   "cell_type": "code",
   "execution_count": 63,
   "metadata": {
    "id": "7TUgaMRPqTwY"
   },
   "outputs": [],
   "source": [
    "weather = weather.apply(impute_depart, axis=1)"
   ]
  },
  {
   "cell_type": "markdown",
   "metadata": {
    "id": "s1QawzZBFhaW"
   },
   "source": [
    "The filling of the values was successful:"
   ]
  },
  {
   "cell_type": "code",
   "execution_count": 64,
   "metadata": {
    "colab": {
     "base_uri": "https://localhost:8080/",
     "height": 201
    },
    "executionInfo": {
     "elapsed": 77,
     "status": "ok",
     "timestamp": 1637236769320,
     "user": {
      "displayName": "Tze Ling Gan",
      "photoUrl": "https://lh3.googleusercontent.com/a/default-user=s64",
      "userId": "17059842666868387383"
     },
     "user_tz": -480
    },
    "id": "9O-bjbzwFfzV",
    "outputId": "da3b8654-ae18-4de7-e1ab-43fff6c9d757"
   },
   "outputs": [
    {
     "data": {
      "text/html": [
       "<div>\n",
       "<style scoped>\n",
       "    .dataframe tbody tr th:only-of-type {\n",
       "        vertical-align: middle;\n",
       "    }\n",
       "\n",
       "    .dataframe tbody tr th {\n",
       "        vertical-align: top;\n",
       "    }\n",
       "\n",
       "    .dataframe thead th {\n",
       "        text-align: right;\n",
       "    }\n",
       "</style>\n",
       "<table border=\"1\" class=\"dataframe\">\n",
       "  <thead>\n",
       "    <tr style=\"text-align: right;\">\n",
       "      <th></th>\n",
       "      <th>station</th>\n",
       "      <th>date</th>\n",
       "      <th>depart</th>\n",
       "      <th>tavg</th>\n",
       "      <th>normal</th>\n",
       "    </tr>\n",
       "  </thead>\n",
       "  <tbody>\n",
       "    <tr>\n",
       "      <th>0</th>\n",
       "      <td>1</td>\n",
       "      <td>2007-05-01</td>\n",
       "      <td>14.0</td>\n",
       "      <td>67</td>\n",
       "      <td>53.0</td>\n",
       "    </tr>\n",
       "    <tr>\n",
       "      <th>1</th>\n",
       "      <td>2</td>\n",
       "      <td>2007-05-01</td>\n",
       "      <td>NaN</td>\n",
       "      <td>68</td>\n",
       "      <td>55.0</td>\n",
       "    </tr>\n",
       "    <tr>\n",
       "      <th>2</th>\n",
       "      <td>1</td>\n",
       "      <td>2007-05-02</td>\n",
       "      <td>-3.0</td>\n",
       "      <td>51</td>\n",
       "      <td>54.0</td>\n",
       "    </tr>\n",
       "    <tr>\n",
       "      <th>3</th>\n",
       "      <td>2</td>\n",
       "      <td>2007-05-02</td>\n",
       "      <td>NaN</td>\n",
       "      <td>52</td>\n",
       "      <td>56.0</td>\n",
       "    </tr>\n",
       "    <tr>\n",
       "      <th>4</th>\n",
       "      <td>1</td>\n",
       "      <td>2007-05-03</td>\n",
       "      <td>2.0</td>\n",
       "      <td>56</td>\n",
       "      <td>54.0</td>\n",
       "    </tr>\n",
       "  </tbody>\n",
       "</table>\n",
       "</div>"
      ],
      "text/plain": [
       "   station        date  depart  tavg  normal\n",
       "0        1  2007-05-01    14.0    67    53.0\n",
       "1        2  2007-05-01     NaN    68    55.0\n",
       "2        1  2007-05-02    -3.0    51    54.0\n",
       "3        2  2007-05-02     NaN    52    56.0\n",
       "4        1  2007-05-03     2.0    56    54.0"
      ]
     },
     "execution_count": 64,
     "metadata": {},
     "output_type": "execute_result"
    }
   ],
   "source": [
    "weather[['station','date', 'depart', 'tavg', 'normal']].head()"
   ]
  },
  {
   "cell_type": "markdown",
   "metadata": {
    "id": "L3foYNKLFkbn"
   },
   "source": [
    "Now, the values in `depart` will be derived from subtracting `normal` from `tavg`. This will overwrite the existing null values in the Station 2 data under the `depart` column:"
   ]
  },
  {
   "cell_type": "code",
   "execution_count": 65,
   "metadata": {
    "id": "r8bOana--fub"
   },
   "outputs": [],
   "source": [
    "weather['depart'] = weather['tavg'] - weather['normal'] "
   ]
  },
  {
   "cell_type": "markdown",
   "metadata": {
    "id": "uYoP_BoZdmRG"
   },
   "source": [
    "There are no more null values in `Depart`:"
   ]
  },
  {
   "cell_type": "code",
   "execution_count": 66,
   "metadata": {
    "colab": {
     "base_uri": "https://localhost:8080/"
    },
    "executionInfo": {
     "elapsed": 75,
     "status": "ok",
     "timestamp": 1637236769320,
     "user": {
      "displayName": "Tze Ling Gan",
      "photoUrl": "https://lh3.googleusercontent.com/a/default-user=s64",
      "userId": "17059842666868387383"
     },
     "user_tz": -480
    },
    "id": "-BJbNj_ldm72",
    "outputId": "4a744d0c-cb01-47dd-a362-9221a00bc24e"
   },
   "outputs": [
    {
     "data": {
      "text/plain": [
       "0"
      ]
     },
     "execution_count": 66,
     "metadata": {},
     "output_type": "execute_result"
    }
   ],
   "source": [
    "weather['depart'].isnull().sum()"
   ]
  },
  {
   "cell_type": "markdown",
   "metadata": {
    "id": "3SQKfMaQdU22"
   },
   "source": [
    "Finally, we will change the datatypes of `Depart` and `Normal` from from float to integer."
   ]
  },
  {
   "cell_type": "code",
   "execution_count": 67,
   "metadata": {
    "id": "4PbIVn3OdPS_"
   },
   "outputs": [],
   "source": [
    "# Convert to integer data type to align with Tmax and Tmin\n",
    "weather['depart'] = weather['depart'].astype('int64')\n",
    "weather['normal'] = weather['normal'].astype('int64')"
   ]
  },
  {
   "cell_type": "markdown",
   "metadata": {
    "id": "dkmU7X2_NNvF"
   },
   "source": [
    "The datatypes have been changed:"
   ]
  },
  {
   "cell_type": "code",
   "execution_count": 68,
   "metadata": {
    "colab": {
     "base_uri": "https://localhost:8080/"
    },
    "executionInfo": {
     "elapsed": 66,
     "status": "ok",
     "timestamp": 1637236769320,
     "user": {
      "displayName": "Tze Ling Gan",
      "photoUrl": "https://lh3.googleusercontent.com/a/default-user=s64",
      "userId": "17059842666868387383"
     },
     "user_tz": -480
    },
    "id": "PvGJIvQzIeRN",
    "outputId": "f61c9a75-92d9-4ac4-8891-4901c41f8ffc"
   },
   "outputs": [
    {
     "name": "stdout",
     "output_type": "stream",
     "text": [
      "<class 'pandas.core.frame.DataFrame'>\n",
      "RangeIndex: 2944 entries, 0 to 2943\n",
      "Data columns (total 2 columns):\n",
      " #   Column  Non-Null Count  Dtype\n",
      "---  ------  --------------  -----\n",
      " 0   depart  2944 non-null   int64\n",
      " 1   normal  2944 non-null   int64\n",
      "dtypes: int64(2)\n",
      "memory usage: 46.1 KB\n"
     ]
    }
   ],
   "source": [
    "weather[['depart', 'normal']].info()"
   ]
  },
  {
   "cell_type": "markdown",
   "metadata": {
    "id": "ZN038-uKiNvD"
   },
   "source": [
    "This is the result."
   ]
  },
  {
   "cell_type": "code",
   "execution_count": 69,
   "metadata": {
    "colab": {
     "base_uri": "https://localhost:8080/",
     "height": 201
    },
    "executionInfo": {
     "elapsed": 57,
     "status": "ok",
     "timestamp": 1637236769321,
     "user": {
      "displayName": "Tze Ling Gan",
      "photoUrl": "https://lh3.googleusercontent.com/a/default-user=s64",
      "userId": "17059842666868387383"
     },
     "user_tz": -480
    },
    "id": "uqG8G1rQ6tsg",
    "outputId": "4106747c-a449-49f4-afff-97f0d6e805ea"
   },
   "outputs": [
    {
     "data": {
      "text/html": [
       "<div>\n",
       "<style scoped>\n",
       "    .dataframe tbody tr th:only-of-type {\n",
       "        vertical-align: middle;\n",
       "    }\n",
       "\n",
       "    .dataframe tbody tr th {\n",
       "        vertical-align: top;\n",
       "    }\n",
       "\n",
       "    .dataframe thead th {\n",
       "        text-align: right;\n",
       "    }\n",
       "</style>\n",
       "<table border=\"1\" class=\"dataframe\">\n",
       "  <thead>\n",
       "    <tr style=\"text-align: right;\">\n",
       "      <th></th>\n",
       "      <th>station</th>\n",
       "      <th>date</th>\n",
       "      <th>depart</th>\n",
       "      <th>tavg</th>\n",
       "      <th>normal</th>\n",
       "    </tr>\n",
       "  </thead>\n",
       "  <tbody>\n",
       "    <tr>\n",
       "      <th>0</th>\n",
       "      <td>1</td>\n",
       "      <td>2007-05-01</td>\n",
       "      <td>14</td>\n",
       "      <td>67</td>\n",
       "      <td>53</td>\n",
       "    </tr>\n",
       "    <tr>\n",
       "      <th>1</th>\n",
       "      <td>2</td>\n",
       "      <td>2007-05-01</td>\n",
       "      <td>13</td>\n",
       "      <td>68</td>\n",
       "      <td>55</td>\n",
       "    </tr>\n",
       "    <tr>\n",
       "      <th>2</th>\n",
       "      <td>1</td>\n",
       "      <td>2007-05-02</td>\n",
       "      <td>-3</td>\n",
       "      <td>51</td>\n",
       "      <td>54</td>\n",
       "    </tr>\n",
       "    <tr>\n",
       "      <th>3</th>\n",
       "      <td>2</td>\n",
       "      <td>2007-05-02</td>\n",
       "      <td>-4</td>\n",
       "      <td>52</td>\n",
       "      <td>56</td>\n",
       "    </tr>\n",
       "    <tr>\n",
       "      <th>4</th>\n",
       "      <td>1</td>\n",
       "      <td>2007-05-03</td>\n",
       "      <td>2</td>\n",
       "      <td>56</td>\n",
       "      <td>54</td>\n",
       "    </tr>\n",
       "  </tbody>\n",
       "</table>\n",
       "</div>"
      ],
      "text/plain": [
       "   station        date  depart  tavg  normal\n",
       "0        1  2007-05-01      14    67      53\n",
       "1        2  2007-05-01      13    68      55\n",
       "2        1  2007-05-02      -3    51      54\n",
       "3        2  2007-05-02      -4    52      56\n",
       "4        1  2007-05-03       2    56      54"
      ]
     },
     "execution_count": 69,
     "metadata": {},
     "output_type": "execute_result"
    }
   ],
   "source": [
    "weather[['station','date', 'depart', 'tavg', 'normal']].head()"
   ]
  },
  {
   "cell_type": "markdown",
   "metadata": {
    "id": "Ve10xZ-BjR4b"
   },
   "source": [
    "### Imputing values for the `sea_level`column\n",
    "\n",
    "`sea_level` is the average sea level atmospheric pressure in inches of mercury (inHg). This is what the values in the `sea_level` column look like:"
   ]
  },
  {
   "cell_type": "code",
   "execution_count": 70,
   "metadata": {
    "colab": {
     "base_uri": "https://localhost:8080/",
     "height": 352
    },
    "executionInfo": {
     "elapsed": 56,
     "status": "ok",
     "timestamp": 1637236769321,
     "user": {
      "displayName": "Tze Ling Gan",
      "photoUrl": "https://lh3.googleusercontent.com/a/default-user=s64",
      "userId": "17059842666868387383"
     },
     "user_tz": -480
    },
    "id": "xA9SZJSnOxH1",
    "outputId": "c424cafd-9cb3-4c78-a753-c74d03f1768d"
   },
   "outputs": [
    {
     "data": {
      "text/html": [
       "<div>\n",
       "<style scoped>\n",
       "    .dataframe tbody tr th:only-of-type {\n",
       "        vertical-align: middle;\n",
       "    }\n",
       "\n",
       "    .dataframe tbody tr th {\n",
       "        vertical-align: top;\n",
       "    }\n",
       "\n",
       "    .dataframe thead th {\n",
       "        text-align: right;\n",
       "    }\n",
       "</style>\n",
       "<table border=\"1\" class=\"dataframe\">\n",
       "  <thead>\n",
       "    <tr style=\"text-align: right;\">\n",
       "      <th></th>\n",
       "      <th>date</th>\n",
       "      <th>station</th>\n",
       "      <th>sea_level</th>\n",
       "    </tr>\n",
       "  </thead>\n",
       "  <tbody>\n",
       "    <tr>\n",
       "      <th>0</th>\n",
       "      <td>2007-05-01</td>\n",
       "      <td>1</td>\n",
       "      <td>29.82</td>\n",
       "    </tr>\n",
       "    <tr>\n",
       "      <th>1</th>\n",
       "      <td>2007-05-01</td>\n",
       "      <td>2</td>\n",
       "      <td>29.82</td>\n",
       "    </tr>\n",
       "    <tr>\n",
       "      <th>2</th>\n",
       "      <td>2007-05-02</td>\n",
       "      <td>1</td>\n",
       "      <td>30.09</td>\n",
       "    </tr>\n",
       "    <tr>\n",
       "      <th>3</th>\n",
       "      <td>2007-05-02</td>\n",
       "      <td>2</td>\n",
       "      <td>30.08</td>\n",
       "    </tr>\n",
       "    <tr>\n",
       "      <th>4</th>\n",
       "      <td>2007-05-03</td>\n",
       "      <td>1</td>\n",
       "      <td>30.12</td>\n",
       "    </tr>\n",
       "    <tr>\n",
       "      <th>5</th>\n",
       "      <td>2007-05-03</td>\n",
       "      <td>2</td>\n",
       "      <td>30.12</td>\n",
       "    </tr>\n",
       "    <tr>\n",
       "      <th>6</th>\n",
       "      <td>2007-05-04</td>\n",
       "      <td>1</td>\n",
       "      <td>30.05</td>\n",
       "    </tr>\n",
       "    <tr>\n",
       "      <th>7</th>\n",
       "      <td>2007-05-04</td>\n",
       "      <td>2</td>\n",
       "      <td>30.04</td>\n",
       "    </tr>\n",
       "    <tr>\n",
       "      <th>8</th>\n",
       "      <td>2007-05-05</td>\n",
       "      <td>1</td>\n",
       "      <td>30.10</td>\n",
       "    </tr>\n",
       "    <tr>\n",
       "      <th>9</th>\n",
       "      <td>2007-05-05</td>\n",
       "      <td>2</td>\n",
       "      <td>30.09</td>\n",
       "    </tr>\n",
       "  </tbody>\n",
       "</table>\n",
       "</div>"
      ],
      "text/plain": [
       "         date  station sea_level\n",
       "0  2007-05-01        1     29.82\n",
       "1  2007-05-01        2     29.82\n",
       "2  2007-05-02        1     30.09\n",
       "3  2007-05-02        2     30.08\n",
       "4  2007-05-03        1     30.12\n",
       "5  2007-05-03        2     30.12\n",
       "6  2007-05-04        1     30.05\n",
       "7  2007-05-04        2     30.04\n",
       "8  2007-05-05        1     30.10\n",
       "9  2007-05-05        2     30.09"
      ]
     },
     "execution_count": 70,
     "metadata": {},
     "output_type": "execute_result"
    }
   ],
   "source": [
    "weather[['date', 'station', 'sea_level']].head(10)"
   ]
  },
  {
   "cell_type": "markdown",
   "metadata": {
    "id": "TbNvmWC9Osz2"
   },
   "source": [
    "Station 2 is higher than Station 1 in terms of elevation by 50 ft. The higher the altitude, the lower the air pressure ([*source*](https://www.engineeringtoolbox.com/air-altitude-pressure-d_462.html)). However, in this case, the pressure is the one at sea level and not at the station. From the data, we can see that the `sea_level` pressure for Station is the same or lower by about 0.01 inHg. As 0.01 is quite negligible, we will impute the missing Station 2 values with that from from Station 1.\n",
    "\n",
    "To do this, we will create a function."
   ]
  },
  {
   "cell_type": "code",
   "execution_count": 71,
   "metadata": {
    "id": "3-BfCqIojgkE"
   },
   "outputs": [],
   "source": [
    "def fill_cross_station(df, column):\n",
    "    \"\"\"Function to fill missing value in one weather station\n",
    "    with data in the other weather station\"\"\"\n",
    "\n",
    "    # Gets indexes of all rows with missing values in specified column\n",
    "    na_index = df[df[column].isnull()].index\n",
    "\n",
    "    # Checks the row's station and imputes value based on other station\n",
    "    for i in na_index:\n",
    "        if df.loc[i,'station'] == 1: \n",
    "            weather.loc[i, column] = weather.loc[i+1,column]\n",
    "        else: \n",
    "            weather.loc[i, column] = weather.loc[i-1,column]"
   ]
  },
  {
   "cell_type": "markdown",
   "metadata": {
    "id": "xfsAce3tP_yy"
   },
   "source": [
    "Then, we apply the function:"
   ]
  },
  {
   "cell_type": "code",
   "execution_count": 72,
   "metadata": {
    "id": "BT7aCYGSjgwF"
   },
   "outputs": [],
   "source": [
    "fill_cross_station(weather, 'sea_level')"
   ]
  },
  {
   "cell_type": "markdown",
   "metadata": {
    "id": "2d28y6t6QC3F"
   },
   "source": [
    "The values have been filled:"
   ]
  },
  {
   "cell_type": "code",
   "execution_count": 73,
   "metadata": {
    "colab": {
     "base_uri": "https://localhost:8080/"
    },
    "executionInfo": {
     "elapsed": 55,
     "status": "ok",
     "timestamp": 1637236769321,
     "user": {
      "displayName": "Tze Ling Gan",
      "photoUrl": "https://lh3.googleusercontent.com/a/default-user=s64",
      "userId": "17059842666868387383"
     },
     "user_tz": -480
    },
    "id": "8phot7ITjg4y",
    "outputId": "c99973c2-0cf0-46d5-b341-91a3e998fc9f"
   },
   "outputs": [
    {
     "data": {
      "text/plain": [
       "0"
      ]
     },
     "execution_count": 73,
     "metadata": {},
     "output_type": "execute_result"
    }
   ],
   "source": [
    "weather['sea_level'].isnull().sum()"
   ]
  },
  {
   "cell_type": "markdown",
   "metadata": {
    "id": "7MLr6NMQj2jQ"
   },
   "source": [
    "### Imputing values for the `stn_pressure` column\n",
    "\n",
    "This is the average station atmospheric pressure in inches of mercury. As Station 2 is higher than Station 1 in terms of elevation by 50 ft, the atmospheric pressure difference is about 0.05 (inches of Hg) per 50 ft ([*source*](https://www.engineeringtoolbox.com/air-altitude-pressure-d_462.html)). The higher the air pressure, the lower the altitude. Hence, for the missing values for either of the stations, we will add or subtract 0.05 if we are taking Station 1 or Station 2's data respectively. \n",
    "\n",
    "Here, we can see the rows with null values under `stn_pressure`. "
   ]
  },
  {
   "cell_type": "code",
   "execution_count": 74,
   "metadata": {
    "colab": {
     "base_uri": "https://localhost:8080/",
     "height": 170
    },
    "executionInfo": {
     "elapsed": 45,
     "status": "ok",
     "timestamp": 1637236769321,
     "user": {
      "displayName": "Tze Ling Gan",
      "photoUrl": "https://lh3.googleusercontent.com/a/default-user=s64",
      "userId": "17059842666868387383"
     },
     "user_tz": -480
    },
    "id": "Fetyr2HVkOX5",
    "outputId": "6ef0133f-bae3-403a-cebe-3916acae3759"
   },
   "outputs": [
    {
     "data": {
      "text/html": [
       "<div>\n",
       "<style scoped>\n",
       "    .dataframe tbody tr th:only-of-type {\n",
       "        vertical-align: middle;\n",
       "    }\n",
       "\n",
       "    .dataframe tbody tr th {\n",
       "        vertical-align: top;\n",
       "    }\n",
       "\n",
       "    .dataframe thead th {\n",
       "        text-align: right;\n",
       "    }\n",
       "</style>\n",
       "<table border=\"1\" class=\"dataframe\">\n",
       "  <thead>\n",
       "    <tr style=\"text-align: right;\">\n",
       "      <th></th>\n",
       "      <th>station</th>\n",
       "      <th>date</th>\n",
       "      <th>stn_pressure</th>\n",
       "      <th>sea_level</th>\n",
       "    </tr>\n",
       "  </thead>\n",
       "  <tbody>\n",
       "    <tr>\n",
       "      <th>87</th>\n",
       "      <td>2</td>\n",
       "      <td>2007-06-13</td>\n",
       "      <td>NaN</td>\n",
       "      <td>30.09</td>\n",
       "    </tr>\n",
       "    <tr>\n",
       "      <th>848</th>\n",
       "      <td>1</td>\n",
       "      <td>2009-06-26</td>\n",
       "      <td>NaN</td>\n",
       "      <td>29.85</td>\n",
       "    </tr>\n",
       "    <tr>\n",
       "      <th>2410</th>\n",
       "      <td>1</td>\n",
       "      <td>2013-08-10</td>\n",
       "      <td>NaN</td>\n",
       "      <td>30.08</td>\n",
       "    </tr>\n",
       "    <tr>\n",
       "      <th>2411</th>\n",
       "      <td>2</td>\n",
       "      <td>2013-08-10</td>\n",
       "      <td>NaN</td>\n",
       "      <td>30.07</td>\n",
       "    </tr>\n",
       "  </tbody>\n",
       "</table>\n",
       "</div>"
      ],
      "text/plain": [
       "      station        date stn_pressure sea_level\n",
       "87          2  2007-06-13          NaN     30.09\n",
       "848         1  2009-06-26          NaN     29.85\n",
       "2410        1  2013-08-10          NaN     30.08\n",
       "2411        2  2013-08-10          NaN     30.07"
      ]
     },
     "execution_count": 74,
     "metadata": {},
     "output_type": "execute_result"
    }
   ],
   "source": [
    "weather[weather['stn_pressure'].isnull()][['station', 'date', 'stn_pressure', 'sea_level']]"
   ]
  },
  {
   "cell_type": "markdown",
   "metadata": {
    "id": "oZ31vZ1mcyzf"
   },
   "source": [
    "It seems that both Station 1 & 2 has missing data on 10 Aug 2013. This means that we will not be able to cross-impute between stations. To investigate, we will look at the data from the days before and after that date."
   ]
  },
  {
   "cell_type": "code",
   "execution_count": 75,
   "metadata": {
    "colab": {
     "base_uri": "https://localhost:8080/",
     "height": 383
    },
    "executionInfo": {
     "elapsed": 44,
     "status": "ok",
     "timestamp": 1637236769321,
     "user": {
      "displayName": "Tze Ling Gan",
      "photoUrl": "https://lh3.googleusercontent.com/a/default-user=s64",
      "userId": "17059842666868387383"
     },
     "user_tz": -480
    },
    "id": "L70QKusgkOim",
    "outputId": "5f0b98db-e950-4c6e-9850-de40a3ac7f00"
   },
   "outputs": [
    {
     "data": {
      "text/html": [
       "<div>\n",
       "<style scoped>\n",
       "    .dataframe tbody tr th:only-of-type {\n",
       "        vertical-align: middle;\n",
       "    }\n",
       "\n",
       "    .dataframe tbody tr th {\n",
       "        vertical-align: top;\n",
       "    }\n",
       "\n",
       "    .dataframe thead th {\n",
       "        text-align: right;\n",
       "    }\n",
       "</style>\n",
       "<table border=\"1\" class=\"dataframe\">\n",
       "  <thead>\n",
       "    <tr style=\"text-align: right;\">\n",
       "      <th></th>\n",
       "      <th>station</th>\n",
       "      <th>date</th>\n",
       "      <th>stn_pressure</th>\n",
       "      <th>sea_level</th>\n",
       "    </tr>\n",
       "  </thead>\n",
       "  <tbody>\n",
       "    <tr>\n",
       "      <th>2405</th>\n",
       "      <td>2</td>\n",
       "      <td>2013-08-07</td>\n",
       "      <td>29.20</td>\n",
       "      <td>29.82</td>\n",
       "    </tr>\n",
       "    <tr>\n",
       "      <th>2406</th>\n",
       "      <td>1</td>\n",
       "      <td>2013-08-08</td>\n",
       "      <td>29.26</td>\n",
       "      <td>29.98</td>\n",
       "    </tr>\n",
       "    <tr>\n",
       "      <th>2407</th>\n",
       "      <td>2</td>\n",
       "      <td>2013-08-08</td>\n",
       "      <td>29.33</td>\n",
       "      <td>29.96</td>\n",
       "    </tr>\n",
       "    <tr>\n",
       "      <th>2408</th>\n",
       "      <td>1</td>\n",
       "      <td>2013-08-09</td>\n",
       "      <td>29.28</td>\n",
       "      <td>29.98</td>\n",
       "    </tr>\n",
       "    <tr>\n",
       "      <th>2409</th>\n",
       "      <td>2</td>\n",
       "      <td>2013-08-09</td>\n",
       "      <td>29.34</td>\n",
       "      <td>29.97</td>\n",
       "    </tr>\n",
       "    <tr>\n",
       "      <th>2410</th>\n",
       "      <td>1</td>\n",
       "      <td>2013-08-10</td>\n",
       "      <td>NaN</td>\n",
       "      <td>30.08</td>\n",
       "    </tr>\n",
       "    <tr>\n",
       "      <th>2411</th>\n",
       "      <td>2</td>\n",
       "      <td>2013-08-10</td>\n",
       "      <td>NaN</td>\n",
       "      <td>30.07</td>\n",
       "    </tr>\n",
       "    <tr>\n",
       "      <th>2412</th>\n",
       "      <td>1</td>\n",
       "      <td>2013-08-11</td>\n",
       "      <td>29.35</td>\n",
       "      <td>30.07</td>\n",
       "    </tr>\n",
       "    <tr>\n",
       "      <th>2413</th>\n",
       "      <td>2</td>\n",
       "      <td>2013-08-11</td>\n",
       "      <td>29.42</td>\n",
       "      <td>30.06</td>\n",
       "    </tr>\n",
       "    <tr>\n",
       "      <th>2414</th>\n",
       "      <td>1</td>\n",
       "      <td>2013-08-12</td>\n",
       "      <td>29.21</td>\n",
       "      <td>29.93</td>\n",
       "    </tr>\n",
       "    <tr>\n",
       "      <th>2415</th>\n",
       "      <td>2</td>\n",
       "      <td>2013-08-12</td>\n",
       "      <td>29.27</td>\n",
       "      <td>29.92</td>\n",
       "    </tr>\n",
       "  </tbody>\n",
       "</table>\n",
       "</div>"
      ],
      "text/plain": [
       "      station        date stn_pressure sea_level\n",
       "2405        2  2013-08-07        29.20     29.82\n",
       "2406        1  2013-08-08        29.26     29.98\n",
       "2407        2  2013-08-08        29.33     29.96\n",
       "2408        1  2013-08-09        29.28     29.98\n",
       "2409        2  2013-08-09        29.34     29.97\n",
       "2410        1  2013-08-10          NaN     30.08\n",
       "2411        2  2013-08-10          NaN     30.07\n",
       "2412        1  2013-08-11        29.35     30.07\n",
       "2413        2  2013-08-11        29.42     30.06\n",
       "2414        1  2013-08-12        29.21     29.93\n",
       "2415        2  2013-08-12        29.27     29.92"
      ]
     },
     "execution_count": 75,
     "metadata": {},
     "output_type": "execute_result"
    }
   ],
   "source": [
    "weather.loc[2405:2415][['station', 'date', 'stn_pressure', 'sea_level']]"
   ]
  },
  {
   "cell_type": "markdown",
   "metadata": {
    "id": "GiQd9WHpkmz4"
   },
   "source": [
    "Based on the numbers above, the `sea_level` pressure and the `stn_pressure` are related. The higher the `sea_level` pressure, the higher the `stn_pressure`. \n",
    "\n",
    "With regards to 10 Aug 2013, considering that the `sea_level` pressure on 2013-08-10 and the next day's `sea_level` pressure are similar, we will impute the missing `stn_pressure` values from the **next day's values** for the respective stations. "
   ]
  },
  {
   "cell_type": "code",
   "execution_count": 76,
   "metadata": {
    "id": "DpdD8dObkOne"
   },
   "outputs": [],
   "source": [
    "# Replace with the other Station's data that is on the same day - for rows where only one Station is missing\n",
    "weather.loc[87,'stn_pressure'] = (pd.to_numeric(weather.loc[87-1,'stn_pressure']) + 0.05)\n",
    "weather.loc[848,'stn_pressure'] = (pd.to_numeric(weather.loc[848+1,'stn_pressure']) - 0.05)\n",
    "\n",
    "# Replace with next days' data due to similar `SeaLevel`- for 10 Aug 2013\n",
    "weather.loc[2410,'stn_pressure'] = (pd.to_numeric(weather.loc[2410 + 2,'stn_pressure']))\n",
    "weather.loc[2411,'stn_pressure'] = (pd.to_numeric(weather.loc[2411 + 2,'stn_pressure']))"
   ]
  },
  {
   "cell_type": "markdown",
   "metadata": {
    "id": "Cj8v05otdgen"
   },
   "source": [
    "The missing values have been imputed:"
   ]
  },
  {
   "cell_type": "code",
   "execution_count": 77,
   "metadata": {
    "colab": {
     "base_uri": "https://localhost:8080/",
     "height": 170
    },
    "executionInfo": {
     "elapsed": 44,
     "status": "ok",
     "timestamp": 1637236769321,
     "user": {
      "displayName": "Tze Ling Gan",
      "photoUrl": "https://lh3.googleusercontent.com/a/default-user=s64",
      "userId": "17059842666868387383"
     },
     "user_tz": -480
    },
    "id": "adJDJGrWdg8G",
    "outputId": "45cea1a8-1169-4d43-c9c3-76a3b70dd686"
   },
   "outputs": [
    {
     "data": {
      "text/html": [
       "<div>\n",
       "<style scoped>\n",
       "    .dataframe tbody tr th:only-of-type {\n",
       "        vertical-align: middle;\n",
       "    }\n",
       "\n",
       "    .dataframe tbody tr th {\n",
       "        vertical-align: top;\n",
       "    }\n",
       "\n",
       "    .dataframe thead th {\n",
       "        text-align: right;\n",
       "    }\n",
       "</style>\n",
       "<table border=\"1\" class=\"dataframe\">\n",
       "  <thead>\n",
       "    <tr style=\"text-align: right;\">\n",
       "      <th></th>\n",
       "      <th>station</th>\n",
       "      <th>date</th>\n",
       "      <th>stn_pressure</th>\n",
       "      <th>sea_level</th>\n",
       "    </tr>\n",
       "  </thead>\n",
       "  <tbody>\n",
       "    <tr>\n",
       "      <th>87</th>\n",
       "      <td>2</td>\n",
       "      <td>2007-06-13</td>\n",
       "      <td>29.41</td>\n",
       "      <td>30.09</td>\n",
       "    </tr>\n",
       "    <tr>\n",
       "      <th>848</th>\n",
       "      <td>1</td>\n",
       "      <td>2009-06-26</td>\n",
       "      <td>29.15</td>\n",
       "      <td>29.85</td>\n",
       "    </tr>\n",
       "    <tr>\n",
       "      <th>2410</th>\n",
       "      <td>1</td>\n",
       "      <td>2013-08-10</td>\n",
       "      <td>29.35</td>\n",
       "      <td>30.08</td>\n",
       "    </tr>\n",
       "    <tr>\n",
       "      <th>2411</th>\n",
       "      <td>2</td>\n",
       "      <td>2013-08-10</td>\n",
       "      <td>29.42</td>\n",
       "      <td>30.07</td>\n",
       "    </tr>\n",
       "  </tbody>\n",
       "</table>\n",
       "</div>"
      ],
      "text/plain": [
       "      station        date stn_pressure sea_level\n",
       "87          2  2007-06-13        29.41     30.09\n",
       "848         1  2009-06-26        29.15     29.85\n",
       "2410        1  2013-08-10        29.35     30.08\n",
       "2411        2  2013-08-10        29.42     30.07"
      ]
     },
     "execution_count": 77,
     "metadata": {},
     "output_type": "execute_result"
    }
   ],
   "source": [
    "weather[['station', 'date', 'stn_pressure', 'sea_level']].loc[[87, 848, 2410, 2411]]"
   ]
  },
  {
   "cell_type": "markdown",
   "metadata": {
    "id": "wGlYyQbolaPu"
   },
   "source": [
    "### Imputing values for the `wet_bulb` column\n",
    "\n",
    "`wet_bulb` and `dew_point` are measurements of humidity.\n",
    "\n",
    "Wet Bulb temperature is measured by a thermometer with the bulb wrapped in wet muslin ([*source*](https://www.weather.gov/source/zhu/ZHU_Training_Page/definitions/dry_wet_bulb_definition/dry_wet_bulb.html)). The cooling effect of the evaporation means that the Wet Bulb temperature is always lower than the Dry Bulb temperature (but identical at 100% relative humidity since evaporation is reduced when the air is more humid) ([*source*](https://www.weather.gov/source/zhu/ZHU_Training_Page/definitions/dry_wet_bulb_definition/dry_wet_bulb.html)).\n",
    "\n",
    "Dry Bulb Temperature refers basically to the ambient air temperature, for which `tavg` in the data can be an approximate.\n",
    "\n",
    "Hotter air can hold more moisture, but when the temperature decreases to the Dew Point Temperature, the water vapour condenses out of the air due to complete saturation ([*source*](https://www.engineeringtoolbox.com/dry-wet-bulb-dew-point-air-d_682.html)). If the Dew Point Temperature is close to the Dry Bulb Temperature, the relative humidity is high, and if the Dew Point Temperature is much lower than the Dry Bulb Temperature, the relative humidity is low ([*source*](https://www.engineeringtoolbox.com/dry-wet-bulb-dew-point-air-d_682.html)).\n",
    "\n",
    "A psychrometric chart relates the Dry Bulb Temperature, Dew Point and Wet Bulb Temperature at a specific air pressure. This is an overview ([*source*](https://extension.psu.edu/media/wysiwyg/extensions/catalog_product/5/0/e1c23fc2ec4f5db2d5c1e457797fdc/figure-2618df946d186b.png)), and this is an actual chart ([*source*](https://www.engineeringtoolbox.com/docs/documents/816/psychrometric_chart_29inHg.pdf)) This means we can derive the value for `wet_bulb` from `tavg`, `dew_point` and `stn_pressure`.\n",
    "\n",
    "Below is a sample of rows with existing values for `wet_bulb`, showing only relevant columns:"
   ]
  },
  {
   "cell_type": "code",
   "execution_count": 78,
   "metadata": {
    "colab": {
     "base_uri": "https://localhost:8080/",
     "height": 201
    },
    "executionInfo": {
     "elapsed": 44,
     "status": "ok",
     "timestamp": 1637236769322,
     "user": {
      "displayName": "Tze Ling Gan",
      "photoUrl": "https://lh3.googleusercontent.com/a/default-user=s64",
      "userId": "17059842666868387383"
     },
     "user_tz": -480
    },
    "id": "OlbOEVlGiRXq",
    "outputId": "65ed509e-0a5d-4e44-d521-72ef6023057b"
   },
   "outputs": [
    {
     "data": {
      "text/html": [
       "<div>\n",
       "<style scoped>\n",
       "    .dataframe tbody tr th:only-of-type {\n",
       "        vertical-align: middle;\n",
       "    }\n",
       "\n",
       "    .dataframe tbody tr th {\n",
       "        vertical-align: top;\n",
       "    }\n",
       "\n",
       "    .dataframe thead th {\n",
       "        text-align: right;\n",
       "    }\n",
       "</style>\n",
       "<table border=\"1\" class=\"dataframe\">\n",
       "  <thead>\n",
       "    <tr style=\"text-align: right;\">\n",
       "      <th></th>\n",
       "      <th>date</th>\n",
       "      <th>station</th>\n",
       "      <th>tavg</th>\n",
       "      <th>dew_point</th>\n",
       "      <th>wet_bulb</th>\n",
       "      <th>stn_pressure</th>\n",
       "    </tr>\n",
       "  </thead>\n",
       "  <tbody>\n",
       "    <tr>\n",
       "      <th>0</th>\n",
       "      <td>2007-05-01</td>\n",
       "      <td>1</td>\n",
       "      <td>67</td>\n",
       "      <td>51</td>\n",
       "      <td>56</td>\n",
       "      <td>29.10</td>\n",
       "    </tr>\n",
       "    <tr>\n",
       "      <th>1</th>\n",
       "      <td>2007-05-01</td>\n",
       "      <td>2</td>\n",
       "      <td>68</td>\n",
       "      <td>51</td>\n",
       "      <td>57</td>\n",
       "      <td>29.18</td>\n",
       "    </tr>\n",
       "    <tr>\n",
       "      <th>2</th>\n",
       "      <td>2007-05-02</td>\n",
       "      <td>1</td>\n",
       "      <td>51</td>\n",
       "      <td>42</td>\n",
       "      <td>47</td>\n",
       "      <td>29.38</td>\n",
       "    </tr>\n",
       "    <tr>\n",
       "      <th>3</th>\n",
       "      <td>2007-05-02</td>\n",
       "      <td>2</td>\n",
       "      <td>52</td>\n",
       "      <td>42</td>\n",
       "      <td>47</td>\n",
       "      <td>29.44</td>\n",
       "    </tr>\n",
       "    <tr>\n",
       "      <th>4</th>\n",
       "      <td>2007-05-03</td>\n",
       "      <td>1</td>\n",
       "      <td>56</td>\n",
       "      <td>40</td>\n",
       "      <td>48</td>\n",
       "      <td>29.39</td>\n",
       "    </tr>\n",
       "  </tbody>\n",
       "</table>\n",
       "</div>"
      ],
      "text/plain": [
       "         date  station  tavg  dew_point wet_bulb stn_pressure\n",
       "0  2007-05-01        1    67         51       56        29.10\n",
       "1  2007-05-01        2    68         51       57        29.18\n",
       "2  2007-05-02        1    51         42       47        29.38\n",
       "3  2007-05-02        2    52         42       47        29.44\n",
       "4  2007-05-03        1    56         40       48        29.39"
      ]
     },
     "execution_count": 78,
     "metadata": {},
     "output_type": "execute_result"
    }
   ],
   "source": [
    "weather[['date', 'station', 'tavg', 'dew_point', 'wet_bulb', 'stn_pressure']].head()"
   ]
  },
  {
   "cell_type": "markdown",
   "metadata": {
    "id": "HAkxZKjfiYSs"
   },
   "source": [
    "Below are rows with missing values for `WetBulb`, showing only relevant columns:"
   ]
  },
  {
   "cell_type": "code",
   "execution_count": 79,
   "metadata": {
    "colab": {
     "base_uri": "https://localhost:8080/",
     "height": 170
    },
    "executionInfo": {
     "elapsed": 44,
     "status": "ok",
     "timestamp": 1637236769322,
     "user": {
      "displayName": "Tze Ling Gan",
      "photoUrl": "https://lh3.googleusercontent.com/a/default-user=s64",
      "userId": "17059842666868387383"
     },
     "user_tz": -480
    },
    "id": "RrgscL7glgns",
    "outputId": "12ada435-6629-4d48-9b3e-1b16a043c774"
   },
   "outputs": [
    {
     "data": {
      "text/html": [
       "<div>\n",
       "<style scoped>\n",
       "    .dataframe tbody tr th:only-of-type {\n",
       "        vertical-align: middle;\n",
       "    }\n",
       "\n",
       "    .dataframe tbody tr th {\n",
       "        vertical-align: top;\n",
       "    }\n",
       "\n",
       "    .dataframe thead th {\n",
       "        text-align: right;\n",
       "    }\n",
       "</style>\n",
       "<table border=\"1\" class=\"dataframe\">\n",
       "  <thead>\n",
       "    <tr style=\"text-align: right;\">\n",
       "      <th></th>\n",
       "      <th>date</th>\n",
       "      <th>station</th>\n",
       "      <th>tavg</th>\n",
       "      <th>dew_point</th>\n",
       "      <th>wet_bulb</th>\n",
       "      <th>stn_pressure</th>\n",
       "    </tr>\n",
       "  </thead>\n",
       "  <tbody>\n",
       "    <tr>\n",
       "      <th>848</th>\n",
       "      <td>2009-06-26</td>\n",
       "      <td>1</td>\n",
       "      <td>78</td>\n",
       "      <td>60</td>\n",
       "      <td>NaN</td>\n",
       "      <td>29.15</td>\n",
       "    </tr>\n",
       "    <tr>\n",
       "      <th>2410</th>\n",
       "      <td>2013-08-10</td>\n",
       "      <td>1</td>\n",
       "      <td>73</td>\n",
       "      <td>57</td>\n",
       "      <td>NaN</td>\n",
       "      <td>29.35</td>\n",
       "    </tr>\n",
       "    <tr>\n",
       "      <th>2412</th>\n",
       "      <td>2013-08-11</td>\n",
       "      <td>1</td>\n",
       "      <td>71</td>\n",
       "      <td>61</td>\n",
       "      <td>NaN</td>\n",
       "      <td>29.35</td>\n",
       "    </tr>\n",
       "    <tr>\n",
       "      <th>2415</th>\n",
       "      <td>2013-08-12</td>\n",
       "      <td>2</td>\n",
       "      <td>77</td>\n",
       "      <td>63</td>\n",
       "      <td>NaN</td>\n",
       "      <td>29.27</td>\n",
       "    </tr>\n",
       "  </tbody>\n",
       "</table>\n",
       "</div>"
      ],
      "text/plain": [
       "            date  station  tavg  dew_point wet_bulb stn_pressure\n",
       "848   2009-06-26        1    78         60      NaN        29.15\n",
       "2410  2013-08-10        1    73         57      NaN        29.35\n",
       "2412  2013-08-11        1    71         61      NaN        29.35\n",
       "2415  2013-08-12        2    77         63      NaN        29.27"
      ]
     },
     "execution_count": 79,
     "metadata": {},
     "output_type": "execute_result"
    }
   ],
   "source": [
    "weather[weather['wet_bulb'].isnull()][['date', 'station', 'tavg', 'dew_point', 'wet_bulb', 'stn_pressure']]"
   ]
  },
  {
   "cell_type": "markdown",
   "metadata": {
    "id": "Tn2i74ANutIL"
   },
   "source": [
    "We will use an online calculator based on the psychrometric chart that enables us to input the specific pressure for the calculation ([*source*](http://www.michell.com/calculator/)). In this case, we will use `stn_pressure`. The values for each of the 4 rows with missing values will be calculated using the calculator and put into the DataFrame. The value will be rounded according to the nearest degree."
   ]
  },
  {
   "cell_type": "code",
   "execution_count": 80,
   "metadata": {
    "id": "XfAethFZv8k-"
   },
   "outputs": [],
   "source": [
    "weather.loc[848, 'wet_bulb'] = 66\n",
    "weather.loc[2410, 'wet_bulb'] = 63\n",
    "weather.loc[2412, 'wet_bulb'] = 64\n",
    "weather.loc[2415, 'wet_bulb'] = 68"
   ]
  },
  {
   "cell_type": "markdown",
   "metadata": {
    "id": "2XY60OfNzkqB"
   },
   "source": [
    "There are no more null values for the `wet_bulb` column:"
   ]
  },
  {
   "cell_type": "code",
   "execution_count": 81,
   "metadata": {
    "colab": {
     "base_uri": "https://localhost:8080/"
    },
    "executionInfo": {
     "elapsed": 43,
     "status": "ok",
     "timestamp": 1637236769322,
     "user": {
      "displayName": "Tze Ling Gan",
      "photoUrl": "https://lh3.googleusercontent.com/a/default-user=s64",
      "userId": "17059842666868387383"
     },
     "user_tz": -480
    },
    "id": "F_3SX7Cglgti",
    "outputId": "8ceb96c6-623a-4fd6-dd75-7a6a883e5bc2"
   },
   "outputs": [
    {
     "data": {
      "text/plain": [
       "0"
      ]
     },
     "execution_count": 81,
     "metadata": {},
     "output_type": "execute_result"
    }
   ],
   "source": [
    "weather['wet_bulb'].isnull().sum()"
   ]
  },
  {
   "cell_type": "markdown",
   "metadata": {
    "id": "WTRcCIeLl7_l"
   },
   "source": [
    "### Imputing values for `precip_total` and `avg_speed`\n",
    "\n",
    "We will impute `precip_total` and `avg_speed` with the other station's data, with the `fill_cross_station` function:"
   ]
  },
  {
   "cell_type": "code",
   "execution_count": 82,
   "metadata": {
    "id": "_aOddhTrmP8f"
   },
   "outputs": [],
   "source": [
    "fill_cross_station(weather, 'precip_total')\n",
    "fill_cross_station(weather, 'avg_speed')"
   ]
  },
  {
   "cell_type": "markdown",
   "metadata": {
    "id": "NAX-ozfY101e"
   },
   "source": [
    "There are no more null values in the `weather` dataset:"
   ]
  },
  {
   "cell_type": "code",
   "execution_count": 83,
   "metadata": {
    "colab": {
     "base_uri": "https://localhost:8080/"
    },
    "executionInfo": {
     "elapsed": 33,
     "status": "ok",
     "timestamp": 1637236769322,
     "user": {
      "displayName": "Tze Ling Gan",
      "photoUrl": "https://lh3.googleusercontent.com/a/default-user=s64",
      "userId": "17059842666868387383"
     },
     "user_tz": -480
    },
    "id": "OjAGWx7xmQFt",
    "outputId": "a3b12ccf-a6b2-48fa-8fc2-d22a410f3577"
   },
   "outputs": [
    {
     "data": {
      "text/plain": [
       "0"
      ]
     },
     "execution_count": 83,
     "metadata": {},
     "output_type": "execute_result"
    }
   ],
   "source": [
    "weather.isnull().sum().sum()"
   ]
  },
  {
   "cell_type": "markdown",
   "metadata": {
    "id": "kjBZQIiDV6KU"
   },
   "source": [
    "### Creating year, month, week and day of week columns \n",
    "\n",
    "We will convert the 'Date' column to datetime format and also add the Year, Month, Week, Day and Day of Week as features."
   ]
  },
  {
   "cell_type": "code",
   "execution_count": 84,
   "metadata": {
    "id": "Kjde1_ngge0x"
   },
   "outputs": [],
   "source": [
    "weather['date'] = pd.to_datetime(weather['date'])\n",
    "weather['year'] = weather['date'].apply(lambda x: x.year)\n",
    "weather['month'] = weather['date'].apply(lambda x: x.month)\n",
    "weather['day'] = weather['date'].apply(lambda x: x.day)\n",
    "weather['week'] = weather['date'].apply(lambda x: x.week)\n",
    "weather['day_of_week'] = weather['date'].apply(lambda x: x.dayofweek)"
   ]
  },
  {
   "cell_type": "markdown",
   "metadata": {
    "id": "17f3IlxYirmm"
   },
   "source": [
    "This is how the new columns look:"
   ]
  },
  {
   "cell_type": "code",
   "execution_count": 85,
   "metadata": {
    "colab": {
     "base_uri": "https://localhost:8080/",
     "height": 201
    },
    "executionInfo": {
     "elapsed": 23,
     "status": "ok",
     "timestamp": 1637236769322,
     "user": {
      "displayName": "Tze Ling Gan",
      "photoUrl": "https://lh3.googleusercontent.com/a/default-user=s64",
      "userId": "17059842666868387383"
     },
     "user_tz": -480
    },
    "id": "fpNEtFmFit8p",
    "outputId": "9600acb3-0397-41b7-d330-dbf4763973ec"
   },
   "outputs": [
    {
     "data": {
      "text/html": [
       "<div>\n",
       "<style scoped>\n",
       "    .dataframe tbody tr th:only-of-type {\n",
       "        vertical-align: middle;\n",
       "    }\n",
       "\n",
       "    .dataframe tbody tr th {\n",
       "        vertical-align: top;\n",
       "    }\n",
       "\n",
       "    .dataframe thead th {\n",
       "        text-align: right;\n",
       "    }\n",
       "</style>\n",
       "<table border=\"1\" class=\"dataframe\">\n",
       "  <thead>\n",
       "    <tr style=\"text-align: right;\">\n",
       "      <th></th>\n",
       "      <th>year</th>\n",
       "      <th>month</th>\n",
       "      <th>day</th>\n",
       "      <th>week</th>\n",
       "      <th>day_of_week</th>\n",
       "    </tr>\n",
       "  </thead>\n",
       "  <tbody>\n",
       "    <tr>\n",
       "      <th>0</th>\n",
       "      <td>2007</td>\n",
       "      <td>5</td>\n",
       "      <td>1</td>\n",
       "      <td>18</td>\n",
       "      <td>1</td>\n",
       "    </tr>\n",
       "    <tr>\n",
       "      <th>1</th>\n",
       "      <td>2007</td>\n",
       "      <td>5</td>\n",
       "      <td>1</td>\n",
       "      <td>18</td>\n",
       "      <td>1</td>\n",
       "    </tr>\n",
       "    <tr>\n",
       "      <th>2</th>\n",
       "      <td>2007</td>\n",
       "      <td>5</td>\n",
       "      <td>2</td>\n",
       "      <td>18</td>\n",
       "      <td>2</td>\n",
       "    </tr>\n",
       "    <tr>\n",
       "      <th>3</th>\n",
       "      <td>2007</td>\n",
       "      <td>5</td>\n",
       "      <td>2</td>\n",
       "      <td>18</td>\n",
       "      <td>2</td>\n",
       "    </tr>\n",
       "    <tr>\n",
       "      <th>4</th>\n",
       "      <td>2007</td>\n",
       "      <td>5</td>\n",
       "      <td>3</td>\n",
       "      <td>18</td>\n",
       "      <td>3</td>\n",
       "    </tr>\n",
       "  </tbody>\n",
       "</table>\n",
       "</div>"
      ],
      "text/plain": [
       "   year  month  day  week  day_of_week\n",
       "0  2007      5    1    18            1\n",
       "1  2007      5    1    18            1\n",
       "2  2007      5    2    18            2\n",
       "3  2007      5    2    18            2\n",
       "4  2007      5    3    18            3"
      ]
     },
     "execution_count": 85,
     "metadata": {},
     "output_type": "execute_result"
    }
   ],
   "source": [
    "weather.loc[:4,'year':]"
   ]
  },
  {
   "cell_type": "markdown",
   "metadata": {
    "id": "JDi0ffuJjO8R"
   },
   "source": [
    "### Changing datatypes to numerical\n",
    "\n",
    "This is a list of columns that are of object datatype:"
   ]
  },
  {
   "cell_type": "code",
   "execution_count": 86,
   "metadata": {
    "colab": {
     "base_uri": "https://localhost:8080/"
    },
    "executionInfo": {
     "elapsed": 22,
     "status": "ok",
     "timestamp": 1637236769322,
     "user": {
      "displayName": "Tze Ling Gan",
      "photoUrl": "https://lh3.googleusercontent.com/a/default-user=s64",
      "userId": "17059842666868387383"
     },
     "user_tz": -480
    },
    "id": "OD_5U8V4jacY",
    "outputId": "eaabf74b-33d6-494f-abcd-fa8b4617b2b5"
   },
   "outputs": [
    {
     "data": {
      "text/plain": [
       "['wet_bulb',\n",
       " 'sunrise',\n",
       " 'sunset',\n",
       " 'precip_total',\n",
       " 'stn_pressure',\n",
       " 'sea_level',\n",
       " 'avg_speed']"
      ]
     },
     "execution_count": 86,
     "metadata": {},
     "output_type": "execute_result"
    }
   ],
   "source": [
    "weather_obj = list(weather.select_dtypes(include='object').columns)\n",
    "weather_obj"
   ]
  },
  {
   "cell_type": "markdown",
   "metadata": {
    "id": "FRCbZw2okix3"
   },
   "source": [
    "We will typecast them to numeric datatypes."
   ]
  },
  {
   "cell_type": "code",
   "execution_count": 87,
   "metadata": {
    "id": "oAQIN-6RjQZ0"
   },
   "outputs": [],
   "source": [
    "for col in weather_obj:\n",
    "    weather[col] = pd.to_numeric(weather[col])"
   ]
  },
  {
   "cell_type": "markdown",
   "metadata": {
    "id": "oSu10Ryukq57"
   },
   "source": [
    "All the datatypes are now numeric (excluding the `date` column)."
   ]
  },
  {
   "cell_type": "code",
   "execution_count": 88,
   "metadata": {
    "colab": {
     "base_uri": "https://localhost:8080/"
    },
    "executionInfo": {
     "elapsed": 687,
     "status": "ok",
     "timestamp": 1637236769997,
     "user": {
      "displayName": "Tze Ling Gan",
      "photoUrl": "https://lh3.googleusercontent.com/a/default-user=s64",
      "userId": "17059842666868387383"
     },
     "user_tz": -480
    },
    "id": "jkYN-s-_kJLC",
    "outputId": "70b71c18-6200-47b2-8a81-ba60120de9e5"
   },
   "outputs": [
    {
     "name": "stdout",
     "output_type": "stream",
     "text": [
      "<class 'pandas.core.frame.DataFrame'>\n",
      "RangeIndex: 2944 entries, 0 to 2943\n",
      "Data columns (total 23 columns):\n",
      " #   Column        Non-Null Count  Dtype         \n",
      "---  ------        --------------  -----         \n",
      " 0   station       2944 non-null   int64         \n",
      " 1   date          2944 non-null   datetime64[ns]\n",
      " 2   tmax          2944 non-null   int64         \n",
      " 3   tmin          2944 non-null   int64         \n",
      " 4   tavg          2944 non-null   int64         \n",
      " 5   depart        2944 non-null   int64         \n",
      " 6   dew_point     2944 non-null   int64         \n",
      " 7   wet_bulb      2944 non-null   int64         \n",
      " 8   sunrise       2944 non-null   int64         \n",
      " 9   sunset        2944 non-null   int64         \n",
      " 10  precip_total  2944 non-null   float64       \n",
      " 11  stn_pressure  2944 non-null   float64       \n",
      " 12  sea_level     2944 non-null   float64       \n",
      " 13  result_speed  2944 non-null   float64       \n",
      " 14  result_dir    2944 non-null   int64         \n",
      " 15  avg_speed     2944 non-null   float64       \n",
      " 16  heat_cool     2944 non-null   int64         \n",
      " 17  normal        2944 non-null   int64         \n",
      " 18  year          2944 non-null   int64         \n",
      " 19  month         2944 non-null   int64         \n",
      " 20  day           2944 non-null   int64         \n",
      " 21  week          2944 non-null   int64         \n",
      " 22  day_of_week   2944 non-null   int64         \n",
      "dtypes: datetime64[ns](1), float64(5), int64(17)\n",
      "memory usage: 529.1 KB\n"
     ]
    }
   ],
   "source": [
    "weather.info()"
   ]
  },
  {
   "cell_type": "markdown",
   "metadata": {
    "id": "gVkX1GcfR4nK"
   },
   "source": [
    "This is the cleaned weather data:"
   ]
  },
  {
   "cell_type": "code",
   "execution_count": 89,
   "metadata": {
    "colab": {
     "base_uri": "https://localhost:8080/",
     "height": 303
    },
    "executionInfo": {
     "elapsed": 123,
     "status": "ok",
     "timestamp": 1637236769997,
     "user": {
      "displayName": "Tze Ling Gan",
      "photoUrl": "https://lh3.googleusercontent.com/a/default-user=s64",
      "userId": "17059842666868387383"
     },
     "user_tz": -480
    },
    "id": "xvmqCanWR7uq",
    "outputId": "ccbdc916-bf20-45d5-ab36-d6f8658d3d73"
   },
   "outputs": [
    {
     "data": {
      "text/html": [
       "<div>\n",
       "<style scoped>\n",
       "    .dataframe tbody tr th:only-of-type {\n",
       "        vertical-align: middle;\n",
       "    }\n",
       "\n",
       "    .dataframe tbody tr th {\n",
       "        vertical-align: top;\n",
       "    }\n",
       "\n",
       "    .dataframe thead th {\n",
       "        text-align: right;\n",
       "    }\n",
       "</style>\n",
       "<table border=\"1\" class=\"dataframe\">\n",
       "  <thead>\n",
       "    <tr style=\"text-align: right;\">\n",
       "      <th></th>\n",
       "      <th>station</th>\n",
       "      <th>date</th>\n",
       "      <th>tmax</th>\n",
       "      <th>tmin</th>\n",
       "      <th>tavg</th>\n",
       "      <th>depart</th>\n",
       "      <th>dew_point</th>\n",
       "      <th>wet_bulb</th>\n",
       "      <th>sunrise</th>\n",
       "      <th>sunset</th>\n",
       "      <th>precip_total</th>\n",
       "      <th>stn_pressure</th>\n",
       "      <th>sea_level</th>\n",
       "      <th>result_speed</th>\n",
       "      <th>result_dir</th>\n",
       "      <th>avg_speed</th>\n",
       "      <th>heat_cool</th>\n",
       "      <th>normal</th>\n",
       "      <th>year</th>\n",
       "      <th>month</th>\n",
       "      <th>day</th>\n",
       "      <th>week</th>\n",
       "      <th>day_of_week</th>\n",
       "    </tr>\n",
       "  </thead>\n",
       "  <tbody>\n",
       "    <tr>\n",
       "      <th>0</th>\n",
       "      <td>1</td>\n",
       "      <td>2007-05-01</td>\n",
       "      <td>83</td>\n",
       "      <td>50</td>\n",
       "      <td>67</td>\n",
       "      <td>14</td>\n",
       "      <td>51</td>\n",
       "      <td>56</td>\n",
       "      <td>448</td>\n",
       "      <td>1900</td>\n",
       "      <td>0.0</td>\n",
       "      <td>29.10</td>\n",
       "      <td>29.82</td>\n",
       "      <td>1.7</td>\n",
       "      <td>27</td>\n",
       "      <td>9.2</td>\n",
       "      <td>-2</td>\n",
       "      <td>53</td>\n",
       "      <td>2007</td>\n",
       "      <td>5</td>\n",
       "      <td>1</td>\n",
       "      <td>18</td>\n",
       "      <td>1</td>\n",
       "    </tr>\n",
       "    <tr>\n",
       "      <th>1</th>\n",
       "      <td>2</td>\n",
       "      <td>2007-05-01</td>\n",
       "      <td>84</td>\n",
       "      <td>52</td>\n",
       "      <td>68</td>\n",
       "      <td>13</td>\n",
       "      <td>51</td>\n",
       "      <td>57</td>\n",
       "      <td>448</td>\n",
       "      <td>1900</td>\n",
       "      <td>0.0</td>\n",
       "      <td>29.18</td>\n",
       "      <td>29.82</td>\n",
       "      <td>2.7</td>\n",
       "      <td>25</td>\n",
       "      <td>9.6</td>\n",
       "      <td>-3</td>\n",
       "      <td>55</td>\n",
       "      <td>2007</td>\n",
       "      <td>5</td>\n",
       "      <td>1</td>\n",
       "      <td>18</td>\n",
       "      <td>1</td>\n",
       "    </tr>\n",
       "    <tr>\n",
       "      <th>2</th>\n",
       "      <td>1</td>\n",
       "      <td>2007-05-02</td>\n",
       "      <td>59</td>\n",
       "      <td>42</td>\n",
       "      <td>51</td>\n",
       "      <td>-3</td>\n",
       "      <td>42</td>\n",
       "      <td>47</td>\n",
       "      <td>447</td>\n",
       "      <td>1900</td>\n",
       "      <td>0.0</td>\n",
       "      <td>29.38</td>\n",
       "      <td>30.09</td>\n",
       "      <td>13.0</td>\n",
       "      <td>4</td>\n",
       "      <td>13.4</td>\n",
       "      <td>14</td>\n",
       "      <td>54</td>\n",
       "      <td>2007</td>\n",
       "      <td>5</td>\n",
       "      <td>2</td>\n",
       "      <td>18</td>\n",
       "      <td>2</td>\n",
       "    </tr>\n",
       "    <tr>\n",
       "      <th>3</th>\n",
       "      <td>2</td>\n",
       "      <td>2007-05-02</td>\n",
       "      <td>60</td>\n",
       "      <td>43</td>\n",
       "      <td>52</td>\n",
       "      <td>-4</td>\n",
       "      <td>42</td>\n",
       "      <td>47</td>\n",
       "      <td>447</td>\n",
       "      <td>1900</td>\n",
       "      <td>0.0</td>\n",
       "      <td>29.44</td>\n",
       "      <td>30.08</td>\n",
       "      <td>13.3</td>\n",
       "      <td>2</td>\n",
       "      <td>13.4</td>\n",
       "      <td>13</td>\n",
       "      <td>56</td>\n",
       "      <td>2007</td>\n",
       "      <td>5</td>\n",
       "      <td>2</td>\n",
       "      <td>18</td>\n",
       "      <td>2</td>\n",
       "    </tr>\n",
       "    <tr>\n",
       "      <th>4</th>\n",
       "      <td>1</td>\n",
       "      <td>2007-05-03</td>\n",
       "      <td>66</td>\n",
       "      <td>46</td>\n",
       "      <td>56</td>\n",
       "      <td>2</td>\n",
       "      <td>40</td>\n",
       "      <td>48</td>\n",
       "      <td>446</td>\n",
       "      <td>1900</td>\n",
       "      <td>0.0</td>\n",
       "      <td>29.39</td>\n",
       "      <td>30.12</td>\n",
       "      <td>11.7</td>\n",
       "      <td>7</td>\n",
       "      <td>11.9</td>\n",
       "      <td>9</td>\n",
       "      <td>54</td>\n",
       "      <td>2007</td>\n",
       "      <td>5</td>\n",
       "      <td>3</td>\n",
       "      <td>18</td>\n",
       "      <td>3</td>\n",
       "    </tr>\n",
       "  </tbody>\n",
       "</table>\n",
       "</div>"
      ],
      "text/plain": [
       "   station       date  tmax  tmin  tavg  depart  dew_point  wet_bulb  sunrise  \\\n",
       "0        1 2007-05-01    83    50    67      14         51        56      448   \n",
       "1        2 2007-05-01    84    52    68      13         51        57      448   \n",
       "2        1 2007-05-02    59    42    51      -3         42        47      447   \n",
       "3        2 2007-05-02    60    43    52      -4         42        47      447   \n",
       "4        1 2007-05-03    66    46    56       2         40        48      446   \n",
       "\n",
       "   sunset  precip_total  stn_pressure  sea_level  result_speed  result_dir  \\\n",
       "0    1900           0.0         29.10      29.82           1.7          27   \n",
       "1    1900           0.0         29.18      29.82           2.7          25   \n",
       "2    1900           0.0         29.38      30.09          13.0           4   \n",
       "3    1900           0.0         29.44      30.08          13.3           2   \n",
       "4    1900           0.0         29.39      30.12          11.7           7   \n",
       "\n",
       "   avg_speed  heat_cool  normal  year  month  day  week  day_of_week  \n",
       "0        9.2         -2      53  2007      5    1    18            1  \n",
       "1        9.6         -3      55  2007      5    1    18            1  \n",
       "2       13.4         14      54  2007      5    2    18            2  \n",
       "3       13.4         13      56  2007      5    2    18            2  \n",
       "4       11.9          9      54  2007      5    3    18            3  "
      ]
     },
     "execution_count": 89,
     "metadata": {},
     "output_type": "execute_result"
    }
   ],
   "source": [
    "weather.head()"
   ]
  },
  {
   "cell_type": "markdown",
   "metadata": {
    "id": "lEtbw0q7wWGH"
   },
   "source": [
    "## Cleaning the `spray` dataset\n",
    "---\n",
    "\n",
    "The dataset is as follows:"
   ]
  },
  {
   "cell_type": "code",
   "execution_count": 90,
   "metadata": {
    "colab": {
     "base_uri": "https://localhost:8080/",
     "height": 201
    },
    "executionInfo": {
     "elapsed": 123,
     "status": "ok",
     "timestamp": 1637236769997,
     "user": {
      "displayName": "Tze Ling Gan",
      "photoUrl": "https://lh3.googleusercontent.com/a/default-user=s64",
      "userId": "17059842666868387383"
     },
     "user_tz": -480
    },
    "id": "1450cddd",
    "outputId": "09f93f27-8968-4aad-a192-761fcba94b5f"
   },
   "outputs": [
    {
     "data": {
      "text/html": [
       "<div>\n",
       "<style scoped>\n",
       "    .dataframe tbody tr th:only-of-type {\n",
       "        vertical-align: middle;\n",
       "    }\n",
       "\n",
       "    .dataframe tbody tr th {\n",
       "        vertical-align: top;\n",
       "    }\n",
       "\n",
       "    .dataframe thead th {\n",
       "        text-align: right;\n",
       "    }\n",
       "</style>\n",
       "<table border=\"1\" class=\"dataframe\">\n",
       "  <thead>\n",
       "    <tr style=\"text-align: right;\">\n",
       "      <th></th>\n",
       "      <th>Date</th>\n",
       "      <th>Time</th>\n",
       "      <th>Latitude</th>\n",
       "      <th>Longitude</th>\n",
       "    </tr>\n",
       "  </thead>\n",
       "  <tbody>\n",
       "    <tr>\n",
       "      <th>0</th>\n",
       "      <td>2011-08-29</td>\n",
       "      <td>6:56:58 PM</td>\n",
       "      <td>42.391623</td>\n",
       "      <td>-88.089163</td>\n",
       "    </tr>\n",
       "    <tr>\n",
       "      <th>1</th>\n",
       "      <td>2011-08-29</td>\n",
       "      <td>6:57:08 PM</td>\n",
       "      <td>42.391348</td>\n",
       "      <td>-88.089163</td>\n",
       "    </tr>\n",
       "    <tr>\n",
       "      <th>2</th>\n",
       "      <td>2011-08-29</td>\n",
       "      <td>6:57:18 PM</td>\n",
       "      <td>42.391022</td>\n",
       "      <td>-88.089157</td>\n",
       "    </tr>\n",
       "    <tr>\n",
       "      <th>3</th>\n",
       "      <td>2011-08-29</td>\n",
       "      <td>6:57:28 PM</td>\n",
       "      <td>42.390637</td>\n",
       "      <td>-88.089158</td>\n",
       "    </tr>\n",
       "    <tr>\n",
       "      <th>4</th>\n",
       "      <td>2011-08-29</td>\n",
       "      <td>6:57:38 PM</td>\n",
       "      <td>42.390410</td>\n",
       "      <td>-88.088858</td>\n",
       "    </tr>\n",
       "  </tbody>\n",
       "</table>\n",
       "</div>"
      ],
      "text/plain": [
       "         Date        Time   Latitude  Longitude\n",
       "0  2011-08-29  6:56:58 PM  42.391623 -88.089163\n",
       "1  2011-08-29  6:57:08 PM  42.391348 -88.089163\n",
       "2  2011-08-29  6:57:18 PM  42.391022 -88.089157\n",
       "3  2011-08-29  6:57:28 PM  42.390637 -88.089158\n",
       "4  2011-08-29  6:57:38 PM  42.390410 -88.088858"
      ]
     },
     "execution_count": 90,
     "metadata": {},
     "output_type": "execute_result"
    }
   ],
   "source": [
    "spray.head()"
   ]
  },
  {
   "cell_type": "markdown",
   "metadata": {
    "id": "ykMUpv5Bam_X"
   },
   "source": [
    "The datatypes are as follows:"
   ]
  },
  {
   "cell_type": "code",
   "execution_count": 91,
   "metadata": {
    "colab": {
     "base_uri": "https://localhost:8080/"
    },
    "executionInfo": {
     "elapsed": 122,
     "status": "ok",
     "timestamp": 1637236769997,
     "user": {
      "displayName": "Tze Ling Gan",
      "photoUrl": "https://lh3.googleusercontent.com/a/default-user=s64",
      "userId": "17059842666868387383"
     },
     "user_tz": -480
    },
    "id": "bE5q9dThKhZP",
    "outputId": "42f9aef2-4907-44da-a29e-517800443920"
   },
   "outputs": [
    {
     "name": "stdout",
     "output_type": "stream",
     "text": [
      "<class 'pandas.core.frame.DataFrame'>\n",
      "RangeIndex: 14835 entries, 0 to 14834\n",
      "Data columns (total 4 columns):\n",
      " #   Column     Non-Null Count  Dtype  \n",
      "---  ------     --------------  -----  \n",
      " 0   Date       14835 non-null  object \n",
      " 1   Time       14251 non-null  object \n",
      " 2   Latitude   14835 non-null  float64\n",
      " 3   Longitude  14835 non-null  float64\n",
      "dtypes: float64(2), object(2)\n",
      "memory usage: 463.7+ KB\n"
     ]
    }
   ],
   "source": [
    "spray.info()"
   ]
  },
  {
   "cell_type": "markdown",
   "metadata": {
    "id": "2NktI7OyYRE6"
   },
   "source": [
    "### Standardizing column names to lowercase \n",
    "\n",
    "The column names are standardized as follows:"
   ]
  },
  {
   "cell_type": "code",
   "execution_count": 92,
   "metadata": {
    "id": "8S1OSANcKq9s"
   },
   "outputs": [],
   "source": [
    "spray.columns = spray.columns.str.lower()"
   ]
  },
  {
   "cell_type": "markdown",
   "metadata": {
    "id": "kfP_oF1yj_2t"
   },
   "source": [
    "The column names have been changed:"
   ]
  },
  {
   "cell_type": "code",
   "execution_count": 93,
   "metadata": {
    "colab": {
     "base_uri": "https://localhost:8080/"
    },
    "executionInfo": {
     "elapsed": 112,
     "status": "ok",
     "timestamp": 1637236769998,
     "user": {
      "displayName": "Tze Ling Gan",
      "photoUrl": "https://lh3.googleusercontent.com/a/default-user=s64",
      "userId": "17059842666868387383"
     },
     "user_tz": -480
    },
    "id": "WCB4m3ZHkCQX",
    "outputId": "43674e9f-a865-4c4b-abc7-ad1550641a1e"
   },
   "outputs": [
    {
     "data": {
      "text/plain": [
       "Index(['date', 'time', 'latitude', 'longitude'], dtype='object')"
      ]
     },
     "execution_count": 93,
     "metadata": {},
     "output_type": "execute_result"
    }
   ],
   "source": [
    "spray.columns"
   ]
  },
  {
   "cell_type": "markdown",
   "metadata": {
    "id": "F7zaAnm3K0zV"
   },
   "source": [
    "### Checking for duplicate entries\n",
    "\n",
    "There are a number of duplicate rows in the DataFrame."
   ]
  },
  {
   "cell_type": "code",
   "execution_count": 94,
   "metadata": {
    "colab": {
     "base_uri": "https://localhost:8080/"
    },
    "executionInfo": {
     "elapsed": 102,
     "status": "ok",
     "timestamp": 1637236769998,
     "user": {
      "displayName": "Tze Ling Gan",
      "photoUrl": "https://lh3.googleusercontent.com/a/default-user=s64",
      "userId": "17059842666868387383"
     },
     "user_tz": -480
    },
    "id": "JQZptexQKxma",
    "outputId": "c1f0f1dd-d2a6-4f81-8699-36aa6d70cc3b"
   },
   "outputs": [
    {
     "data": {
      "text/plain": [
       "False    14294\n",
       "True       541\n",
       "dtype: int64"
      ]
     },
     "execution_count": 94,
     "metadata": {},
     "output_type": "execute_result"
    }
   ],
   "source": [
    "spray.duplicated().value_counts()"
   ]
  },
  {
   "cell_type": "markdown",
   "metadata": {
    "id": "jd6j5Pbtumch"
   },
   "source": [
    "This is a sample of the duplicated rows:"
   ]
  },
  {
   "cell_type": "code",
   "execution_count": 95,
   "metadata": {
    "colab": {
     "base_uri": "https://localhost:8080/",
     "height": 201
    },
    "executionInfo": {
     "elapsed": 93,
     "status": "ok",
     "timestamp": 1637236769998,
     "user": {
      "displayName": "Tze Ling Gan",
      "photoUrl": "https://lh3.googleusercontent.com/a/default-user=s64",
      "userId": "17059842666868387383"
     },
     "user_tz": -480
    },
    "id": "zn55EoRuup_M",
    "outputId": "3d3d66bb-955c-4d70-fb2a-6d7ab1a02bc7"
   },
   "outputs": [
    {
     "data": {
      "text/html": [
       "<div>\n",
       "<style scoped>\n",
       "    .dataframe tbody tr th:only-of-type {\n",
       "        vertical-align: middle;\n",
       "    }\n",
       "\n",
       "    .dataframe tbody tr th {\n",
       "        vertical-align: top;\n",
       "    }\n",
       "\n",
       "    .dataframe thead th {\n",
       "        text-align: right;\n",
       "    }\n",
       "</style>\n",
       "<table border=\"1\" class=\"dataframe\">\n",
       "  <thead>\n",
       "    <tr style=\"text-align: right;\">\n",
       "      <th></th>\n",
       "      <th>date</th>\n",
       "      <th>time</th>\n",
       "      <th>latitude</th>\n",
       "      <th>longitude</th>\n",
       "    </tr>\n",
       "  </thead>\n",
       "  <tbody>\n",
       "    <tr>\n",
       "      <th>485</th>\n",
       "      <td>2011-09-07</td>\n",
       "      <td>7:43:40 PM</td>\n",
       "      <td>41.983917</td>\n",
       "      <td>-87.793088</td>\n",
       "    </tr>\n",
       "    <tr>\n",
       "      <th>490</th>\n",
       "      <td>2011-09-07</td>\n",
       "      <td>7:44:32 PM</td>\n",
       "      <td>41.986460</td>\n",
       "      <td>-87.794225</td>\n",
       "    </tr>\n",
       "    <tr>\n",
       "      <th>491</th>\n",
       "      <td>2011-09-07</td>\n",
       "      <td>7:44:32 PM</td>\n",
       "      <td>41.986460</td>\n",
       "      <td>-87.794225</td>\n",
       "    </tr>\n",
       "    <tr>\n",
       "      <th>492</th>\n",
       "      <td>2011-09-07</td>\n",
       "      <td>7:44:32 PM</td>\n",
       "      <td>41.986460</td>\n",
       "      <td>-87.794225</td>\n",
       "    </tr>\n",
       "    <tr>\n",
       "      <th>493</th>\n",
       "      <td>2011-09-07</td>\n",
       "      <td>7:44:32 PM</td>\n",
       "      <td>41.986460</td>\n",
       "      <td>-87.794225</td>\n",
       "    </tr>\n",
       "  </tbody>\n",
       "</table>\n",
       "</div>"
      ],
      "text/plain": [
       "           date        time   latitude  longitude\n",
       "485  2011-09-07  7:43:40 PM  41.983917 -87.793088\n",
       "490  2011-09-07  7:44:32 PM  41.986460 -87.794225\n",
       "491  2011-09-07  7:44:32 PM  41.986460 -87.794225\n",
       "492  2011-09-07  7:44:32 PM  41.986460 -87.794225\n",
       "493  2011-09-07  7:44:32 PM  41.986460 -87.794225"
      ]
     },
     "execution_count": 95,
     "metadata": {},
     "output_type": "execute_result"
    }
   ],
   "source": [
    "spray[spray.duplicated()].head()"
   ]
  },
  {
   "cell_type": "markdown",
   "metadata": {
    "id": "luO5o0PfkMQr"
   },
   "source": [
    "It turns out that almost all the duplicated rows have the same values:"
   ]
  },
  {
   "cell_type": "code",
   "execution_count": 96,
   "metadata": {
    "colab": {
     "base_uri": "https://localhost:8080/"
    },
    "executionInfo": {
     "elapsed": 92,
     "status": "ok",
     "timestamp": 1637236769998,
     "user": {
      "displayName": "Tze Ling Gan",
      "photoUrl": "https://lh3.googleusercontent.com/a/default-user=s64",
      "userId": "17059842666868387383"
     },
     "user_tz": -480
    },
    "id": "5LEhRgdS4SW8",
    "outputId": "2c02b13e-aa5f-41b3-8a52-57e82ec224fe"
   },
   "outputs": [
    {
     "data": {
      "text/plain": [
       "2011-09-07           541\n",
       "41.98646             540\n",
       "7:44:32 PM           540\n",
       "-87.794225           540\n",
       "-87.7930883333333      1\n",
       "7:43:40 PM             1\n",
       "41.9839166666667       1\n",
       "dtype: int64"
      ]
     },
     "execution_count": 96,
     "metadata": {},
     "output_type": "execute_result"
    }
   ],
   "source": [
    "pd.value_counts(spray[spray.duplicated()].values.flatten())"
   ]
  },
  {
   "cell_type": "markdown",
   "metadata": {
    "id": "zrzoLLF_LI56"
   },
   "source": [
    "The duplicated entries having the same time, date, and location could possibly be due to a data collection error. These duplicated rows will be removed."
   ]
  },
  {
   "cell_type": "code",
   "execution_count": 97,
   "metadata": {
    "id": "dT4sMbLnLHE-"
   },
   "outputs": [],
   "source": [
    "spray_nodup = spray.drop_duplicates()"
   ]
  },
  {
   "cell_type": "markdown",
   "metadata": {
    "id": "7KxKRuTMkgwF"
   },
   "source": [
    "There are no more duplicates."
   ]
  },
  {
   "cell_type": "code",
   "execution_count": 98,
   "metadata": {
    "colab": {
     "base_uri": "https://localhost:8080/"
    },
    "executionInfo": {
     "elapsed": 82,
     "status": "ok",
     "timestamp": 1637236769998,
     "user": {
      "displayName": "Tze Ling Gan",
      "photoUrl": "https://lh3.googleusercontent.com/a/default-user=s64",
      "userId": "17059842666868387383"
     },
     "user_tz": -480
    },
    "id": "-B9TwBnLLM0f",
    "outputId": "5f28787f-7d9c-4876-a8fb-9ec7fab93a2c"
   },
   "outputs": [
    {
     "data": {
      "text/plain": [
       "False    14294\n",
       "dtype: int64"
      ]
     },
     "execution_count": 98,
     "metadata": {},
     "output_type": "execute_result"
    }
   ],
   "source": [
    "spray_nodup.duplicated().value_counts()"
   ]
  },
  {
   "cell_type": "markdown",
   "metadata": {
    "id": "hh3LlR1-LRB-"
   },
   "source": [
    "### Checking for null values\n",
    "\n",
    "The number of null values is as follows."
   ]
  },
  {
   "cell_type": "code",
   "execution_count": 99,
   "metadata": {
    "colab": {
     "base_uri": "https://localhost:8080/"
    },
    "executionInfo": {
     "elapsed": 71,
     "status": "ok",
     "timestamp": 1637236769998,
     "user": {
      "displayName": "Tze Ling Gan",
      "photoUrl": "https://lh3.googleusercontent.com/a/default-user=s64",
      "userId": "17059842666868387383"
     },
     "user_tz": -480
    },
    "id": "F0VNo4p1LpfY",
    "outputId": "de1cbe71-0457-4730-b660-196356970a48"
   },
   "outputs": [
    {
     "data": {
      "text/plain": [
       "date           0\n",
       "time         584\n",
       "latitude       0\n",
       "longitude      0\n",
       "dtype: int64"
      ]
     },
     "execution_count": 99,
     "metadata": {},
     "output_type": "execute_result"
    }
   ],
   "source": [
    "spray_nodup.isnull().sum()"
   ]
  },
  {
   "cell_type": "markdown",
   "metadata": {
    "id": "O59rRx2ylWy0"
   },
   "source": [
    "The rows with null values seem to have a common date."
   ]
  },
  {
   "cell_type": "code",
   "execution_count": 100,
   "metadata": {
    "colab": {
     "base_uri": "https://localhost:8080/",
     "height": 352
    },
    "executionInfo": {
     "elapsed": 62,
     "status": "ok",
     "timestamp": 1637236769998,
     "user": {
      "displayName": "Tze Ling Gan",
      "photoUrl": "https://lh3.googleusercontent.com/a/default-user=s64",
      "userId": "17059842666868387383"
     },
     "user_tz": -480
    },
    "id": "a08-7eWcLprh",
    "outputId": "607587b5-4b85-4fbc-f9e0-a3e3094f5111"
   },
   "outputs": [
    {
     "data": {
      "text/html": [
       "<div>\n",
       "<style scoped>\n",
       "    .dataframe tbody tr th:only-of-type {\n",
       "        vertical-align: middle;\n",
       "    }\n",
       "\n",
       "    .dataframe tbody tr th {\n",
       "        vertical-align: top;\n",
       "    }\n",
       "\n",
       "    .dataframe thead th {\n",
       "        text-align: right;\n",
       "    }\n",
       "</style>\n",
       "<table border=\"1\" class=\"dataframe\">\n",
       "  <thead>\n",
       "    <tr style=\"text-align: right;\">\n",
       "      <th></th>\n",
       "      <th>date</th>\n",
       "      <th>time</th>\n",
       "      <th>latitude</th>\n",
       "      <th>longitude</th>\n",
       "    </tr>\n",
       "  </thead>\n",
       "  <tbody>\n",
       "    <tr>\n",
       "      <th>1030</th>\n",
       "      <td>2011-09-07</td>\n",
       "      <td>NaN</td>\n",
       "      <td>41.987092</td>\n",
       "      <td>-87.794286</td>\n",
       "    </tr>\n",
       "    <tr>\n",
       "      <th>1031</th>\n",
       "      <td>2011-09-07</td>\n",
       "      <td>NaN</td>\n",
       "      <td>41.987620</td>\n",
       "      <td>-87.794382</td>\n",
       "    </tr>\n",
       "    <tr>\n",
       "      <th>1032</th>\n",
       "      <td>2011-09-07</td>\n",
       "      <td>NaN</td>\n",
       "      <td>41.988004</td>\n",
       "      <td>-87.794574</td>\n",
       "    </tr>\n",
       "    <tr>\n",
       "      <th>1033</th>\n",
       "      <td>2011-09-07</td>\n",
       "      <td>NaN</td>\n",
       "      <td>41.988292</td>\n",
       "      <td>-87.795486</td>\n",
       "    </tr>\n",
       "    <tr>\n",
       "      <th>1034</th>\n",
       "      <td>2011-09-07</td>\n",
       "      <td>NaN</td>\n",
       "      <td>41.988100</td>\n",
       "      <td>-87.796014</td>\n",
       "    </tr>\n",
       "    <tr>\n",
       "      <th>1035</th>\n",
       "      <td>2011-09-07</td>\n",
       "      <td>NaN</td>\n",
       "      <td>41.986372</td>\n",
       "      <td>-87.794862</td>\n",
       "    </tr>\n",
       "    <tr>\n",
       "      <th>1036</th>\n",
       "      <td>2011-09-07</td>\n",
       "      <td>NaN</td>\n",
       "      <td>41.986228</td>\n",
       "      <td>-87.795582</td>\n",
       "    </tr>\n",
       "    <tr>\n",
       "      <th>1037</th>\n",
       "      <td>2011-09-07</td>\n",
       "      <td>NaN</td>\n",
       "      <td>41.984836</td>\n",
       "      <td>-87.793998</td>\n",
       "    </tr>\n",
       "    <tr>\n",
       "      <th>1038</th>\n",
       "      <td>2011-09-07</td>\n",
       "      <td>NaN</td>\n",
       "      <td>41.984836</td>\n",
       "      <td>-87.794670</td>\n",
       "    </tr>\n",
       "    <tr>\n",
       "      <th>1039</th>\n",
       "      <td>2011-09-07</td>\n",
       "      <td>NaN</td>\n",
       "      <td>41.984884</td>\n",
       "      <td>-87.795198</td>\n",
       "    </tr>\n",
       "  </tbody>\n",
       "</table>\n",
       "</div>"
      ],
      "text/plain": [
       "            date time   latitude  longitude\n",
       "1030  2011-09-07  NaN  41.987092 -87.794286\n",
       "1031  2011-09-07  NaN  41.987620 -87.794382\n",
       "1032  2011-09-07  NaN  41.988004 -87.794574\n",
       "1033  2011-09-07  NaN  41.988292 -87.795486\n",
       "1034  2011-09-07  NaN  41.988100 -87.796014\n",
       "1035  2011-09-07  NaN  41.986372 -87.794862\n",
       "1036  2011-09-07  NaN  41.986228 -87.795582\n",
       "1037  2011-09-07  NaN  41.984836 -87.793998\n",
       "1038  2011-09-07  NaN  41.984836 -87.794670\n",
       "1039  2011-09-07  NaN  41.984884 -87.795198"
      ]
     },
     "execution_count": 100,
     "metadata": {},
     "output_type": "execute_result"
    }
   ],
   "source": [
    "spray_nodup[spray_nodup['time'].isnull()].head(10)"
   ]
  },
  {
   "cell_type": "markdown",
   "metadata": {
    "id": "zFCo_SQvldAe"
   },
   "source": [
    "To confirm this, we can group the rows by date."
   ]
  },
  {
   "cell_type": "code",
   "execution_count": 101,
   "metadata": {
    "colab": {
     "base_uri": "https://localhost:8080/",
     "height": 109
    },
    "executionInfo": {
     "elapsed": 62,
     "status": "ok",
     "timestamp": 1637236769999,
     "user": {
      "displayName": "Tze Ling Gan",
      "photoUrl": "https://lh3.googleusercontent.com/a/default-user=s64",
      "userId": "17059842666868387383"
     },
     "user_tz": -480
    },
    "id": "6s-D8HnHLpzk",
    "outputId": "8a5ef3a4-603a-4f52-e956-d1d84bdc28be"
   },
   "outputs": [
    {
     "data": {
      "text/html": [
       "<div>\n",
       "<style scoped>\n",
       "    .dataframe tbody tr th:only-of-type {\n",
       "        vertical-align: middle;\n",
       "    }\n",
       "\n",
       "    .dataframe tbody tr th {\n",
       "        vertical-align: top;\n",
       "    }\n",
       "\n",
       "    .dataframe thead th {\n",
       "        text-align: right;\n",
       "    }\n",
       "</style>\n",
       "<table border=\"1\" class=\"dataframe\">\n",
       "  <thead>\n",
       "    <tr style=\"text-align: right;\">\n",
       "      <th></th>\n",
       "      <th>time</th>\n",
       "      <th>latitude</th>\n",
       "      <th>longitude</th>\n",
       "    </tr>\n",
       "    <tr>\n",
       "      <th>date</th>\n",
       "      <th></th>\n",
       "      <th></th>\n",
       "      <th></th>\n",
       "    </tr>\n",
       "  </thead>\n",
       "  <tbody>\n",
       "    <tr>\n",
       "      <th>2011-09-07</th>\n",
       "      <td>0</td>\n",
       "      <td>584</td>\n",
       "      <td>584</td>\n",
       "    </tr>\n",
       "  </tbody>\n",
       "</table>\n",
       "</div>"
      ],
      "text/plain": [
       "            time  latitude  longitude\n",
       "date                                 \n",
       "2011-09-07     0       584        584"
      ]
     },
     "execution_count": 101,
     "metadata": {},
     "output_type": "execute_result"
    }
   ],
   "source": [
    "spray_nodup[spray_nodup['time'].isnull()].groupby('date').count()"
   ]
  },
  {
   "cell_type": "markdown",
   "metadata": {
    "id": "jrqN5uM2Lu7N"
   },
   "source": [
    "All the null values seem to have the same date '2011-09-07'. Since the null values make up around 4% of our data, it is safe to drop the rows will null values:"
   ]
  },
  {
   "cell_type": "code",
   "execution_count": 102,
   "metadata": {
    "id": "dbSZqKhtLp3x"
   },
   "outputs": [],
   "source": [
    "spray_nonull = spray_nodup.copy().dropna()"
   ]
  },
  {
   "cell_type": "markdown",
   "metadata": {
    "id": "tHcWgZS4l_s2"
   },
   "source": [
    "There are no more null values in the DataFrame."
   ]
  },
  {
   "cell_type": "code",
   "execution_count": 103,
   "metadata": {
    "colab": {
     "base_uri": "https://localhost:8080/"
    },
    "executionInfo": {
     "elapsed": 61,
     "status": "ok",
     "timestamp": 1637236769999,
     "user": {
      "displayName": "Tze Ling Gan",
      "photoUrl": "https://lh3.googleusercontent.com/a/default-user=s64",
      "userId": "17059842666868387383"
     },
     "user_tz": -480
    },
    "id": "2I1REgYUL4t2",
    "outputId": "f1204afb-9c36-4c6d-d2b8-246d385c4c59"
   },
   "outputs": [
    {
     "data": {
      "text/plain": [
       "0"
      ]
     },
     "execution_count": 103,
     "metadata": {},
     "output_type": "execute_result"
    }
   ],
   "source": [
    "spray_nonull.isnull().sum().sum()"
   ]
  },
  {
   "cell_type": "markdown",
   "metadata": {
    "id": "e_Yhg4a4L8Fd"
   },
   "source": [
    "### Creating year, month, week and day of week columns \n",
    "\n",
    "We will convert the 'Date' column to datetime format and also add the Year, Month, Week, Day and Day of Week as features."
   ]
  },
  {
   "cell_type": "code",
   "execution_count": 104,
   "metadata": {
    "id": "oG_X-f7wL44b"
   },
   "outputs": [],
   "source": [
    "spray_nonull['date'] = pd.to_datetime(spray_nonull['date'])\n",
    "spray_nonull['year'] = spray_nonull['date'].apply(lambda x: x.year)\n",
    "spray_nonull['month'] = spray_nonull['date'].apply(lambda x: x.month)\n",
    "spray_nonull['day'] = spray_nonull['date'].apply(lambda x: x.day)\n",
    "spray_nonull['week'] = spray_nonull['date'].apply(lambda x: x.week)\n",
    "spray_nonull['day_of_week'] = spray_nonull['date'].apply(lambda x: x.dayofweek)"
   ]
  },
  {
   "cell_type": "markdown",
   "metadata": {
    "id": "vVIsyAqQmg1E"
   },
   "source": [
    "This is how the DataFrame looks like now."
   ]
  },
  {
   "cell_type": "code",
   "execution_count": 105,
   "metadata": {
    "colab": {
     "base_uri": "https://localhost:8080/",
     "height": 201
    },
    "executionInfo": {
     "elapsed": 51,
     "status": "ok",
     "timestamp": 1637236769999,
     "user": {
      "displayName": "Tze Ling Gan",
      "photoUrl": "https://lh3.googleusercontent.com/a/default-user=s64",
      "userId": "17059842666868387383"
     },
     "user_tz": -480
    },
    "id": "N1l6dnxjL486",
    "outputId": "b57ee4bf-8119-4dd8-8989-fbc31233dd98"
   },
   "outputs": [
    {
     "data": {
      "text/html": [
       "<div>\n",
       "<style scoped>\n",
       "    .dataframe tbody tr th:only-of-type {\n",
       "        vertical-align: middle;\n",
       "    }\n",
       "\n",
       "    .dataframe tbody tr th {\n",
       "        vertical-align: top;\n",
       "    }\n",
       "\n",
       "    .dataframe thead th {\n",
       "        text-align: right;\n",
       "    }\n",
       "</style>\n",
       "<table border=\"1\" class=\"dataframe\">\n",
       "  <thead>\n",
       "    <tr style=\"text-align: right;\">\n",
       "      <th></th>\n",
       "      <th>date</th>\n",
       "      <th>time</th>\n",
       "      <th>latitude</th>\n",
       "      <th>longitude</th>\n",
       "      <th>year</th>\n",
       "      <th>month</th>\n",
       "      <th>day</th>\n",
       "      <th>week</th>\n",
       "      <th>day_of_week</th>\n",
       "    </tr>\n",
       "  </thead>\n",
       "  <tbody>\n",
       "    <tr>\n",
       "      <th>0</th>\n",
       "      <td>2011-08-29</td>\n",
       "      <td>6:56:58 PM</td>\n",
       "      <td>42.391623</td>\n",
       "      <td>-88.089163</td>\n",
       "      <td>2011</td>\n",
       "      <td>8</td>\n",
       "      <td>29</td>\n",
       "      <td>35</td>\n",
       "      <td>0</td>\n",
       "    </tr>\n",
       "    <tr>\n",
       "      <th>1</th>\n",
       "      <td>2011-08-29</td>\n",
       "      <td>6:57:08 PM</td>\n",
       "      <td>42.391348</td>\n",
       "      <td>-88.089163</td>\n",
       "      <td>2011</td>\n",
       "      <td>8</td>\n",
       "      <td>29</td>\n",
       "      <td>35</td>\n",
       "      <td>0</td>\n",
       "    </tr>\n",
       "    <tr>\n",
       "      <th>2</th>\n",
       "      <td>2011-08-29</td>\n",
       "      <td>6:57:18 PM</td>\n",
       "      <td>42.391022</td>\n",
       "      <td>-88.089157</td>\n",
       "      <td>2011</td>\n",
       "      <td>8</td>\n",
       "      <td>29</td>\n",
       "      <td>35</td>\n",
       "      <td>0</td>\n",
       "    </tr>\n",
       "    <tr>\n",
       "      <th>3</th>\n",
       "      <td>2011-08-29</td>\n",
       "      <td>6:57:28 PM</td>\n",
       "      <td>42.390637</td>\n",
       "      <td>-88.089158</td>\n",
       "      <td>2011</td>\n",
       "      <td>8</td>\n",
       "      <td>29</td>\n",
       "      <td>35</td>\n",
       "      <td>0</td>\n",
       "    </tr>\n",
       "    <tr>\n",
       "      <th>4</th>\n",
       "      <td>2011-08-29</td>\n",
       "      <td>6:57:38 PM</td>\n",
       "      <td>42.390410</td>\n",
       "      <td>-88.088858</td>\n",
       "      <td>2011</td>\n",
       "      <td>8</td>\n",
       "      <td>29</td>\n",
       "      <td>35</td>\n",
       "      <td>0</td>\n",
       "    </tr>\n",
       "  </tbody>\n",
       "</table>\n",
       "</div>"
      ],
      "text/plain": [
       "        date        time   latitude  longitude  year  month  day  week  \\\n",
       "0 2011-08-29  6:56:58 PM  42.391623 -88.089163  2011      8   29    35   \n",
       "1 2011-08-29  6:57:08 PM  42.391348 -88.089163  2011      8   29    35   \n",
       "2 2011-08-29  6:57:18 PM  42.391022 -88.089157  2011      8   29    35   \n",
       "3 2011-08-29  6:57:28 PM  42.390637 -88.089158  2011      8   29    35   \n",
       "4 2011-08-29  6:57:38 PM  42.390410 -88.088858  2011      8   29    35   \n",
       "\n",
       "   day_of_week  \n",
       "0            0  \n",
       "1            0  \n",
       "2            0  \n",
       "3            0  \n",
       "4            0  "
      ]
     },
     "execution_count": 105,
     "metadata": {},
     "output_type": "execute_result"
    }
   ],
   "source": [
    "spray_nonull.head()"
   ]
  },
  {
   "cell_type": "markdown",
   "metadata": {
    "id": "mEGfWNDemmvE"
   },
   "source": [
    "### Creating a coordinates column\n",
    "\n",
    "We can combine the latitude and longitude into a single column:"
   ]
  },
  {
   "cell_type": "code",
   "execution_count": 106,
   "metadata": {
    "id": "YNBt6ByQm1dH"
   },
   "outputs": [],
   "source": [
    "spray_nonull[\"coordinates\"] = list(zip((round(spray_nonull[\"latitude\"], 6)), round(spray_nonull[\"longitude\"], 6)))"
   ]
  },
  {
   "cell_type": "markdown",
   "metadata": {
    "id": "3cogOKN2nKQ_"
   },
   "source": [
    "This is how the new column looks like:"
   ]
  },
  {
   "cell_type": "code",
   "execution_count": 107,
   "metadata": {
    "colab": {
     "base_uri": "https://localhost:8080/",
     "height": 201
    },
    "executionInfo": {
     "elapsed": 50,
     "status": "ok",
     "timestamp": 1637236769999,
     "user": {
      "displayName": "Tze Ling Gan",
      "photoUrl": "https://lh3.googleusercontent.com/a/default-user=s64",
      "userId": "17059842666868387383"
     },
     "user_tz": -480
    },
    "id": "ta11CREZm5ED",
    "outputId": "05e96f8b-e998-44d7-8394-2686a56de524"
   },
   "outputs": [
    {
     "data": {
      "text/html": [
       "<div>\n",
       "<style scoped>\n",
       "    .dataframe tbody tr th:only-of-type {\n",
       "        vertical-align: middle;\n",
       "    }\n",
       "\n",
       "    .dataframe tbody tr th {\n",
       "        vertical-align: top;\n",
       "    }\n",
       "\n",
       "    .dataframe thead th {\n",
       "        text-align: right;\n",
       "    }\n",
       "</style>\n",
       "<table border=\"1\" class=\"dataframe\">\n",
       "  <thead>\n",
       "    <tr style=\"text-align: right;\">\n",
       "      <th></th>\n",
       "      <th>date</th>\n",
       "      <th>time</th>\n",
       "      <th>latitude</th>\n",
       "      <th>longitude</th>\n",
       "      <th>year</th>\n",
       "      <th>month</th>\n",
       "      <th>day</th>\n",
       "      <th>week</th>\n",
       "      <th>day_of_week</th>\n",
       "      <th>coordinates</th>\n",
       "    </tr>\n",
       "  </thead>\n",
       "  <tbody>\n",
       "    <tr>\n",
       "      <th>0</th>\n",
       "      <td>2011-08-29</td>\n",
       "      <td>6:56:58 PM</td>\n",
       "      <td>42.391623</td>\n",
       "      <td>-88.089163</td>\n",
       "      <td>2011</td>\n",
       "      <td>8</td>\n",
       "      <td>29</td>\n",
       "      <td>35</td>\n",
       "      <td>0</td>\n",
       "      <td>(42.391623, -88.089163)</td>\n",
       "    </tr>\n",
       "    <tr>\n",
       "      <th>1</th>\n",
       "      <td>2011-08-29</td>\n",
       "      <td>6:57:08 PM</td>\n",
       "      <td>42.391348</td>\n",
       "      <td>-88.089163</td>\n",
       "      <td>2011</td>\n",
       "      <td>8</td>\n",
       "      <td>29</td>\n",
       "      <td>35</td>\n",
       "      <td>0</td>\n",
       "      <td>(42.391348, -88.089163)</td>\n",
       "    </tr>\n",
       "    <tr>\n",
       "      <th>2</th>\n",
       "      <td>2011-08-29</td>\n",
       "      <td>6:57:18 PM</td>\n",
       "      <td>42.391022</td>\n",
       "      <td>-88.089157</td>\n",
       "      <td>2011</td>\n",
       "      <td>8</td>\n",
       "      <td>29</td>\n",
       "      <td>35</td>\n",
       "      <td>0</td>\n",
       "      <td>(42.391022, -88.089157)</td>\n",
       "    </tr>\n",
       "    <tr>\n",
       "      <th>3</th>\n",
       "      <td>2011-08-29</td>\n",
       "      <td>6:57:28 PM</td>\n",
       "      <td>42.390637</td>\n",
       "      <td>-88.089158</td>\n",
       "      <td>2011</td>\n",
       "      <td>8</td>\n",
       "      <td>29</td>\n",
       "      <td>35</td>\n",
       "      <td>0</td>\n",
       "      <td>(42.390637, -88.089158)</td>\n",
       "    </tr>\n",
       "    <tr>\n",
       "      <th>4</th>\n",
       "      <td>2011-08-29</td>\n",
       "      <td>6:57:38 PM</td>\n",
       "      <td>42.390410</td>\n",
       "      <td>-88.088858</td>\n",
       "      <td>2011</td>\n",
       "      <td>8</td>\n",
       "      <td>29</td>\n",
       "      <td>35</td>\n",
       "      <td>0</td>\n",
       "      <td>(42.39041, -88.088858)</td>\n",
       "    </tr>\n",
       "  </tbody>\n",
       "</table>\n",
       "</div>"
      ],
      "text/plain": [
       "        date        time   latitude  longitude  year  month  day  week  \\\n",
       "0 2011-08-29  6:56:58 PM  42.391623 -88.089163  2011      8   29    35   \n",
       "1 2011-08-29  6:57:08 PM  42.391348 -88.089163  2011      8   29    35   \n",
       "2 2011-08-29  6:57:18 PM  42.391022 -88.089157  2011      8   29    35   \n",
       "3 2011-08-29  6:57:28 PM  42.390637 -88.089158  2011      8   29    35   \n",
       "4 2011-08-29  6:57:38 PM  42.390410 -88.088858  2011      8   29    35   \n",
       "\n",
       "   day_of_week              coordinates  \n",
       "0            0  (42.391623, -88.089163)  \n",
       "1            0  (42.391348, -88.089163)  \n",
       "2            0  (42.391022, -88.089157)  \n",
       "3            0  (42.390637, -88.089158)  \n",
       "4            0   (42.39041, -88.088858)  "
      ]
     },
     "execution_count": 107,
     "metadata": {},
     "output_type": "execute_result"
    }
   ],
   "source": [
    "spray_nonull.head()"
   ]
  },
  {
   "cell_type": "markdown",
   "metadata": {
    "id": "BC2lEpciHEon"
   },
   "source": [
    "## Cleaning the `train` dataset\n",
    "---\n",
    "\n",
    "Let's have a look at our training dataset."
   ]
  },
  {
   "cell_type": "code",
   "execution_count": 108,
   "metadata": {
    "colab": {
     "base_uri": "https://localhost:8080/",
     "height": 530
    },
    "executionInfo": {
     "elapsed": 50,
     "status": "ok",
     "timestamp": 1637236769999,
     "user": {
      "displayName": "Tze Ling Gan",
      "photoUrl": "https://lh3.googleusercontent.com/a/default-user=s64",
      "userId": "17059842666868387383"
     },
     "user_tz": -480
    },
    "id": "rNATqCiPHH5R",
    "outputId": "a27d4de3-bf32-4d09-989b-ecf5eec0ed7d"
   },
   "outputs": [
    {
     "data": {
      "text/html": [
       "<div>\n",
       "<style scoped>\n",
       "    .dataframe tbody tr th:only-of-type {\n",
       "        vertical-align: middle;\n",
       "    }\n",
       "\n",
       "    .dataframe tbody tr th {\n",
       "        vertical-align: top;\n",
       "    }\n",
       "\n",
       "    .dataframe thead th {\n",
       "        text-align: right;\n",
       "    }\n",
       "</style>\n",
       "<table border=\"1\" class=\"dataframe\">\n",
       "  <thead>\n",
       "    <tr style=\"text-align: right;\">\n",
       "      <th></th>\n",
       "      <th>Date</th>\n",
       "      <th>Address</th>\n",
       "      <th>Species</th>\n",
       "      <th>Block</th>\n",
       "      <th>Street</th>\n",
       "      <th>Trap</th>\n",
       "      <th>AddressNumberAndStreet</th>\n",
       "      <th>Latitude</th>\n",
       "      <th>Longitude</th>\n",
       "      <th>AddressAccuracy</th>\n",
       "      <th>NumMosquitos</th>\n",
       "      <th>WnvPresent</th>\n",
       "    </tr>\n",
       "  </thead>\n",
       "  <tbody>\n",
       "    <tr>\n",
       "      <th>0</th>\n",
       "      <td>2007-05-29</td>\n",
       "      <td>4100 North Oak Park Avenue, Chicago, IL 60634, USA</td>\n",
       "      <td>CULEX PIPIENS/RESTUANS</td>\n",
       "      <td>41</td>\n",
       "      <td>N OAK PARK AVE</td>\n",
       "      <td>T002</td>\n",
       "      <td>4100  N OAK PARK AVE, Chicago, IL</td>\n",
       "      <td>41.954690</td>\n",
       "      <td>-87.800991</td>\n",
       "      <td>9</td>\n",
       "      <td>1</td>\n",
       "      <td>0</td>\n",
       "    </tr>\n",
       "    <tr>\n",
       "      <th>1</th>\n",
       "      <td>2007-05-29</td>\n",
       "      <td>4100 North Oak Park Avenue, Chicago, IL 60634, USA</td>\n",
       "      <td>CULEX RESTUANS</td>\n",
       "      <td>41</td>\n",
       "      <td>N OAK PARK AVE</td>\n",
       "      <td>T002</td>\n",
       "      <td>4100  N OAK PARK AVE, Chicago, IL</td>\n",
       "      <td>41.954690</td>\n",
       "      <td>-87.800991</td>\n",
       "      <td>9</td>\n",
       "      <td>1</td>\n",
       "      <td>0</td>\n",
       "    </tr>\n",
       "    <tr>\n",
       "      <th>2</th>\n",
       "      <td>2007-05-29</td>\n",
       "      <td>6200 North Mandell Avenue, Chicago, IL 60646, USA</td>\n",
       "      <td>CULEX RESTUANS</td>\n",
       "      <td>62</td>\n",
       "      <td>N MANDELL AVE</td>\n",
       "      <td>T007</td>\n",
       "      <td>6200  N MANDELL AVE, Chicago, IL</td>\n",
       "      <td>41.994991</td>\n",
       "      <td>-87.769279</td>\n",
       "      <td>9</td>\n",
       "      <td>1</td>\n",
       "      <td>0</td>\n",
       "    </tr>\n",
       "    <tr>\n",
       "      <th>3</th>\n",
       "      <td>2007-05-29</td>\n",
       "      <td>7900 West Foster Avenue, Chicago, IL 60656, USA</td>\n",
       "      <td>CULEX PIPIENS/RESTUANS</td>\n",
       "      <td>79</td>\n",
       "      <td>W FOSTER AVE</td>\n",
       "      <td>T015</td>\n",
       "      <td>7900  W FOSTER AVE, Chicago, IL</td>\n",
       "      <td>41.974089</td>\n",
       "      <td>-87.824812</td>\n",
       "      <td>8</td>\n",
       "      <td>1</td>\n",
       "      <td>0</td>\n",
       "    </tr>\n",
       "    <tr>\n",
       "      <th>4</th>\n",
       "      <td>2007-05-29</td>\n",
       "      <td>7900 West Foster Avenue, Chicago, IL 60656, USA</td>\n",
       "      <td>CULEX RESTUANS</td>\n",
       "      <td>79</td>\n",
       "      <td>W FOSTER AVE</td>\n",
       "      <td>T015</td>\n",
       "      <td>7900  W FOSTER AVE, Chicago, IL</td>\n",
       "      <td>41.974089</td>\n",
       "      <td>-87.824812</td>\n",
       "      <td>8</td>\n",
       "      <td>4</td>\n",
       "      <td>0</td>\n",
       "    </tr>\n",
       "  </tbody>\n",
       "</table>\n",
       "</div>"
      ],
      "text/plain": [
       "         Date                                             Address  \\\n",
       "0  2007-05-29  4100 North Oak Park Avenue, Chicago, IL 60634, USA   \n",
       "1  2007-05-29  4100 North Oak Park Avenue, Chicago, IL 60634, USA   \n",
       "2  2007-05-29   6200 North Mandell Avenue, Chicago, IL 60646, USA   \n",
       "3  2007-05-29     7900 West Foster Avenue, Chicago, IL 60656, USA   \n",
       "4  2007-05-29     7900 West Foster Avenue, Chicago, IL 60656, USA   \n",
       "\n",
       "                  Species  Block           Street  Trap  \\\n",
       "0  CULEX PIPIENS/RESTUANS     41   N OAK PARK AVE  T002   \n",
       "1          CULEX RESTUANS     41   N OAK PARK AVE  T002   \n",
       "2          CULEX RESTUANS     62    N MANDELL AVE  T007   \n",
       "3  CULEX PIPIENS/RESTUANS     79     W FOSTER AVE  T015   \n",
       "4          CULEX RESTUANS     79     W FOSTER AVE  T015   \n",
       "\n",
       "              AddressNumberAndStreet   Latitude  Longitude  AddressAccuracy  \\\n",
       "0  4100  N OAK PARK AVE, Chicago, IL  41.954690 -87.800991                9   \n",
       "1  4100  N OAK PARK AVE, Chicago, IL  41.954690 -87.800991                9   \n",
       "2   6200  N MANDELL AVE, Chicago, IL  41.994991 -87.769279                9   \n",
       "3    7900  W FOSTER AVE, Chicago, IL  41.974089 -87.824812                8   \n",
       "4    7900  W FOSTER AVE, Chicago, IL  41.974089 -87.824812                8   \n",
       "\n",
       "   NumMosquitos  WnvPresent  \n",
       "0             1           0  \n",
       "1             1           0  \n",
       "2             1           0  \n",
       "3             1           0  \n",
       "4             4           0  "
      ]
     },
     "execution_count": 108,
     "metadata": {},
     "output_type": "execute_result"
    }
   ],
   "source": [
    "train.head()"
   ]
  },
  {
   "cell_type": "code",
   "execution_count": 109,
   "metadata": {
    "colab": {
     "base_uri": "https://localhost:8080/"
    },
    "executionInfo": {
     "elapsed": 50,
     "status": "ok",
     "timestamp": 1637236769999,
     "user": {
      "displayName": "Tze Ling Gan",
      "photoUrl": "https://lh3.googleusercontent.com/a/default-user=s64",
      "userId": "17059842666868387383"
     },
     "user_tz": -480
    },
    "id": "BVeDmVv4HZmA",
    "outputId": "9cdd3bfb-2617-4f57-eb72-7056905cac71"
   },
   "outputs": [
    {
     "name": "stdout",
     "output_type": "stream",
     "text": [
      "<class 'pandas.core.frame.DataFrame'>\n",
      "RangeIndex: 10506 entries, 0 to 10505\n",
      "Data columns (total 12 columns):\n",
      " #   Column                  Non-Null Count  Dtype  \n",
      "---  ------                  --------------  -----  \n",
      " 0   Date                    10506 non-null  object \n",
      " 1   Address                 10506 non-null  object \n",
      " 2   Species                 10506 non-null  object \n",
      " 3   Block                   10506 non-null  int64  \n",
      " 4   Street                  10506 non-null  object \n",
      " 5   Trap                    10506 non-null  object \n",
      " 6   AddressNumberAndStreet  10506 non-null  object \n",
      " 7   Latitude                10506 non-null  float64\n",
      " 8   Longitude               10506 non-null  float64\n",
      " 9   AddressAccuracy         10506 non-null  int64  \n",
      " 10  NumMosquitos            10506 non-null  int64  \n",
      " 11  WnvPresent              10506 non-null  int64  \n",
      "dtypes: float64(2), int64(4), object(6)\n",
      "memory usage: 985.1+ KB\n"
     ]
    }
   ],
   "source": [
    "train.info()"
   ]
  },
  {
   "cell_type": "markdown",
   "metadata": {
    "id": "D7zA2mMFHeIA"
   },
   "source": [
    "We can see 12 columns with our Target Variable being the `WnvPresent` column. Let's continue data cleaning."
   ]
  },
  {
   "cell_type": "markdown",
   "metadata": {
    "id": "cqaoNasnHhci"
   },
   "source": [
    "### Checking for null or missing values"
   ]
  },
  {
   "cell_type": "code",
   "execution_count": 110,
   "metadata": {
    "colab": {
     "base_uri": "https://localhost:8080/"
    },
    "executionInfo": {
     "elapsed": 41,
     "status": "ok",
     "timestamp": 1637236770000,
     "user": {
      "displayName": "Tze Ling Gan",
      "photoUrl": "https://lh3.googleusercontent.com/a/default-user=s64",
      "userId": "17059842666868387383"
     },
     "user_tz": -480
    },
    "id": "g6CxdDULHb08",
    "outputId": "1f242c3d-856e-4ccd-b141-ea4a315e5b72"
   },
   "outputs": [
    {
     "data": {
      "text/plain": [
       "0"
      ]
     },
     "execution_count": 110,
     "metadata": {},
     "output_type": "execute_result"
    }
   ],
   "source": [
    "train.isnull().sum().sum()"
   ]
  },
  {
   "cell_type": "markdown",
   "metadata": {
    "id": "q5fjRV73HpLP"
   },
   "source": [
    "There are no null values in the dataset."
   ]
  },
  {
   "cell_type": "markdown",
   "metadata": {
    "id": "zVhWtJAfo6al"
   },
   "source": [
    "### Standardizing the format of column names \n",
    "\n",
    "This is how the column names look like:"
   ]
  },
  {
   "cell_type": "code",
   "execution_count": 111,
   "metadata": {
    "colab": {
     "base_uri": "https://localhost:8080/"
    },
    "executionInfo": {
     "elapsed": 31,
     "status": "ok",
     "timestamp": 1637236770000,
     "user": {
      "displayName": "Tze Ling Gan",
      "photoUrl": "https://lh3.googleusercontent.com/a/default-user=s64",
      "userId": "17059842666868387383"
     },
     "user_tz": -480
    },
    "id": "ajZMVxi_o6am",
    "outputId": "8c8b8f8f-ad25-4faa-ba94-1667a4e4e769"
   },
   "outputs": [
    {
     "data": {
      "text/plain": [
       "Index(['Date', 'Address', 'Species', 'Block', 'Street', 'Trap',\n",
       "       'AddressNumberAndStreet', 'Latitude', 'Longitude', 'AddressAccuracy',\n",
       "       'NumMosquitos', 'WnvPresent'],\n",
       "      dtype='object')"
      ]
     },
     "execution_count": 111,
     "metadata": {},
     "output_type": "execute_result"
    }
   ],
   "source": [
    "train.columns"
   ]
  },
  {
   "cell_type": "markdown",
   "metadata": {
    "id": "sxCmZ3ATo6am"
   },
   "source": [
    "An underscore will be inserted to separate words instead of via the capitalisation. The column names will then be converted to lowercase. "
   ]
  },
  {
   "cell_type": "code",
   "execution_count": 112,
   "metadata": {
    "id": "RWTgu7JJo6am"
   },
   "outputs": [],
   "source": [
    "train.columns = train.columns.str.replace('(?<!^)([A-Z])', r'_\\1', regex=True).str.lower()"
   ]
  },
  {
   "cell_type": "markdown",
   "metadata": {
    "id": "UtBXFBIOo6an"
   },
   "source": [
    "The column names have been converted:"
   ]
  },
  {
   "cell_type": "code",
   "execution_count": 113,
   "metadata": {
    "colab": {
     "base_uri": "https://localhost:8080/"
    },
    "executionInfo": {
     "elapsed": 21,
     "status": "ok",
     "timestamp": 1637236770000,
     "user": {
      "displayName": "Tze Ling Gan",
      "photoUrl": "https://lh3.googleusercontent.com/a/default-user=s64",
      "userId": "17059842666868387383"
     },
     "user_tz": -480
    },
    "id": "qafoAkflo6an",
    "outputId": "9bdbaaa8-9065-4b38-d4ff-3dc6f9d5b9ab"
   },
   "outputs": [
    {
     "data": {
      "text/plain": [
       "Index(['date', 'address', 'species', 'block', 'street', 'trap',\n",
       "       'address_number_and_street', 'latitude', 'longitude',\n",
       "       'address_accuracy', 'num_mosquitos', 'wnv_present'],\n",
       "      dtype='object')"
      ]
     },
     "execution_count": 113,
     "metadata": {},
     "output_type": "execute_result"
    }
   ],
   "source": [
    "train.columns"
   ]
  },
  {
   "cell_type": "markdown",
   "metadata": {
    "id": "38rCwOv7py_I"
   },
   "source": [
    "### Creating year, month, week and day of week columns \n",
    "\n",
    "We will convert the 'Date' column to datetime format and also add the Year, Month, Week, Day and Day of Week as features."
   ]
  },
  {
   "cell_type": "code",
   "execution_count": 114,
   "metadata": {
    "id": "D3bcjdxZpy_J"
   },
   "outputs": [],
   "source": [
    "train['date'] = pd.to_datetime(train['date'])\n",
    "train['year'] = train['date'].apply(lambda x: x.year)\n",
    "train['month'] = train['date'].apply(lambda x: x.month)\n",
    "train['day'] = train['date'].apply(lambda x: x.day)\n",
    "train['week'] = train['date'].apply(lambda x: x.week)\n",
    "train['day_of_week'] = train['date'].apply(lambda x: x.dayofweek)"
   ]
  },
  {
   "cell_type": "markdown",
   "metadata": {
    "id": "_CiIAqGUILPM"
   },
   "source": [
    "This is how the new columns look: "
   ]
  },
  {
   "cell_type": "code",
   "execution_count": 115,
   "metadata": {
    "colab": {
     "base_uri": "https://localhost:8080/",
     "height": 201
    },
    "executionInfo": {
     "elapsed": 47,
     "status": "ok",
     "timestamp": 1637236770638,
     "user": {
      "displayName": "Tze Ling Gan",
      "photoUrl": "https://lh3.googleusercontent.com/a/default-user=s64",
      "userId": "17059842666868387383"
     },
     "user_tz": -480
    },
    "id": "ArfW1VQJqzNd",
    "outputId": "33476dea-59f4-41d4-88c8-cac53b28896f"
   },
   "outputs": [
    {
     "data": {
      "text/html": [
       "<div>\n",
       "<style scoped>\n",
       "    .dataframe tbody tr th:only-of-type {\n",
       "        vertical-align: middle;\n",
       "    }\n",
       "\n",
       "    .dataframe tbody tr th {\n",
       "        vertical-align: top;\n",
       "    }\n",
       "\n",
       "    .dataframe thead th {\n",
       "        text-align: right;\n",
       "    }\n",
       "</style>\n",
       "<table border=\"1\" class=\"dataframe\">\n",
       "  <thead>\n",
       "    <tr style=\"text-align: right;\">\n",
       "      <th></th>\n",
       "      <th>year</th>\n",
       "      <th>month</th>\n",
       "      <th>day</th>\n",
       "      <th>week</th>\n",
       "      <th>day_of_week</th>\n",
       "    </tr>\n",
       "  </thead>\n",
       "  <tbody>\n",
       "    <tr>\n",
       "      <th>0</th>\n",
       "      <td>2007</td>\n",
       "      <td>5</td>\n",
       "      <td>29</td>\n",
       "      <td>22</td>\n",
       "      <td>1</td>\n",
       "    </tr>\n",
       "    <tr>\n",
       "      <th>1</th>\n",
       "      <td>2007</td>\n",
       "      <td>5</td>\n",
       "      <td>29</td>\n",
       "      <td>22</td>\n",
       "      <td>1</td>\n",
       "    </tr>\n",
       "    <tr>\n",
       "      <th>2</th>\n",
       "      <td>2007</td>\n",
       "      <td>5</td>\n",
       "      <td>29</td>\n",
       "      <td>22</td>\n",
       "      <td>1</td>\n",
       "    </tr>\n",
       "    <tr>\n",
       "      <th>3</th>\n",
       "      <td>2007</td>\n",
       "      <td>5</td>\n",
       "      <td>29</td>\n",
       "      <td>22</td>\n",
       "      <td>1</td>\n",
       "    </tr>\n",
       "    <tr>\n",
       "      <th>4</th>\n",
       "      <td>2007</td>\n",
       "      <td>5</td>\n",
       "      <td>29</td>\n",
       "      <td>22</td>\n",
       "      <td>1</td>\n",
       "    </tr>\n",
       "  </tbody>\n",
       "</table>\n",
       "</div>"
      ],
      "text/plain": [
       "   year  month  day  week  day_of_week\n",
       "0  2007      5   29    22            1\n",
       "1  2007      5   29    22            1\n",
       "2  2007      5   29    22            1\n",
       "3  2007      5   29    22            1\n",
       "4  2007      5   29    22            1"
      ]
     },
     "execution_count": 115,
     "metadata": {},
     "output_type": "execute_result"
    }
   ],
   "source": [
    "train.loc[:4,'year':] "
   ]
  },
  {
   "cell_type": "markdown",
   "metadata": {
    "id": "353bIGx8qfgD"
   },
   "source": [
    "### Creating a coordinates column\n",
    "\n",
    "We can combine the latitude and longitude into a single column:"
   ]
  },
  {
   "cell_type": "code",
   "execution_count": 116,
   "metadata": {
    "id": "jF_-gVWXqfgE"
   },
   "outputs": [],
   "source": [
    "train[\"coordinates\"] = list(zip((round(train[\"latitude\"], 6)), round(train[\"longitude\"], 6)))"
   ]
  },
  {
   "cell_type": "markdown",
   "metadata": {
    "id": "D5A06syiqfgE"
   },
   "source": [
    "This is how it looks like with the new column:"
   ]
  },
  {
   "cell_type": "code",
   "execution_count": 117,
   "metadata": {
    "colab": {
     "base_uri": "https://localhost:8080/",
     "height": 715
    },
    "executionInfo": {
     "elapsed": 47,
     "status": "ok",
     "timestamp": 1637236770639,
     "user": {
      "displayName": "Tze Ling Gan",
      "photoUrl": "https://lh3.googleusercontent.com/a/default-user=s64",
      "userId": "17059842666868387383"
     },
     "user_tz": -480
    },
    "id": "2f_UbiagqfgE",
    "outputId": "53787288-4eef-4e26-e07a-de6f25cc9cf6"
   },
   "outputs": [
    {
     "data": {
      "text/html": [
       "<div>\n",
       "<style scoped>\n",
       "    .dataframe tbody tr th:only-of-type {\n",
       "        vertical-align: middle;\n",
       "    }\n",
       "\n",
       "    .dataframe tbody tr th {\n",
       "        vertical-align: top;\n",
       "    }\n",
       "\n",
       "    .dataframe thead th {\n",
       "        text-align: right;\n",
       "    }\n",
       "</style>\n",
       "<table border=\"1\" class=\"dataframe\">\n",
       "  <thead>\n",
       "    <tr style=\"text-align: right;\">\n",
       "      <th></th>\n",
       "      <th>date</th>\n",
       "      <th>address</th>\n",
       "      <th>species</th>\n",
       "      <th>block</th>\n",
       "      <th>street</th>\n",
       "      <th>trap</th>\n",
       "      <th>address_number_and_street</th>\n",
       "      <th>latitude</th>\n",
       "      <th>longitude</th>\n",
       "      <th>address_accuracy</th>\n",
       "      <th>num_mosquitos</th>\n",
       "      <th>wnv_present</th>\n",
       "      <th>year</th>\n",
       "      <th>month</th>\n",
       "      <th>day</th>\n",
       "      <th>week</th>\n",
       "      <th>day_of_week</th>\n",
       "      <th>coordinates</th>\n",
       "    </tr>\n",
       "  </thead>\n",
       "  <tbody>\n",
       "    <tr>\n",
       "      <th>0</th>\n",
       "      <td>2007-05-29</td>\n",
       "      <td>4100 North Oak Park Avenue, Chicago, IL 60634, USA</td>\n",
       "      <td>CULEX PIPIENS/RESTUANS</td>\n",
       "      <td>41</td>\n",
       "      <td>N OAK PARK AVE</td>\n",
       "      <td>T002</td>\n",
       "      <td>4100  N OAK PARK AVE, Chicago, IL</td>\n",
       "      <td>41.954690</td>\n",
       "      <td>-87.800991</td>\n",
       "      <td>9</td>\n",
       "      <td>1</td>\n",
       "      <td>0</td>\n",
       "      <td>2007</td>\n",
       "      <td>5</td>\n",
       "      <td>29</td>\n",
       "      <td>22</td>\n",
       "      <td>1</td>\n",
       "      <td>(41.95469, -87.800991)</td>\n",
       "    </tr>\n",
       "    <tr>\n",
       "      <th>1</th>\n",
       "      <td>2007-05-29</td>\n",
       "      <td>4100 North Oak Park Avenue, Chicago, IL 60634, USA</td>\n",
       "      <td>CULEX RESTUANS</td>\n",
       "      <td>41</td>\n",
       "      <td>N OAK PARK AVE</td>\n",
       "      <td>T002</td>\n",
       "      <td>4100  N OAK PARK AVE, Chicago, IL</td>\n",
       "      <td>41.954690</td>\n",
       "      <td>-87.800991</td>\n",
       "      <td>9</td>\n",
       "      <td>1</td>\n",
       "      <td>0</td>\n",
       "      <td>2007</td>\n",
       "      <td>5</td>\n",
       "      <td>29</td>\n",
       "      <td>22</td>\n",
       "      <td>1</td>\n",
       "      <td>(41.95469, -87.800991)</td>\n",
       "    </tr>\n",
       "    <tr>\n",
       "      <th>2</th>\n",
       "      <td>2007-05-29</td>\n",
       "      <td>6200 North Mandell Avenue, Chicago, IL 60646, USA</td>\n",
       "      <td>CULEX RESTUANS</td>\n",
       "      <td>62</td>\n",
       "      <td>N MANDELL AVE</td>\n",
       "      <td>T007</td>\n",
       "      <td>6200  N MANDELL AVE, Chicago, IL</td>\n",
       "      <td>41.994991</td>\n",
       "      <td>-87.769279</td>\n",
       "      <td>9</td>\n",
       "      <td>1</td>\n",
       "      <td>0</td>\n",
       "      <td>2007</td>\n",
       "      <td>5</td>\n",
       "      <td>29</td>\n",
       "      <td>22</td>\n",
       "      <td>1</td>\n",
       "      <td>(41.994991, -87.769279)</td>\n",
       "    </tr>\n",
       "    <tr>\n",
       "      <th>3</th>\n",
       "      <td>2007-05-29</td>\n",
       "      <td>7900 West Foster Avenue, Chicago, IL 60656, USA</td>\n",
       "      <td>CULEX PIPIENS/RESTUANS</td>\n",
       "      <td>79</td>\n",
       "      <td>W FOSTER AVE</td>\n",
       "      <td>T015</td>\n",
       "      <td>7900  W FOSTER AVE, Chicago, IL</td>\n",
       "      <td>41.974089</td>\n",
       "      <td>-87.824812</td>\n",
       "      <td>8</td>\n",
       "      <td>1</td>\n",
       "      <td>0</td>\n",
       "      <td>2007</td>\n",
       "      <td>5</td>\n",
       "      <td>29</td>\n",
       "      <td>22</td>\n",
       "      <td>1</td>\n",
       "      <td>(41.974089, -87.824812)</td>\n",
       "    </tr>\n",
       "    <tr>\n",
       "      <th>4</th>\n",
       "      <td>2007-05-29</td>\n",
       "      <td>7900 West Foster Avenue, Chicago, IL 60656, USA</td>\n",
       "      <td>CULEX RESTUANS</td>\n",
       "      <td>79</td>\n",
       "      <td>W FOSTER AVE</td>\n",
       "      <td>T015</td>\n",
       "      <td>7900  W FOSTER AVE, Chicago, IL</td>\n",
       "      <td>41.974089</td>\n",
       "      <td>-87.824812</td>\n",
       "      <td>8</td>\n",
       "      <td>4</td>\n",
       "      <td>0</td>\n",
       "      <td>2007</td>\n",
       "      <td>5</td>\n",
       "      <td>29</td>\n",
       "      <td>22</td>\n",
       "      <td>1</td>\n",
       "      <td>(41.974089, -87.824812)</td>\n",
       "    </tr>\n",
       "  </tbody>\n",
       "</table>\n",
       "</div>"
      ],
      "text/plain": [
       "        date                                             address  \\\n",
       "0 2007-05-29  4100 North Oak Park Avenue, Chicago, IL 60634, USA   \n",
       "1 2007-05-29  4100 North Oak Park Avenue, Chicago, IL 60634, USA   \n",
       "2 2007-05-29   6200 North Mandell Avenue, Chicago, IL 60646, USA   \n",
       "3 2007-05-29     7900 West Foster Avenue, Chicago, IL 60656, USA   \n",
       "4 2007-05-29     7900 West Foster Avenue, Chicago, IL 60656, USA   \n",
       "\n",
       "                  species  block           street  trap  \\\n",
       "0  CULEX PIPIENS/RESTUANS     41   N OAK PARK AVE  T002   \n",
       "1          CULEX RESTUANS     41   N OAK PARK AVE  T002   \n",
       "2          CULEX RESTUANS     62    N MANDELL AVE  T007   \n",
       "3  CULEX PIPIENS/RESTUANS     79     W FOSTER AVE  T015   \n",
       "4          CULEX RESTUANS     79     W FOSTER AVE  T015   \n",
       "\n",
       "           address_number_and_street   latitude  longitude  address_accuracy  \\\n",
       "0  4100  N OAK PARK AVE, Chicago, IL  41.954690 -87.800991                 9   \n",
       "1  4100  N OAK PARK AVE, Chicago, IL  41.954690 -87.800991                 9   \n",
       "2   6200  N MANDELL AVE, Chicago, IL  41.994991 -87.769279                 9   \n",
       "3    7900  W FOSTER AVE, Chicago, IL  41.974089 -87.824812                 8   \n",
       "4    7900  W FOSTER AVE, Chicago, IL  41.974089 -87.824812                 8   \n",
       "\n",
       "   num_mosquitos  wnv_present  year  month  day  week  day_of_week  \\\n",
       "0              1            0  2007      5   29    22            1   \n",
       "1              1            0  2007      5   29    22            1   \n",
       "2              1            0  2007      5   29    22            1   \n",
       "3              1            0  2007      5   29    22            1   \n",
       "4              4            0  2007      5   29    22            1   \n",
       "\n",
       "               coordinates  \n",
       "0   (41.95469, -87.800991)  \n",
       "1   (41.95469, -87.800991)  \n",
       "2  (41.994991, -87.769279)  \n",
       "3  (41.974089, -87.824812)  \n",
       "4  (41.974089, -87.824812)  "
      ]
     },
     "execution_count": 117,
     "metadata": {},
     "output_type": "execute_result"
    }
   ],
   "source": [
    "train.head()"
   ]
  },
  {
   "cell_type": "markdown",
   "metadata": {
    "id": "-uJOoZwLIGIA"
   },
   "source": [
    "# Cleaning the `test` dataset\n",
    "---\n",
    "\n",
    "We will perform the same steps we did with the `train` dataset on the `test` dataset as well.\n",
    "\n",
    "Let's have a look at our testing dataset."
   ]
  },
  {
   "cell_type": "code",
   "execution_count": 118,
   "metadata": {
    "colab": {
     "base_uri": "https://localhost:8080/",
     "height": 283
    },
    "executionInfo": {
     "elapsed": 47,
     "status": "ok",
     "timestamp": 1637236770639,
     "user": {
      "displayName": "Tze Ling Gan",
      "photoUrl": "https://lh3.googleusercontent.com/a/default-user=s64",
      "userId": "17059842666868387383"
     },
     "user_tz": -480
    },
    "id": "tN74L23NIJ2M",
    "outputId": "9c666563-52be-47ba-9d9f-99f80451e53f"
   },
   "outputs": [
    {
     "data": {
      "text/html": [
       "<div>\n",
       "<style scoped>\n",
       "    .dataframe tbody tr th:only-of-type {\n",
       "        vertical-align: middle;\n",
       "    }\n",
       "\n",
       "    .dataframe tbody tr th {\n",
       "        vertical-align: top;\n",
       "    }\n",
       "\n",
       "    .dataframe thead th {\n",
       "        text-align: right;\n",
       "    }\n",
       "</style>\n",
       "<table border=\"1\" class=\"dataframe\">\n",
       "  <thead>\n",
       "    <tr style=\"text-align: right;\">\n",
       "      <th></th>\n",
       "      <th>Id</th>\n",
       "      <th>Date</th>\n",
       "      <th>Address</th>\n",
       "      <th>Species</th>\n",
       "      <th>Block</th>\n",
       "      <th>Street</th>\n",
       "      <th>Trap</th>\n",
       "      <th>AddressNumberAndStreet</th>\n",
       "      <th>Latitude</th>\n",
       "      <th>Longitude</th>\n",
       "      <th>AddressAccuracy</th>\n",
       "    </tr>\n",
       "  </thead>\n",
       "  <tbody>\n",
       "    <tr>\n",
       "      <th>0</th>\n",
       "      <td>1</td>\n",
       "      <td>2008-06-11</td>\n",
       "      <td>4100 North Oak Park Avenue, Chicago, IL 60634, USA</td>\n",
       "      <td>CULEX PIPIENS/RESTUANS</td>\n",
       "      <td>41</td>\n",
       "      <td>N OAK PARK AVE</td>\n",
       "      <td>T002</td>\n",
       "      <td>4100  N OAK PARK AVE, Chicago, IL</td>\n",
       "      <td>41.95469</td>\n",
       "      <td>-87.800991</td>\n",
       "      <td>9</td>\n",
       "    </tr>\n",
       "    <tr>\n",
       "      <th>1</th>\n",
       "      <td>2</td>\n",
       "      <td>2008-06-11</td>\n",
       "      <td>4100 North Oak Park Avenue, Chicago, IL 60634, USA</td>\n",
       "      <td>CULEX RESTUANS</td>\n",
       "      <td>41</td>\n",
       "      <td>N OAK PARK AVE</td>\n",
       "      <td>T002</td>\n",
       "      <td>4100  N OAK PARK AVE, Chicago, IL</td>\n",
       "      <td>41.95469</td>\n",
       "      <td>-87.800991</td>\n",
       "      <td>9</td>\n",
       "    </tr>\n",
       "    <tr>\n",
       "      <th>2</th>\n",
       "      <td>3</td>\n",
       "      <td>2008-06-11</td>\n",
       "      <td>4100 North Oak Park Avenue, Chicago, IL 60634, USA</td>\n",
       "      <td>CULEX PIPIENS</td>\n",
       "      <td>41</td>\n",
       "      <td>N OAK PARK AVE</td>\n",
       "      <td>T002</td>\n",
       "      <td>4100  N OAK PARK AVE, Chicago, IL</td>\n",
       "      <td>41.95469</td>\n",
       "      <td>-87.800991</td>\n",
       "      <td>9</td>\n",
       "    </tr>\n",
       "    <tr>\n",
       "      <th>3</th>\n",
       "      <td>4</td>\n",
       "      <td>2008-06-11</td>\n",
       "      <td>4100 North Oak Park Avenue, Chicago, IL 60634, USA</td>\n",
       "      <td>CULEX SALINARIUS</td>\n",
       "      <td>41</td>\n",
       "      <td>N OAK PARK AVE</td>\n",
       "      <td>T002</td>\n",
       "      <td>4100  N OAK PARK AVE, Chicago, IL</td>\n",
       "      <td>41.95469</td>\n",
       "      <td>-87.800991</td>\n",
       "      <td>9</td>\n",
       "    </tr>\n",
       "    <tr>\n",
       "      <th>4</th>\n",
       "      <td>5</td>\n",
       "      <td>2008-06-11</td>\n",
       "      <td>4100 North Oak Park Avenue, Chicago, IL 60634, USA</td>\n",
       "      <td>CULEX TERRITANS</td>\n",
       "      <td>41</td>\n",
       "      <td>N OAK PARK AVE</td>\n",
       "      <td>T002</td>\n",
       "      <td>4100  N OAK PARK AVE, Chicago, IL</td>\n",
       "      <td>41.95469</td>\n",
       "      <td>-87.800991</td>\n",
       "      <td>9</td>\n",
       "    </tr>\n",
       "  </tbody>\n",
       "</table>\n",
       "</div>"
      ],
      "text/plain": [
       "   Id        Date                                             Address  \\\n",
       "0   1  2008-06-11  4100 North Oak Park Avenue, Chicago, IL 60634, USA   \n",
       "1   2  2008-06-11  4100 North Oak Park Avenue, Chicago, IL 60634, USA   \n",
       "2   3  2008-06-11  4100 North Oak Park Avenue, Chicago, IL 60634, USA   \n",
       "3   4  2008-06-11  4100 North Oak Park Avenue, Chicago, IL 60634, USA   \n",
       "4   5  2008-06-11  4100 North Oak Park Avenue, Chicago, IL 60634, USA   \n",
       "\n",
       "                  Species  Block           Street  Trap  \\\n",
       "0  CULEX PIPIENS/RESTUANS     41   N OAK PARK AVE  T002   \n",
       "1          CULEX RESTUANS     41   N OAK PARK AVE  T002   \n",
       "2           CULEX PIPIENS     41   N OAK PARK AVE  T002   \n",
       "3        CULEX SALINARIUS     41   N OAK PARK AVE  T002   \n",
       "4         CULEX TERRITANS     41   N OAK PARK AVE  T002   \n",
       "\n",
       "              AddressNumberAndStreet  Latitude  Longitude  AddressAccuracy  \n",
       "0  4100  N OAK PARK AVE, Chicago, IL  41.95469 -87.800991                9  \n",
       "1  4100  N OAK PARK AVE, Chicago, IL  41.95469 -87.800991                9  \n",
       "2  4100  N OAK PARK AVE, Chicago, IL  41.95469 -87.800991                9  \n",
       "3  4100  N OAK PARK AVE, Chicago, IL  41.95469 -87.800991                9  \n",
       "4  4100  N OAK PARK AVE, Chicago, IL  41.95469 -87.800991                9  "
      ]
     },
     "execution_count": 118,
     "metadata": {},
     "output_type": "execute_result"
    }
   ],
   "source": [
    "test.head()"
   ]
  },
  {
   "cell_type": "code",
   "execution_count": 119,
   "metadata": {
    "colab": {
     "base_uri": "https://localhost:8080/"
    },
    "executionInfo": {
     "elapsed": 46,
     "status": "ok",
     "timestamp": 1637236770639,
     "user": {
      "displayName": "Tze Ling Gan",
      "photoUrl": "https://lh3.googleusercontent.com/a/default-user=s64",
      "userId": "17059842666868387383"
     },
     "user_tz": -480
    },
    "id": "bBpUFDBsIX5k",
    "outputId": "458d91b5-43f4-44ab-95cf-f82540fa4cbe"
   },
   "outputs": [
    {
     "name": "stdout",
     "output_type": "stream",
     "text": [
      "<class 'pandas.core.frame.DataFrame'>\n",
      "RangeIndex: 116293 entries, 0 to 116292\n",
      "Data columns (total 11 columns):\n",
      " #   Column                  Non-Null Count   Dtype  \n",
      "---  ------                  --------------   -----  \n",
      " 0   Id                      116293 non-null  int64  \n",
      " 1   Date                    116293 non-null  object \n",
      " 2   Address                 116293 non-null  object \n",
      " 3   Species                 116293 non-null  object \n",
      " 4   Block                   116293 non-null  int64  \n",
      " 5   Street                  116293 non-null  object \n",
      " 6   Trap                    116293 non-null  object \n",
      " 7   AddressNumberAndStreet  116293 non-null  object \n",
      " 8   Latitude                116293 non-null  float64\n",
      " 9   Longitude               116293 non-null  float64\n",
      " 10  AddressAccuracy         116293 non-null  int64  \n",
      "dtypes: float64(2), int64(3), object(6)\n",
      "memory usage: 9.8+ MB\n"
     ]
    }
   ],
   "source": [
    "test.info()"
   ]
  },
  {
   "cell_type": "markdown",
   "metadata": {
    "id": "_Luz9BcNIaiK"
   },
   "source": [
    "Note that our target variable, `wnv_present` is missing from our test dataset."
   ]
  },
  {
   "cell_type": "markdown",
   "metadata": {
    "id": "3806yzmCv-6S"
   },
   "source": [
    "### Checking for null or missing values"
   ]
  },
  {
   "cell_type": "code",
   "execution_count": 120,
   "metadata": {
    "colab": {
     "base_uri": "https://localhost:8080/"
    },
    "executionInfo": {
     "elapsed": 38,
     "status": "ok",
     "timestamp": 1637236770639,
     "user": {
      "displayName": "Tze Ling Gan",
      "photoUrl": "https://lh3.googleusercontent.com/a/default-user=s64",
      "userId": "17059842666868387383"
     },
     "user_tz": -480
    },
    "id": "UnX-gLHGv-6T",
    "outputId": "acdc9cb5-f57e-431e-b09f-10ccf5c9efdb"
   },
   "outputs": [
    {
     "data": {
      "text/plain": [
       "0"
      ]
     },
     "execution_count": 120,
     "metadata": {},
     "output_type": "execute_result"
    }
   ],
   "source": [
    "test.isnull().sum().sum()"
   ]
  },
  {
   "cell_type": "markdown",
   "metadata": {
    "id": "644GVdN2v-6T"
   },
   "source": [
    "There are no null values in the dataset."
   ]
  },
  {
   "cell_type": "markdown",
   "metadata": {
    "id": "fIMUqF0dv-6T"
   },
   "source": [
    "### Standardizing the format of column names \n",
    "\n",
    "This is how the column names look like:"
   ]
  },
  {
   "cell_type": "code",
   "execution_count": 121,
   "metadata": {
    "colab": {
     "base_uri": "https://localhost:8080/"
    },
    "executionInfo": {
     "elapsed": 28,
     "status": "ok",
     "timestamp": 1637236770639,
     "user": {
      "displayName": "Tze Ling Gan",
      "photoUrl": "https://lh3.googleusercontent.com/a/default-user=s64",
      "userId": "17059842666868387383"
     },
     "user_tz": -480
    },
    "id": "gse2_I4gv-6U",
    "outputId": "45851ab6-233c-496f-a5b3-c1ebc8ed66d1"
   },
   "outputs": [
    {
     "data": {
      "text/plain": [
       "Index(['Id', 'Date', 'Address', 'Species', 'Block', 'Street', 'Trap',\n",
       "       'AddressNumberAndStreet', 'Latitude', 'Longitude', 'AddressAccuracy'],\n",
       "      dtype='object')"
      ]
     },
     "execution_count": 121,
     "metadata": {},
     "output_type": "execute_result"
    }
   ],
   "source": [
    "test.columns"
   ]
  },
  {
   "cell_type": "markdown",
   "metadata": {
    "id": "z3ZtSV2uv-6U"
   },
   "source": [
    "An underscore will be inserted to separate words instead of via the capitalisation. The column names will then be converted to lowercase. "
   ]
  },
  {
   "cell_type": "code",
   "execution_count": 122,
   "metadata": {
    "id": "mg11PcD2v-6U"
   },
   "outputs": [],
   "source": [
    "test.columns = test.columns.str.replace('(?<!^)([A-Z])', r'_\\1', regex=True).str.lower()"
   ]
  },
  {
   "cell_type": "markdown",
   "metadata": {
    "id": "RC8vWaxJv-6U"
   },
   "source": [
    "The column names have been converted:"
   ]
  },
  {
   "cell_type": "code",
   "execution_count": 123,
   "metadata": {
    "colab": {
     "base_uri": "https://localhost:8080/"
    },
    "executionInfo": {
     "elapsed": 18,
     "status": "ok",
     "timestamp": 1637236770639,
     "user": {
      "displayName": "Tze Ling Gan",
      "photoUrl": "https://lh3.googleusercontent.com/a/default-user=s64",
      "userId": "17059842666868387383"
     },
     "user_tz": -480
    },
    "id": "kfVQ9BFwv-6V",
    "outputId": "256432c8-4e30-4a38-eaf2-9418c2383be8"
   },
   "outputs": [
    {
     "data": {
      "text/plain": [
       "Index(['id', 'date', 'address', 'species', 'block', 'street', 'trap',\n",
       "       'address_number_and_street', 'latitude', 'longitude',\n",
       "       'address_accuracy'],\n",
       "      dtype='object')"
      ]
     },
     "execution_count": 123,
     "metadata": {},
     "output_type": "execute_result"
    }
   ],
   "source": [
    "test.columns"
   ]
  },
  {
   "cell_type": "markdown",
   "metadata": {
    "id": "OMTA-qR7uPVZ"
   },
   "source": [
    "### Creating year, month, week and day of week columns \n",
    "\n",
    "We will convert the 'Date' column to datetime format and also add the Year, Month, Week, Day and Day of Week as features."
   ]
  },
  {
   "cell_type": "code",
   "execution_count": 124,
   "metadata": {
    "id": "UAEUble8uPVa"
   },
   "outputs": [],
   "source": [
    "test['date'] = pd.to_datetime(test['date'])\n",
    "test['year'] = test['date'].apply(lambda x: x.year)\n",
    "test['month'] = test['date'].apply(lambda x: x.month)\n",
    "test['day'] = test['date'].apply(lambda x: x.day)\n",
    "test['week'] = test['date'].apply(lambda x: x.week)\n",
    "test['day_of_week'] = test['date'].apply(lambda x: x.dayofweek)"
   ]
  },
  {
   "cell_type": "markdown",
   "metadata": {
    "id": "ydaUaX4Uwn_C"
   },
   "source": [
    "This is how the new columns look: "
   ]
  },
  {
   "cell_type": "code",
   "execution_count": 125,
   "metadata": {
    "colab": {
     "base_uri": "https://localhost:8080/",
     "height": 201
    },
    "executionInfo": {
     "elapsed": 14,
     "status": "ok",
     "timestamp": 1637236773522,
     "user": {
      "displayName": "Tze Ling Gan",
      "photoUrl": "https://lh3.googleusercontent.com/a/default-user=s64",
      "userId": "17059842666868387383"
     },
     "user_tz": -480
    },
    "id": "CTTvNgX-wn_D",
    "outputId": "fe795edf-7ba0-4e94-997e-fff889f1b0e7"
   },
   "outputs": [
    {
     "data": {
      "text/html": [
       "<div>\n",
       "<style scoped>\n",
       "    .dataframe tbody tr th:only-of-type {\n",
       "        vertical-align: middle;\n",
       "    }\n",
       "\n",
       "    .dataframe tbody tr th {\n",
       "        vertical-align: top;\n",
       "    }\n",
       "\n",
       "    .dataframe thead th {\n",
       "        text-align: right;\n",
       "    }\n",
       "</style>\n",
       "<table border=\"1\" class=\"dataframe\">\n",
       "  <thead>\n",
       "    <tr style=\"text-align: right;\">\n",
       "      <th></th>\n",
       "      <th>year</th>\n",
       "      <th>month</th>\n",
       "      <th>day</th>\n",
       "      <th>week</th>\n",
       "      <th>day_of_week</th>\n",
       "    </tr>\n",
       "  </thead>\n",
       "  <tbody>\n",
       "    <tr>\n",
       "      <th>0</th>\n",
       "      <td>2008</td>\n",
       "      <td>6</td>\n",
       "      <td>11</td>\n",
       "      <td>24</td>\n",
       "      <td>2</td>\n",
       "    </tr>\n",
       "    <tr>\n",
       "      <th>1</th>\n",
       "      <td>2008</td>\n",
       "      <td>6</td>\n",
       "      <td>11</td>\n",
       "      <td>24</td>\n",
       "      <td>2</td>\n",
       "    </tr>\n",
       "    <tr>\n",
       "      <th>2</th>\n",
       "      <td>2008</td>\n",
       "      <td>6</td>\n",
       "      <td>11</td>\n",
       "      <td>24</td>\n",
       "      <td>2</td>\n",
       "    </tr>\n",
       "    <tr>\n",
       "      <th>3</th>\n",
       "      <td>2008</td>\n",
       "      <td>6</td>\n",
       "      <td>11</td>\n",
       "      <td>24</td>\n",
       "      <td>2</td>\n",
       "    </tr>\n",
       "    <tr>\n",
       "      <th>4</th>\n",
       "      <td>2008</td>\n",
       "      <td>6</td>\n",
       "      <td>11</td>\n",
       "      <td>24</td>\n",
       "      <td>2</td>\n",
       "    </tr>\n",
       "  </tbody>\n",
       "</table>\n",
       "</div>"
      ],
      "text/plain": [
       "   year  month  day  week  day_of_week\n",
       "0  2008      6   11    24            2\n",
       "1  2008      6   11    24            2\n",
       "2  2008      6   11    24            2\n",
       "3  2008      6   11    24            2\n",
       "4  2008      6   11    24            2"
      ]
     },
     "execution_count": 125,
     "metadata": {},
     "output_type": "execute_result"
    }
   ],
   "source": [
    "test.loc[:4,'year':] "
   ]
  },
  {
   "cell_type": "markdown",
   "metadata": {
    "id": "kRXizxPzqjkR"
   },
   "source": [
    "### Creating a coordinates column\n",
    "\n",
    "We can combine the latitude and longitude into a single column:"
   ]
  },
  {
   "cell_type": "code",
   "execution_count": 126,
   "metadata": {
    "id": "32cMZxcnqjkS"
   },
   "outputs": [],
   "source": [
    "test[\"coordinates\"] = list(zip((round(test[\"latitude\"], 6)), round(test[\"longitude\"], 6)))"
   ]
  },
  {
   "cell_type": "markdown",
   "metadata": {
    "id": "jEKJzaYEqjkT"
   },
   "source": [
    "This is how the DataFrame looks like:"
   ]
  },
  {
   "cell_type": "code",
   "execution_count": 127,
   "metadata": {
    "colab": {
     "base_uri": "https://localhost:8080/",
     "height": 715
    },
    "executionInfo": {
     "elapsed": 12,
     "status": "ok",
     "timestamp": 1637236773523,
     "user": {
      "displayName": "Tze Ling Gan",
      "photoUrl": "https://lh3.googleusercontent.com/a/default-user=s64",
      "userId": "17059842666868387383"
     },
     "user_tz": -480
    },
    "id": "3QqyvqPMqjkT",
    "outputId": "31186c2a-a4e0-4156-84cb-7d38ca42a889"
   },
   "outputs": [
    {
     "data": {
      "text/html": [
       "<div>\n",
       "<style scoped>\n",
       "    .dataframe tbody tr th:only-of-type {\n",
       "        vertical-align: middle;\n",
       "    }\n",
       "\n",
       "    .dataframe tbody tr th {\n",
       "        vertical-align: top;\n",
       "    }\n",
       "\n",
       "    .dataframe thead th {\n",
       "        text-align: right;\n",
       "    }\n",
       "</style>\n",
       "<table border=\"1\" class=\"dataframe\">\n",
       "  <thead>\n",
       "    <tr style=\"text-align: right;\">\n",
       "      <th></th>\n",
       "      <th>id</th>\n",
       "      <th>date</th>\n",
       "      <th>address</th>\n",
       "      <th>species</th>\n",
       "      <th>block</th>\n",
       "      <th>street</th>\n",
       "      <th>trap</th>\n",
       "      <th>address_number_and_street</th>\n",
       "      <th>latitude</th>\n",
       "      <th>longitude</th>\n",
       "      <th>address_accuracy</th>\n",
       "      <th>year</th>\n",
       "      <th>month</th>\n",
       "      <th>day</th>\n",
       "      <th>week</th>\n",
       "      <th>day_of_week</th>\n",
       "      <th>coordinates</th>\n",
       "    </tr>\n",
       "  </thead>\n",
       "  <tbody>\n",
       "    <tr>\n",
       "      <th>0</th>\n",
       "      <td>1</td>\n",
       "      <td>2008-06-11</td>\n",
       "      <td>4100 North Oak Park Avenue, Chicago, IL 60634, USA</td>\n",
       "      <td>CULEX PIPIENS/RESTUANS</td>\n",
       "      <td>41</td>\n",
       "      <td>N OAK PARK AVE</td>\n",
       "      <td>T002</td>\n",
       "      <td>4100  N OAK PARK AVE, Chicago, IL</td>\n",
       "      <td>41.95469</td>\n",
       "      <td>-87.800991</td>\n",
       "      <td>9</td>\n",
       "      <td>2008</td>\n",
       "      <td>6</td>\n",
       "      <td>11</td>\n",
       "      <td>24</td>\n",
       "      <td>2</td>\n",
       "      <td>(41.95469, -87.800991)</td>\n",
       "    </tr>\n",
       "    <tr>\n",
       "      <th>1</th>\n",
       "      <td>2</td>\n",
       "      <td>2008-06-11</td>\n",
       "      <td>4100 North Oak Park Avenue, Chicago, IL 60634, USA</td>\n",
       "      <td>CULEX RESTUANS</td>\n",
       "      <td>41</td>\n",
       "      <td>N OAK PARK AVE</td>\n",
       "      <td>T002</td>\n",
       "      <td>4100  N OAK PARK AVE, Chicago, IL</td>\n",
       "      <td>41.95469</td>\n",
       "      <td>-87.800991</td>\n",
       "      <td>9</td>\n",
       "      <td>2008</td>\n",
       "      <td>6</td>\n",
       "      <td>11</td>\n",
       "      <td>24</td>\n",
       "      <td>2</td>\n",
       "      <td>(41.95469, -87.800991)</td>\n",
       "    </tr>\n",
       "    <tr>\n",
       "      <th>2</th>\n",
       "      <td>3</td>\n",
       "      <td>2008-06-11</td>\n",
       "      <td>4100 North Oak Park Avenue, Chicago, IL 60634, USA</td>\n",
       "      <td>CULEX PIPIENS</td>\n",
       "      <td>41</td>\n",
       "      <td>N OAK PARK AVE</td>\n",
       "      <td>T002</td>\n",
       "      <td>4100  N OAK PARK AVE, Chicago, IL</td>\n",
       "      <td>41.95469</td>\n",
       "      <td>-87.800991</td>\n",
       "      <td>9</td>\n",
       "      <td>2008</td>\n",
       "      <td>6</td>\n",
       "      <td>11</td>\n",
       "      <td>24</td>\n",
       "      <td>2</td>\n",
       "      <td>(41.95469, -87.800991)</td>\n",
       "    </tr>\n",
       "    <tr>\n",
       "      <th>3</th>\n",
       "      <td>4</td>\n",
       "      <td>2008-06-11</td>\n",
       "      <td>4100 North Oak Park Avenue, Chicago, IL 60634, USA</td>\n",
       "      <td>CULEX SALINARIUS</td>\n",
       "      <td>41</td>\n",
       "      <td>N OAK PARK AVE</td>\n",
       "      <td>T002</td>\n",
       "      <td>4100  N OAK PARK AVE, Chicago, IL</td>\n",
       "      <td>41.95469</td>\n",
       "      <td>-87.800991</td>\n",
       "      <td>9</td>\n",
       "      <td>2008</td>\n",
       "      <td>6</td>\n",
       "      <td>11</td>\n",
       "      <td>24</td>\n",
       "      <td>2</td>\n",
       "      <td>(41.95469, -87.800991)</td>\n",
       "    </tr>\n",
       "    <tr>\n",
       "      <th>4</th>\n",
       "      <td>5</td>\n",
       "      <td>2008-06-11</td>\n",
       "      <td>4100 North Oak Park Avenue, Chicago, IL 60634, USA</td>\n",
       "      <td>CULEX TERRITANS</td>\n",
       "      <td>41</td>\n",
       "      <td>N OAK PARK AVE</td>\n",
       "      <td>T002</td>\n",
       "      <td>4100  N OAK PARK AVE, Chicago, IL</td>\n",
       "      <td>41.95469</td>\n",
       "      <td>-87.800991</td>\n",
       "      <td>9</td>\n",
       "      <td>2008</td>\n",
       "      <td>6</td>\n",
       "      <td>11</td>\n",
       "      <td>24</td>\n",
       "      <td>2</td>\n",
       "      <td>(41.95469, -87.800991)</td>\n",
       "    </tr>\n",
       "  </tbody>\n",
       "</table>\n",
       "</div>"
      ],
      "text/plain": [
       "   id       date                                             address  \\\n",
       "0   1 2008-06-11  4100 North Oak Park Avenue, Chicago, IL 60634, USA   \n",
       "1   2 2008-06-11  4100 North Oak Park Avenue, Chicago, IL 60634, USA   \n",
       "2   3 2008-06-11  4100 North Oak Park Avenue, Chicago, IL 60634, USA   \n",
       "3   4 2008-06-11  4100 North Oak Park Avenue, Chicago, IL 60634, USA   \n",
       "4   5 2008-06-11  4100 North Oak Park Avenue, Chicago, IL 60634, USA   \n",
       "\n",
       "                  species  block           street  trap  \\\n",
       "0  CULEX PIPIENS/RESTUANS     41   N OAK PARK AVE  T002   \n",
       "1          CULEX RESTUANS     41   N OAK PARK AVE  T002   \n",
       "2           CULEX PIPIENS     41   N OAK PARK AVE  T002   \n",
       "3        CULEX SALINARIUS     41   N OAK PARK AVE  T002   \n",
       "4         CULEX TERRITANS     41   N OAK PARK AVE  T002   \n",
       "\n",
       "           address_number_and_street  latitude  longitude  address_accuracy  \\\n",
       "0  4100  N OAK PARK AVE, Chicago, IL  41.95469 -87.800991                 9   \n",
       "1  4100  N OAK PARK AVE, Chicago, IL  41.95469 -87.800991                 9   \n",
       "2  4100  N OAK PARK AVE, Chicago, IL  41.95469 -87.800991                 9   \n",
       "3  4100  N OAK PARK AVE, Chicago, IL  41.95469 -87.800991                 9   \n",
       "4  4100  N OAK PARK AVE, Chicago, IL  41.95469 -87.800991                 9   \n",
       "\n",
       "   year  month  day  week  day_of_week             coordinates  \n",
       "0  2008      6   11    24            2  (41.95469, -87.800991)  \n",
       "1  2008      6   11    24            2  (41.95469, -87.800991)  \n",
       "2  2008      6   11    24            2  (41.95469, -87.800991)  \n",
       "3  2008      6   11    24            2  (41.95469, -87.800991)  \n",
       "4  2008      6   11    24            2  (41.95469, -87.800991)  "
      ]
     },
     "execution_count": 127,
     "metadata": {},
     "output_type": "execute_result"
    }
   ],
   "source": [
    "test.head()"
   ]
  },
  {
   "cell_type": "markdown",
   "metadata": {
    "id": "Dfe2t8vJxgaL"
   },
   "source": [
    "## Merging the datasets\n",
    "---\n",
    "\n",
    "We will first create a new column called `station` in the `test` and `train` datasets to match that in the `weather` dataset. The values are set based on weather whether Station 1 or Station 2 is nearer to the WNV test site. "
   ]
  },
  {
   "cell_type": "code",
   "execution_count": 128,
   "metadata": {
    "id": "9mbaHsVdxvrF"
   },
   "outputs": [],
   "source": [
    "station1_coords = (41.995, -87.933)\n",
    "station2_coords = (41.786, -87.752)\n",
    "\n",
    "def neareststation(cell):\n",
    "    dist_to_1 = geopy.distance.distance(cell, station1_coords)\n",
    "    dist_to_2 = geopy.distance.distance(cell, station2_coords)\n",
    "    if dist_to_1 < dist_to_2:\n",
    "        return 1\n",
    "    else:\n",
    "        return 2\n",
    "\n",
    "train[\"station\"] = train[\"coordinates\"].apply(neareststation)\n",
    "test[\"station\"] = test[\"coordinates\"].apply(neareststation)"
   ]
  },
  {
   "cell_type": "markdown",
   "metadata": {
    "id": "8390mgfE4fbV"
   },
   "source": [
    "We will merge the train dataset with the weather data, and do the same for the test dataset. The merge will be done on the `station` column and all date-related columns to integrate the matching weather data for each WNV test.  "
   ]
  },
  {
   "cell_type": "code",
   "execution_count": 129,
   "metadata": {
    "id": "4fqh-iKr4ex3"
   },
   "outputs": [],
   "source": [
    "merged_train = pd.merge(train, weather, how = \"left\", on = [\"year\", \"month\", \"day\", \"station\", \"date\", \"week\", \"day_of_week\"])\n",
    "merged_test = pd.merge(test, weather, how = \"left\", on = [\"year\", \"month\", \"day\", \"station\", \"date\", \"week\", \"day_of_week\"])"
   ]
  },
  {
   "cell_type": "markdown",
   "metadata": {
    "id": "IWrMtxO_bEaU"
   },
   "source": [
    "The merged datasets are as follows:"
   ]
  },
  {
   "cell_type": "code",
   "execution_count": 130,
   "metadata": {
    "colab": {
     "base_uri": "https://localhost:8080/",
     "height": 715
    },
    "executionInfo": {
     "elapsed": 28,
     "status": "ok",
     "timestamp": 1637236834439,
     "user": {
      "displayName": "Tze Ling Gan",
      "photoUrl": "https://lh3.googleusercontent.com/a/default-user=s64",
      "userId": "17059842666868387383"
     },
     "user_tz": -480
    },
    "id": "hV4acKwD5Dcs",
    "outputId": "4a601df8-ce73-43c7-9e01-c8b94c4a6390"
   },
   "outputs": [
    {
     "data": {
      "text/html": [
       "<div>\n",
       "<style scoped>\n",
       "    .dataframe tbody tr th:only-of-type {\n",
       "        vertical-align: middle;\n",
       "    }\n",
       "\n",
       "    .dataframe tbody tr th {\n",
       "        vertical-align: top;\n",
       "    }\n",
       "\n",
       "    .dataframe thead th {\n",
       "        text-align: right;\n",
       "    }\n",
       "</style>\n",
       "<table border=\"1\" class=\"dataframe\">\n",
       "  <thead>\n",
       "    <tr style=\"text-align: right;\">\n",
       "      <th></th>\n",
       "      <th>date</th>\n",
       "      <th>address</th>\n",
       "      <th>species</th>\n",
       "      <th>block</th>\n",
       "      <th>street</th>\n",
       "      <th>trap</th>\n",
       "      <th>address_number_and_street</th>\n",
       "      <th>latitude</th>\n",
       "      <th>longitude</th>\n",
       "      <th>address_accuracy</th>\n",
       "      <th>num_mosquitos</th>\n",
       "      <th>wnv_present</th>\n",
       "      <th>year</th>\n",
       "      <th>month</th>\n",
       "      <th>day</th>\n",
       "      <th>week</th>\n",
       "      <th>day_of_week</th>\n",
       "      <th>coordinates</th>\n",
       "      <th>station</th>\n",
       "      <th>tmax</th>\n",
       "      <th>tmin</th>\n",
       "      <th>tavg</th>\n",
       "      <th>depart</th>\n",
       "      <th>dew_point</th>\n",
       "      <th>wet_bulb</th>\n",
       "      <th>sunrise</th>\n",
       "      <th>sunset</th>\n",
       "      <th>precip_total</th>\n",
       "      <th>stn_pressure</th>\n",
       "      <th>sea_level</th>\n",
       "      <th>result_speed</th>\n",
       "      <th>result_dir</th>\n",
       "      <th>avg_speed</th>\n",
       "      <th>heat_cool</th>\n",
       "      <th>normal</th>\n",
       "    </tr>\n",
       "  </thead>\n",
       "  <tbody>\n",
       "    <tr>\n",
       "      <th>0</th>\n",
       "      <td>2007-05-29</td>\n",
       "      <td>4100 North Oak Park Avenue, Chicago, IL 60634, USA</td>\n",
       "      <td>CULEX PIPIENS/RESTUANS</td>\n",
       "      <td>41</td>\n",
       "      <td>N OAK PARK AVE</td>\n",
       "      <td>T002</td>\n",
       "      <td>4100  N OAK PARK AVE, Chicago, IL</td>\n",
       "      <td>41.954690</td>\n",
       "      <td>-87.800991</td>\n",
       "      <td>9</td>\n",
       "      <td>1</td>\n",
       "      <td>0</td>\n",
       "      <td>2007</td>\n",
       "      <td>5</td>\n",
       "      <td>29</td>\n",
       "      <td>22</td>\n",
       "      <td>1</td>\n",
       "      <td>(41.95469, -87.800991)</td>\n",
       "      <td>1</td>\n",
       "      <td>88</td>\n",
       "      <td>60</td>\n",
       "      <td>74</td>\n",
       "      <td>10</td>\n",
       "      <td>58</td>\n",
       "      <td>65</td>\n",
       "      <td>421</td>\n",
       "      <td>2000</td>\n",
       "      <td>0.0</td>\n",
       "      <td>29.39</td>\n",
       "      <td>30.11</td>\n",
       "      <td>5.8</td>\n",
       "      <td>18</td>\n",
       "      <td>6.5</td>\n",
       "      <td>-9</td>\n",
       "      <td>64</td>\n",
       "    </tr>\n",
       "    <tr>\n",
       "      <th>1</th>\n",
       "      <td>2007-05-29</td>\n",
       "      <td>4100 North Oak Park Avenue, Chicago, IL 60634, USA</td>\n",
       "      <td>CULEX RESTUANS</td>\n",
       "      <td>41</td>\n",
       "      <td>N OAK PARK AVE</td>\n",
       "      <td>T002</td>\n",
       "      <td>4100  N OAK PARK AVE, Chicago, IL</td>\n",
       "      <td>41.954690</td>\n",
       "      <td>-87.800991</td>\n",
       "      <td>9</td>\n",
       "      <td>1</td>\n",
       "      <td>0</td>\n",
       "      <td>2007</td>\n",
       "      <td>5</td>\n",
       "      <td>29</td>\n",
       "      <td>22</td>\n",
       "      <td>1</td>\n",
       "      <td>(41.95469, -87.800991)</td>\n",
       "      <td>1</td>\n",
       "      <td>88</td>\n",
       "      <td>60</td>\n",
       "      <td>74</td>\n",
       "      <td>10</td>\n",
       "      <td>58</td>\n",
       "      <td>65</td>\n",
       "      <td>421</td>\n",
       "      <td>2000</td>\n",
       "      <td>0.0</td>\n",
       "      <td>29.39</td>\n",
       "      <td>30.11</td>\n",
       "      <td>5.8</td>\n",
       "      <td>18</td>\n",
       "      <td>6.5</td>\n",
       "      <td>-9</td>\n",
       "      <td>64</td>\n",
       "    </tr>\n",
       "    <tr>\n",
       "      <th>2</th>\n",
       "      <td>2007-05-29</td>\n",
       "      <td>6200 North Mandell Avenue, Chicago, IL 60646, USA</td>\n",
       "      <td>CULEX RESTUANS</td>\n",
       "      <td>62</td>\n",
       "      <td>N MANDELL AVE</td>\n",
       "      <td>T007</td>\n",
       "      <td>6200  N MANDELL AVE, Chicago, IL</td>\n",
       "      <td>41.994991</td>\n",
       "      <td>-87.769279</td>\n",
       "      <td>9</td>\n",
       "      <td>1</td>\n",
       "      <td>0</td>\n",
       "      <td>2007</td>\n",
       "      <td>5</td>\n",
       "      <td>29</td>\n",
       "      <td>22</td>\n",
       "      <td>1</td>\n",
       "      <td>(41.994991, -87.769279)</td>\n",
       "      <td>1</td>\n",
       "      <td>88</td>\n",
       "      <td>60</td>\n",
       "      <td>74</td>\n",
       "      <td>10</td>\n",
       "      <td>58</td>\n",
       "      <td>65</td>\n",
       "      <td>421</td>\n",
       "      <td>2000</td>\n",
       "      <td>0.0</td>\n",
       "      <td>29.39</td>\n",
       "      <td>30.11</td>\n",
       "      <td>5.8</td>\n",
       "      <td>18</td>\n",
       "      <td>6.5</td>\n",
       "      <td>-9</td>\n",
       "      <td>64</td>\n",
       "    </tr>\n",
       "    <tr>\n",
       "      <th>3</th>\n",
       "      <td>2007-05-29</td>\n",
       "      <td>7900 West Foster Avenue, Chicago, IL 60656, USA</td>\n",
       "      <td>CULEX PIPIENS/RESTUANS</td>\n",
       "      <td>79</td>\n",
       "      <td>W FOSTER AVE</td>\n",
       "      <td>T015</td>\n",
       "      <td>7900  W FOSTER AVE, Chicago, IL</td>\n",
       "      <td>41.974089</td>\n",
       "      <td>-87.824812</td>\n",
       "      <td>8</td>\n",
       "      <td>1</td>\n",
       "      <td>0</td>\n",
       "      <td>2007</td>\n",
       "      <td>5</td>\n",
       "      <td>29</td>\n",
       "      <td>22</td>\n",
       "      <td>1</td>\n",
       "      <td>(41.974089, -87.824812)</td>\n",
       "      <td>1</td>\n",
       "      <td>88</td>\n",
       "      <td>60</td>\n",
       "      <td>74</td>\n",
       "      <td>10</td>\n",
       "      <td>58</td>\n",
       "      <td>65</td>\n",
       "      <td>421</td>\n",
       "      <td>2000</td>\n",
       "      <td>0.0</td>\n",
       "      <td>29.39</td>\n",
       "      <td>30.11</td>\n",
       "      <td>5.8</td>\n",
       "      <td>18</td>\n",
       "      <td>6.5</td>\n",
       "      <td>-9</td>\n",
       "      <td>64</td>\n",
       "    </tr>\n",
       "    <tr>\n",
       "      <th>4</th>\n",
       "      <td>2007-05-29</td>\n",
       "      <td>7900 West Foster Avenue, Chicago, IL 60656, USA</td>\n",
       "      <td>CULEX RESTUANS</td>\n",
       "      <td>79</td>\n",
       "      <td>W FOSTER AVE</td>\n",
       "      <td>T015</td>\n",
       "      <td>7900  W FOSTER AVE, Chicago, IL</td>\n",
       "      <td>41.974089</td>\n",
       "      <td>-87.824812</td>\n",
       "      <td>8</td>\n",
       "      <td>4</td>\n",
       "      <td>0</td>\n",
       "      <td>2007</td>\n",
       "      <td>5</td>\n",
       "      <td>29</td>\n",
       "      <td>22</td>\n",
       "      <td>1</td>\n",
       "      <td>(41.974089, -87.824812)</td>\n",
       "      <td>1</td>\n",
       "      <td>88</td>\n",
       "      <td>60</td>\n",
       "      <td>74</td>\n",
       "      <td>10</td>\n",
       "      <td>58</td>\n",
       "      <td>65</td>\n",
       "      <td>421</td>\n",
       "      <td>2000</td>\n",
       "      <td>0.0</td>\n",
       "      <td>29.39</td>\n",
       "      <td>30.11</td>\n",
       "      <td>5.8</td>\n",
       "      <td>18</td>\n",
       "      <td>6.5</td>\n",
       "      <td>-9</td>\n",
       "      <td>64</td>\n",
       "    </tr>\n",
       "  </tbody>\n",
       "</table>\n",
       "</div>"
      ],
      "text/plain": [
       "        date                                             address  \\\n",
       "0 2007-05-29  4100 North Oak Park Avenue, Chicago, IL 60634, USA   \n",
       "1 2007-05-29  4100 North Oak Park Avenue, Chicago, IL 60634, USA   \n",
       "2 2007-05-29   6200 North Mandell Avenue, Chicago, IL 60646, USA   \n",
       "3 2007-05-29     7900 West Foster Avenue, Chicago, IL 60656, USA   \n",
       "4 2007-05-29     7900 West Foster Avenue, Chicago, IL 60656, USA   \n",
       "\n",
       "                  species  block           street  trap  \\\n",
       "0  CULEX PIPIENS/RESTUANS     41   N OAK PARK AVE  T002   \n",
       "1          CULEX RESTUANS     41   N OAK PARK AVE  T002   \n",
       "2          CULEX RESTUANS     62    N MANDELL AVE  T007   \n",
       "3  CULEX PIPIENS/RESTUANS     79     W FOSTER AVE  T015   \n",
       "4          CULEX RESTUANS     79     W FOSTER AVE  T015   \n",
       "\n",
       "           address_number_and_street   latitude  longitude  address_accuracy  \\\n",
       "0  4100  N OAK PARK AVE, Chicago, IL  41.954690 -87.800991                 9   \n",
       "1  4100  N OAK PARK AVE, Chicago, IL  41.954690 -87.800991                 9   \n",
       "2   6200  N MANDELL AVE, Chicago, IL  41.994991 -87.769279                 9   \n",
       "3    7900  W FOSTER AVE, Chicago, IL  41.974089 -87.824812                 8   \n",
       "4    7900  W FOSTER AVE, Chicago, IL  41.974089 -87.824812                 8   \n",
       "\n",
       "   num_mosquitos  wnv_present  year  month  day  week  day_of_week  \\\n",
       "0              1            0  2007      5   29    22            1   \n",
       "1              1            0  2007      5   29    22            1   \n",
       "2              1            0  2007      5   29    22            1   \n",
       "3              1            0  2007      5   29    22            1   \n",
       "4              4            0  2007      5   29    22            1   \n",
       "\n",
       "               coordinates  station  tmax  tmin  tavg  depart  dew_point  \\\n",
       "0   (41.95469, -87.800991)        1    88    60    74      10         58   \n",
       "1   (41.95469, -87.800991)        1    88    60    74      10         58   \n",
       "2  (41.994991, -87.769279)        1    88    60    74      10         58   \n",
       "3  (41.974089, -87.824812)        1    88    60    74      10         58   \n",
       "4  (41.974089, -87.824812)        1    88    60    74      10         58   \n",
       "\n",
       "   wet_bulb  sunrise  sunset  precip_total  stn_pressure  sea_level  \\\n",
       "0        65      421    2000           0.0         29.39      30.11   \n",
       "1        65      421    2000           0.0         29.39      30.11   \n",
       "2        65      421    2000           0.0         29.39      30.11   \n",
       "3        65      421    2000           0.0         29.39      30.11   \n",
       "4        65      421    2000           0.0         29.39      30.11   \n",
       "\n",
       "   result_speed  result_dir  avg_speed  heat_cool  normal  \n",
       "0           5.8          18        6.5         -9      64  \n",
       "1           5.8          18        6.5         -9      64  \n",
       "2           5.8          18        6.5         -9      64  \n",
       "3           5.8          18        6.5         -9      64  \n",
       "4           5.8          18        6.5         -9      64  "
      ]
     },
     "execution_count": 130,
     "metadata": {},
     "output_type": "execute_result"
    }
   ],
   "source": [
    "merged_train.head()"
   ]
  },
  {
   "cell_type": "code",
   "execution_count": 131,
   "metadata": {
    "colab": {
     "base_uri": "https://localhost:8080/",
     "height": 715
    },
    "executionInfo": {
     "elapsed": 22,
     "status": "ok",
     "timestamp": 1637236834439,
     "user": {
      "displayName": "Tze Ling Gan",
      "photoUrl": "https://lh3.googleusercontent.com/a/default-user=s64",
      "userId": "17059842666868387383"
     },
     "user_tz": -480
    },
    "id": "uAwUhRAm5Kqz",
    "outputId": "707f97d4-f4dd-4a85-a3b9-1d5fd228e1d1"
   },
   "outputs": [
    {
     "data": {
      "text/html": [
       "<div>\n",
       "<style scoped>\n",
       "    .dataframe tbody tr th:only-of-type {\n",
       "        vertical-align: middle;\n",
       "    }\n",
       "\n",
       "    .dataframe tbody tr th {\n",
       "        vertical-align: top;\n",
       "    }\n",
       "\n",
       "    .dataframe thead th {\n",
       "        text-align: right;\n",
       "    }\n",
       "</style>\n",
       "<table border=\"1\" class=\"dataframe\">\n",
       "  <thead>\n",
       "    <tr style=\"text-align: right;\">\n",
       "      <th></th>\n",
       "      <th>id</th>\n",
       "      <th>date</th>\n",
       "      <th>address</th>\n",
       "      <th>species</th>\n",
       "      <th>block</th>\n",
       "      <th>street</th>\n",
       "      <th>trap</th>\n",
       "      <th>address_number_and_street</th>\n",
       "      <th>latitude</th>\n",
       "      <th>longitude</th>\n",
       "      <th>address_accuracy</th>\n",
       "      <th>year</th>\n",
       "      <th>month</th>\n",
       "      <th>day</th>\n",
       "      <th>week</th>\n",
       "      <th>day_of_week</th>\n",
       "      <th>coordinates</th>\n",
       "      <th>station</th>\n",
       "      <th>tmax</th>\n",
       "      <th>tmin</th>\n",
       "      <th>tavg</th>\n",
       "      <th>depart</th>\n",
       "      <th>dew_point</th>\n",
       "      <th>wet_bulb</th>\n",
       "      <th>sunrise</th>\n",
       "      <th>sunset</th>\n",
       "      <th>precip_total</th>\n",
       "      <th>stn_pressure</th>\n",
       "      <th>sea_level</th>\n",
       "      <th>result_speed</th>\n",
       "      <th>result_dir</th>\n",
       "      <th>avg_speed</th>\n",
       "      <th>heat_cool</th>\n",
       "      <th>normal</th>\n",
       "    </tr>\n",
       "  </thead>\n",
       "  <tbody>\n",
       "    <tr>\n",
       "      <th>0</th>\n",
       "      <td>1</td>\n",
       "      <td>2008-06-11</td>\n",
       "      <td>4100 North Oak Park Avenue, Chicago, IL 60634, USA</td>\n",
       "      <td>CULEX PIPIENS/RESTUANS</td>\n",
       "      <td>41</td>\n",
       "      <td>N OAK PARK AVE</td>\n",
       "      <td>T002</td>\n",
       "      <td>4100  N OAK PARK AVE, Chicago, IL</td>\n",
       "      <td>41.95469</td>\n",
       "      <td>-87.800991</td>\n",
       "      <td>9</td>\n",
       "      <td>2008</td>\n",
       "      <td>6</td>\n",
       "      <td>11</td>\n",
       "      <td>24</td>\n",
       "      <td>2</td>\n",
       "      <td>(41.95469, -87.800991)</td>\n",
       "      <td>1</td>\n",
       "      <td>86</td>\n",
       "      <td>61</td>\n",
       "      <td>74</td>\n",
       "      <td>7</td>\n",
       "      <td>56</td>\n",
       "      <td>64</td>\n",
       "      <td>416</td>\n",
       "      <td>2000</td>\n",
       "      <td>0.0</td>\n",
       "      <td>29.28</td>\n",
       "      <td>29.99</td>\n",
       "      <td>8.9</td>\n",
       "      <td>18</td>\n",
       "      <td>10.0</td>\n",
       "      <td>-9</td>\n",
       "      <td>67</td>\n",
       "    </tr>\n",
       "    <tr>\n",
       "      <th>1</th>\n",
       "      <td>2</td>\n",
       "      <td>2008-06-11</td>\n",
       "      <td>4100 North Oak Park Avenue, Chicago, IL 60634, USA</td>\n",
       "      <td>CULEX RESTUANS</td>\n",
       "      <td>41</td>\n",
       "      <td>N OAK PARK AVE</td>\n",
       "      <td>T002</td>\n",
       "      <td>4100  N OAK PARK AVE, Chicago, IL</td>\n",
       "      <td>41.95469</td>\n",
       "      <td>-87.800991</td>\n",
       "      <td>9</td>\n",
       "      <td>2008</td>\n",
       "      <td>6</td>\n",
       "      <td>11</td>\n",
       "      <td>24</td>\n",
       "      <td>2</td>\n",
       "      <td>(41.95469, -87.800991)</td>\n",
       "      <td>1</td>\n",
       "      <td>86</td>\n",
       "      <td>61</td>\n",
       "      <td>74</td>\n",
       "      <td>7</td>\n",
       "      <td>56</td>\n",
       "      <td>64</td>\n",
       "      <td>416</td>\n",
       "      <td>2000</td>\n",
       "      <td>0.0</td>\n",
       "      <td>29.28</td>\n",
       "      <td>29.99</td>\n",
       "      <td>8.9</td>\n",
       "      <td>18</td>\n",
       "      <td>10.0</td>\n",
       "      <td>-9</td>\n",
       "      <td>67</td>\n",
       "    </tr>\n",
       "    <tr>\n",
       "      <th>2</th>\n",
       "      <td>3</td>\n",
       "      <td>2008-06-11</td>\n",
       "      <td>4100 North Oak Park Avenue, Chicago, IL 60634, USA</td>\n",
       "      <td>CULEX PIPIENS</td>\n",
       "      <td>41</td>\n",
       "      <td>N OAK PARK AVE</td>\n",
       "      <td>T002</td>\n",
       "      <td>4100  N OAK PARK AVE, Chicago, IL</td>\n",
       "      <td>41.95469</td>\n",
       "      <td>-87.800991</td>\n",
       "      <td>9</td>\n",
       "      <td>2008</td>\n",
       "      <td>6</td>\n",
       "      <td>11</td>\n",
       "      <td>24</td>\n",
       "      <td>2</td>\n",
       "      <td>(41.95469, -87.800991)</td>\n",
       "      <td>1</td>\n",
       "      <td>86</td>\n",
       "      <td>61</td>\n",
       "      <td>74</td>\n",
       "      <td>7</td>\n",
       "      <td>56</td>\n",
       "      <td>64</td>\n",
       "      <td>416</td>\n",
       "      <td>2000</td>\n",
       "      <td>0.0</td>\n",
       "      <td>29.28</td>\n",
       "      <td>29.99</td>\n",
       "      <td>8.9</td>\n",
       "      <td>18</td>\n",
       "      <td>10.0</td>\n",
       "      <td>-9</td>\n",
       "      <td>67</td>\n",
       "    </tr>\n",
       "    <tr>\n",
       "      <th>3</th>\n",
       "      <td>4</td>\n",
       "      <td>2008-06-11</td>\n",
       "      <td>4100 North Oak Park Avenue, Chicago, IL 60634, USA</td>\n",
       "      <td>CULEX SALINARIUS</td>\n",
       "      <td>41</td>\n",
       "      <td>N OAK PARK AVE</td>\n",
       "      <td>T002</td>\n",
       "      <td>4100  N OAK PARK AVE, Chicago, IL</td>\n",
       "      <td>41.95469</td>\n",
       "      <td>-87.800991</td>\n",
       "      <td>9</td>\n",
       "      <td>2008</td>\n",
       "      <td>6</td>\n",
       "      <td>11</td>\n",
       "      <td>24</td>\n",
       "      <td>2</td>\n",
       "      <td>(41.95469, -87.800991)</td>\n",
       "      <td>1</td>\n",
       "      <td>86</td>\n",
       "      <td>61</td>\n",
       "      <td>74</td>\n",
       "      <td>7</td>\n",
       "      <td>56</td>\n",
       "      <td>64</td>\n",
       "      <td>416</td>\n",
       "      <td>2000</td>\n",
       "      <td>0.0</td>\n",
       "      <td>29.28</td>\n",
       "      <td>29.99</td>\n",
       "      <td>8.9</td>\n",
       "      <td>18</td>\n",
       "      <td>10.0</td>\n",
       "      <td>-9</td>\n",
       "      <td>67</td>\n",
       "    </tr>\n",
       "    <tr>\n",
       "      <th>4</th>\n",
       "      <td>5</td>\n",
       "      <td>2008-06-11</td>\n",
       "      <td>4100 North Oak Park Avenue, Chicago, IL 60634, USA</td>\n",
       "      <td>CULEX TERRITANS</td>\n",
       "      <td>41</td>\n",
       "      <td>N OAK PARK AVE</td>\n",
       "      <td>T002</td>\n",
       "      <td>4100  N OAK PARK AVE, Chicago, IL</td>\n",
       "      <td>41.95469</td>\n",
       "      <td>-87.800991</td>\n",
       "      <td>9</td>\n",
       "      <td>2008</td>\n",
       "      <td>6</td>\n",
       "      <td>11</td>\n",
       "      <td>24</td>\n",
       "      <td>2</td>\n",
       "      <td>(41.95469, -87.800991)</td>\n",
       "      <td>1</td>\n",
       "      <td>86</td>\n",
       "      <td>61</td>\n",
       "      <td>74</td>\n",
       "      <td>7</td>\n",
       "      <td>56</td>\n",
       "      <td>64</td>\n",
       "      <td>416</td>\n",
       "      <td>2000</td>\n",
       "      <td>0.0</td>\n",
       "      <td>29.28</td>\n",
       "      <td>29.99</td>\n",
       "      <td>8.9</td>\n",
       "      <td>18</td>\n",
       "      <td>10.0</td>\n",
       "      <td>-9</td>\n",
       "      <td>67</td>\n",
       "    </tr>\n",
       "  </tbody>\n",
       "</table>\n",
       "</div>"
      ],
      "text/plain": [
       "   id       date                                             address  \\\n",
       "0   1 2008-06-11  4100 North Oak Park Avenue, Chicago, IL 60634, USA   \n",
       "1   2 2008-06-11  4100 North Oak Park Avenue, Chicago, IL 60634, USA   \n",
       "2   3 2008-06-11  4100 North Oak Park Avenue, Chicago, IL 60634, USA   \n",
       "3   4 2008-06-11  4100 North Oak Park Avenue, Chicago, IL 60634, USA   \n",
       "4   5 2008-06-11  4100 North Oak Park Avenue, Chicago, IL 60634, USA   \n",
       "\n",
       "                  species  block           street  trap  \\\n",
       "0  CULEX PIPIENS/RESTUANS     41   N OAK PARK AVE  T002   \n",
       "1          CULEX RESTUANS     41   N OAK PARK AVE  T002   \n",
       "2           CULEX PIPIENS     41   N OAK PARK AVE  T002   \n",
       "3        CULEX SALINARIUS     41   N OAK PARK AVE  T002   \n",
       "4         CULEX TERRITANS     41   N OAK PARK AVE  T002   \n",
       "\n",
       "           address_number_and_street  latitude  longitude  address_accuracy  \\\n",
       "0  4100  N OAK PARK AVE, Chicago, IL  41.95469 -87.800991                 9   \n",
       "1  4100  N OAK PARK AVE, Chicago, IL  41.95469 -87.800991                 9   \n",
       "2  4100  N OAK PARK AVE, Chicago, IL  41.95469 -87.800991                 9   \n",
       "3  4100  N OAK PARK AVE, Chicago, IL  41.95469 -87.800991                 9   \n",
       "4  4100  N OAK PARK AVE, Chicago, IL  41.95469 -87.800991                 9   \n",
       "\n",
       "   year  month  day  week  day_of_week             coordinates  station  tmax  \\\n",
       "0  2008      6   11    24            2  (41.95469, -87.800991)        1    86   \n",
       "1  2008      6   11    24            2  (41.95469, -87.800991)        1    86   \n",
       "2  2008      6   11    24            2  (41.95469, -87.800991)        1    86   \n",
       "3  2008      6   11    24            2  (41.95469, -87.800991)        1    86   \n",
       "4  2008      6   11    24            2  (41.95469, -87.800991)        1    86   \n",
       "\n",
       "   tmin  tavg  depart  dew_point  wet_bulb  sunrise  sunset  precip_total  \\\n",
       "0    61    74       7         56        64      416    2000           0.0   \n",
       "1    61    74       7         56        64      416    2000           0.0   \n",
       "2    61    74       7         56        64      416    2000           0.0   \n",
       "3    61    74       7         56        64      416    2000           0.0   \n",
       "4    61    74       7         56        64      416    2000           0.0   \n",
       "\n",
       "   stn_pressure  sea_level  result_speed  result_dir  avg_speed  heat_cool  \\\n",
       "0         29.28      29.99           8.9          18       10.0         -9   \n",
       "1         29.28      29.99           8.9          18       10.0         -9   \n",
       "2         29.28      29.99           8.9          18       10.0         -9   \n",
       "3         29.28      29.99           8.9          18       10.0         -9   \n",
       "4         29.28      29.99           8.9          18       10.0         -9   \n",
       "\n",
       "   normal  \n",
       "0      67  \n",
       "1      67  \n",
       "2      67  \n",
       "3      67  \n",
       "4      67  "
      ]
     },
     "execution_count": 131,
     "metadata": {},
     "output_type": "execute_result"
    }
   ],
   "source": [
    "merged_test.head()"
   ]
  },
  {
   "cell_type": "markdown",
   "metadata": {
    "id": "MNmpJGAFcoT9"
   },
   "source": [
    "### Saving the DataFrames to .csv"
   ]
  },
  {
   "cell_type": "code",
   "execution_count": 132,
   "metadata": {
    "id": "Bq2NnrgEn9rJ"
   },
   "outputs": [],
   "source": [
    "merged_train.to_csv('../assets/merged_train.csv', index = False)\n",
    "merged_test.to_csv('../assets/merged_test.csv', index = False) \n",
    "spray_nonull.to_csv('../assets/cleaned_spray.csv', index = False)\n",
    "weather.to_csv('../assets/weather_analysis.csv', index = False)"
   ]
  }
 ],
 "metadata": {
  "colab": {
   "collapsed_sections": [],
   "name": "proj_4_1_cleaning.ipynb.ipynb",
   "provenance": []
  },
  "kernelspec": {
   "display_name": "Python 3",
   "language": "python",
   "name": "python3"
  },
  "language_info": {
   "codemirror_mode": {
    "name": "ipython",
    "version": 3
   },
   "file_extension": ".py",
   "mimetype": "text/x-python",
   "name": "python",
   "nbconvert_exporter": "python",
   "pygments_lexer": "ipython3",
   "version": "3.8.8"
  }
 },
 "nbformat": 4,
 "nbformat_minor": 1
}
