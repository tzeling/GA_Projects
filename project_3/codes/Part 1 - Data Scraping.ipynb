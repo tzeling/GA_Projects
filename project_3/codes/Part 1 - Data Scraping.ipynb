{
 "cells": [
  {
   "cell_type": "markdown",
   "id": "c837b134",
   "metadata": {},
   "source": [
    "## <img src=\"http://imgur.com/1ZcRyrc.png\" style=\"float: left; margin: 20px; height: 55px\">\n",
    "\n",
    "# Project 3:"
   ]
  },
  {
   "cell_type": "markdown",
   "id": "e2512577",
   "metadata": {},
   "source": [
    "## Problem Statement"
   ]
  },
  {
   "cell_type": "markdown",
   "id": "204cb85b",
   "metadata": {},
   "source": [
    "We are a group of data scientist hired by a rehabilitation center to help create a chatbot or online platform, to aid them identify users that need help. As such, we are looking into the 2 most common addictions, smoking and alcoholism, as they are the most accessible legal substances available to adults. \n",
    "\n",
    "From the subreddits r/alcoholicsanonymous and r/stopsmoking, we aim to identify whether a user is reaching out to address a smoking addiction or alcoholism.\n",
    "\n",
    "We will be using Logistic Regression and Multinomial Naive Bayers build the classification model, with the following vectorizers: CVEC (Count Vectorization) and TF-IDF (Term Frequency-Inverse Document Frequency) with the use of n-grams within each to further tune the parameters.\n",
    "\n",
    "Metrics for measure of success of the model include the train and test accuracy score, Receiver Operating Characteristic Area Under the Curve (ROC AUC), sensitivity, specificity and precision."
   ]
  },
  {
   "cell_type": "markdown",
   "id": "9a23db0e",
   "metadata": {},
   "source": [
    "### Contents:\n",
    "- [Problem Statement](#Problem-Statment)\n",
    "- [Background](#Background)\n",
    "- [Executive Summary](#Executive-Summary)\n",
    "- [Data Scraping from Subreddits](#Data-Scraping-from-Subreddits)"
   ]
  },
  {
   "cell_type": "markdown",
   "id": "04dc1b22",
   "metadata": {},
   "source": [
    "## Background"
   ]
  },
  {
   "cell_type": "markdown",
   "id": "12da3bf8",
   "metadata": {},
   "source": [
    "#### Subreddits\n",
    "Reddit is an website consisting of aggregation of forums where people share news, content and discuss any topic of their choosing ([*source*](https://www.digitaltrends.com/web/what-is-reddit/)). Reddit can be further broken down into different communities known as 'subreddits', which starts with 'r/'. For instance, r/boardgames is a subreddit for people to discuss board games, while r/starwars is a subreddit for star wars enthusiast.\n",
    "\n",
    "#### Addiction\n",
    "Addiction is a condition of being addicted to a particular substance or activity, 2 of the most common forms of addiction is to alcohol and nicotine.\n",
    "\n",
    "Alcoholism involves problems controlling a person's drinking, which persist even when it affects the person's overall quality of life. Such consumption may lead to tolerance causing the person to consume more to attain the same effect, or experiencing withdrawal symptoms when trying to cut off alcohol ([source](https://www.mayoclinic.org/diseases-conditions/alcohol-use-disorder/symptoms-causes/syc-20369243), [source](https://www.healthline.com/health/alcoholism/basics)).\n",
    "\n",
    "Cigarette smoking tends to be correlated to a host of diseases including (but not limited to) cardiovascular disease, respiratory disease and even cancer ([source](https://www.cdc.gov/tobacco/data_statistics/fact_sheets/health_effects/effects_cig_smoking/index.htm)). Despite this knowledge that a smoker may have, it is hard to quit as cigarettes contain tabacco which often leads to addiction hence making it hard to drop the habit ([source](https://www.healthhub.sg/live-healthy/615/smoking_habitoraddiction)).\n",
    "\n",
    "#### r/alcoholicsanonymous and r/stopsmoking\n",
    "Smoking and alcoholism arise as these are the most accesible legal substances available to adults. A common thread we see between these 2 types of addiction is that the difficulty one faces when trying to break the addiction. As such, when a person is looking to quit, they often seek external help, be it seeking professional treatement or a community of like-minded people. The subreddits r/alcoholicsanonymous and r/stopsmoking provide such a community to those seeking it, and with COVID-19 and the acccompanying social restrictions, these online communities provide a feasible alternative to real life meetings and support groups."
   ]
  },
  {
   "cell_type": "markdown",
   "id": "be8bff61",
   "metadata": {},
   "source": [
    "## Datasets\n",
    "\n",
    "Data was obtained through PushShift API to collect data from two subreddits.\n",
    "\n",
    "1. Pushshift API Link: https://github.com/pushshift/api\n",
    "- Pushshift API allows us to collect data from reddit.com and collect processable data using json.\n",
    "\n",
    "2. alcoholicsanonymous_raw.csv\n",
    "- Subreddit for discussing alcoholic recovery\n",
    "- Source: https://www.reddit.com/r/alcoholicsanonymous/\n",
    "\n",
    "3. stopsmoking_raw.csv \n",
    "- Subreddit for discussing smoking cessation\n",
    "- Source: https://www.reddit.com/r/stopsmoking/"
   ]
  },
  {
   "cell_type": "markdown",
   "id": "b222193c",
   "metadata": {},
   "source": [
    "### Executive Summary"
   ]
  },
  {
   "cell_type": "markdown",
   "id": "ba9c912b",
   "metadata": {},
   "source": [
    "This project aims to create a classification model based on the subreddits r/alcoholicsanonymous and r/stopsmoking to classify posts based on their key feautres.\n",
    "\n",
    "The data was scraped from both subreddits and clean through the removal of duplicate post and imputing of null values. Special characters and emojis removed via regex, and the text was cleaned through punctuation removal, tokenization and removal of stopwords. Both stemming and lemmatizing were compare to see which would be more appropriate in obtaining the root word, and lemmatizing was chosen as it produced more meaningful words. \n",
    "\n",
    "Both CVEC and TVEC were performed to see how each vectorize words, and unigram, bigram and trigrams were created for visualisation of the top features in each. New stopwords were added based on overlapping words detected in the n-grams.\n",
    "\n",
    "Both logistic regression and multinomial naive bayes were chosen as potential candidates. A pipeline with gridsearch helped to determine the optimal parameters for each of the vectorizer-model combination. The final model was CVEC/multinomial NB as it produced the highest accuracy (96.9%), though all models faired well. "
   ]
  },
  {
   "cell_type": "markdown",
   "id": "8853e3dc",
   "metadata": {},
   "source": [
    "## Import Libraries"
   ]
  },
  {
   "cell_type": "code",
   "execution_count": 1,
   "id": "19894cde",
   "metadata": {},
   "outputs": [],
   "source": [
    "import pandas as pd\n",
    "import numpy as np\n",
    "import matplotlib.pyplot as plt\n",
    "import seaborn as sns\n",
    "\n",
    "import requests\n",
    "import time\n",
    "from datetime import datetime \n",
    "import re\n",
    "\n",
    "import warnings\n",
    "warnings.filterwarnings('ignore')\n",
    "\n",
    "from wordcloud import WordCloud, STOPWORDS, ImageColorGenerator"
   ]
  },
  {
   "cell_type": "markdown",
   "id": "09163a68",
   "metadata": {},
   "source": [
    "## Data Scraping from Subreddits"
   ]
  },
  {
   "cell_type": "code",
   "execution_count": 2,
   "id": "677a8ff4",
   "metadata": {},
   "outputs": [],
   "source": [
    "# Set up function for PushShift API for data retrival from subreddit\n",
    "\n",
    "def scrape_subreddit(subreddit):\n",
    "    \n",
    "    # Define pushshift base URL\n",
    "    url = 'https://api.pushshift.io/reddit/search/submission'  \n",
    "    \n",
    "    # Set variable for 'before' in first iteration as None \n",
    "    #(would automatically pull out the latest posts)\n",
    "    df_time = None\n",
    "    \n",
    "    # Create empty df for concat loop\n",
    "    df = pd.DataFrame()\n",
    "    \n",
    "    # Create total post count for looping\n",
    "    total_posts = 0\n",
    "    \n",
    "    while total_posts < 2000:\n",
    "        \n",
    "        # Set params\n",
    "        params = {\n",
    "        'subreddit': subreddit,\n",
    "        'size': 100, \n",
    "        'before': df_time\n",
    "        }\n",
    "        \n",
    "        # Get response from PushShift API\n",
    "        res = requests.get(url, params)\n",
    "        data = res.json()\n",
    "        # Concat relevant json into df\n",
    "        df = pd.concat([df, pd.DataFrame(data['data'])]) \n",
    "        \n",
    "        # Get earliest-dated post in df\n",
    "        df_time = df['created_utc'].min()\n",
    "        #print(f'min time is {df_time}')\n",
    "    \n",
    "        # Get current length of df\n",
    "        total_posts = len(df)\n",
    "    \n",
    "    df.reset_index(inplace=True)\n",
    "        \n",
    "    return df"
   ]
  },
  {
   "cell_type": "code",
   "execution_count": 3,
   "id": "32e172fa",
   "metadata": {},
   "outputs": [],
   "source": [
    "# Defining subreddits\n",
    "subreddit_1 = 'alcoholicsanonymous'\n",
    "subreddit_2 = 'stopsmoking'"
   ]
  },
  {
   "cell_type": "code",
   "execution_count": 4,
   "id": "5a363f78",
   "metadata": {},
   "outputs": [],
   "source": [
    "# Scraping of subreddits\n",
    "df_aa = scrape_subreddit(subreddit_1)\n",
    "df_ss = scrape_subreddit(subreddit_2)"
   ]
  },
  {
   "cell_type": "code",
   "execution_count": 5,
   "id": "f4155d6a",
   "metadata": {},
   "outputs": [],
   "source": [
    "# save to csv\n",
    "df_aa.to_csv('data/alcoholicsanonymous_test.csv')\n",
    "df_ss.to_csv('data/stopsmoking_test.csv')"
   ]
  }
 ],
 "metadata": {
  "kernelspec": {
   "display_name": "Python 3",
   "language": "python",
   "name": "python3"
  },
  "language_info": {
   "codemirror_mode": {
    "name": "ipython",
    "version": 3
   },
   "file_extension": ".py",
   "mimetype": "text/x-python",
   "name": "python",
   "nbconvert_exporter": "python",
   "pygments_lexer": "ipython3",
   "version": "3.8.8"
  }
 },
 "nbformat": 4,
 "nbformat_minor": 5
}
